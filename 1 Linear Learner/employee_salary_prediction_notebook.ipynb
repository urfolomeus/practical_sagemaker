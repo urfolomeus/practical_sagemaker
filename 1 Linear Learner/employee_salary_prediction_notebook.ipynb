{
 "cells": [
  {
   "cell_type": "markdown",
   "metadata": {
    "colab_type": "text",
    "id": "M27qF7CTrBqc"
   },
   "source": [
    "# TASK #1: UNDERSTAND THE PROBLEM STATEMENT "
   ]
  },
  {
   "cell_type": "markdown",
   "metadata": {
    "colab_type": "text",
    "id": "xNl52nl3qiyL"
   },
   "source": [
    "- The objective of this case study is to predict the employee salary based on the number of years of experience. \n",
    "- In simple linear regression, we predict the value of one variable Y based on another variable X.\n",
    "- X is called the independent variable and Y is called the dependant variable.\n",
    "- Why simple? Because it examines relationship between two variables only.\n",
    "- Why linear? when the independent variable increases (or decreases), the dependent variable increases (or decreases) in a linear fashion.\n"
   ]
  },
  {
   "cell_type": "markdown",
   "metadata": {
    "colab_type": "text",
    "id": "zKmFmyaGunc7"
   },
   "source": [
    "# TASK #2: IMPORT LIBRARIES AND DATASETS"
   ]
  },
  {
   "cell_type": "code",
   "execution_count": 1,
   "metadata": {},
   "outputs": [],
   "source": [
    "# install seaborn and tensorflow libraries\n",
    "# !pip install seaborn\n",
    "# !pip install tensorflow\n",
    "\n",
    "# we need to upgrade to latest pip, pandas and numpy\n",
    "# or we hit errors further on\n",
    "# !pip install --upgrade pip\n",
    "# !pip install --upgrade numpy pandas\n",
    "\n",
    "import tensorflow as tf\n",
    "import pandas as pd\n",
    "import numpy as np\n",
    "import seaborn as sns\n",
    "import matplotlib.pyplot as plt\n"
   ]
  },
  {
   "cell_type": "code",
   "execution_count": 2,
   "metadata": {
    "colab": {},
    "colab_type": "code",
    "id": "tjIiJdM4u1IE"
   },
   "outputs": [],
   "source": [
    "# read the csv file \n",
    "salary_df = pd.read_csv('salary.csv')"
   ]
  },
  {
   "cell_type": "code",
   "execution_count": 4,
   "metadata": {
    "colab": {
     "base_uri": "https://localhost:8080/",
     "height": 204
    },
    "colab_type": "code",
    "id": "q4_wPDKCu5Uc",
    "outputId": "886d2aaf-0205-4f46-96a7-629d0f367d2f"
   },
   "outputs": [
    {
     "data": {
      "text/html": [
       "<div>\n",
       "<style scoped>\n",
       "    .dataframe tbody tr th:only-of-type {\n",
       "        vertical-align: middle;\n",
       "    }\n",
       "\n",
       "    .dataframe tbody tr th {\n",
       "        vertical-align: top;\n",
       "    }\n",
       "\n",
       "    .dataframe thead th {\n",
       "        text-align: right;\n",
       "    }\n",
       "</style>\n",
       "<table border=\"1\" class=\"dataframe\">\n",
       "  <thead>\n",
       "    <tr style=\"text-align: right;\">\n",
       "      <th></th>\n",
       "      <th>YearsExperience</th>\n",
       "      <th>Salary</th>\n",
       "    </tr>\n",
       "  </thead>\n",
       "  <tbody>\n",
       "    <tr>\n",
       "      <th>0</th>\n",
       "      <td>1.1</td>\n",
       "      <td>39343</td>\n",
       "    </tr>\n",
       "    <tr>\n",
       "      <th>1</th>\n",
       "      <td>1.3</td>\n",
       "      <td>46205</td>\n",
       "    </tr>\n",
       "    <tr>\n",
       "      <th>2</th>\n",
       "      <td>1.5</td>\n",
       "      <td>37731</td>\n",
       "    </tr>\n",
       "    <tr>\n",
       "      <th>3</th>\n",
       "      <td>2.0</td>\n",
       "      <td>43525</td>\n",
       "    </tr>\n",
       "    <tr>\n",
       "      <th>4</th>\n",
       "      <td>2.2</td>\n",
       "      <td>39891</td>\n",
       "    </tr>\n",
       "    <tr>\n",
       "      <th>5</th>\n",
       "      <td>2.9</td>\n",
       "      <td>56642</td>\n",
       "    </tr>\n",
       "    <tr>\n",
       "      <th>6</th>\n",
       "      <td>3.0</td>\n",
       "      <td>60150</td>\n",
       "    </tr>\n",
       "    <tr>\n",
       "      <th>7</th>\n",
       "      <td>3.2</td>\n",
       "      <td>54445</td>\n",
       "    </tr>\n",
       "    <tr>\n",
       "      <th>8</th>\n",
       "      <td>3.2</td>\n",
       "      <td>64445</td>\n",
       "    </tr>\n",
       "    <tr>\n",
       "      <th>9</th>\n",
       "      <td>3.7</td>\n",
       "      <td>57189</td>\n",
       "    </tr>\n",
       "    <tr>\n",
       "      <th>10</th>\n",
       "      <td>3.9</td>\n",
       "      <td>63218</td>\n",
       "    </tr>\n",
       "    <tr>\n",
       "      <th>11</th>\n",
       "      <td>4.0</td>\n",
       "      <td>55794</td>\n",
       "    </tr>\n",
       "    <tr>\n",
       "      <th>12</th>\n",
       "      <td>4.0</td>\n",
       "      <td>56957</td>\n",
       "    </tr>\n",
       "    <tr>\n",
       "      <th>13</th>\n",
       "      <td>4.1</td>\n",
       "      <td>57081</td>\n",
       "    </tr>\n",
       "    <tr>\n",
       "      <th>14</th>\n",
       "      <td>4.5</td>\n",
       "      <td>61111</td>\n",
       "    </tr>\n",
       "    <tr>\n",
       "      <th>15</th>\n",
       "      <td>4.9</td>\n",
       "      <td>67938</td>\n",
       "    </tr>\n",
       "    <tr>\n",
       "      <th>16</th>\n",
       "      <td>5.1</td>\n",
       "      <td>66029</td>\n",
       "    </tr>\n",
       "    <tr>\n",
       "      <th>17</th>\n",
       "      <td>5.3</td>\n",
       "      <td>83088</td>\n",
       "    </tr>\n",
       "    <tr>\n",
       "      <th>18</th>\n",
       "      <td>5.9</td>\n",
       "      <td>81363</td>\n",
       "    </tr>\n",
       "    <tr>\n",
       "      <th>19</th>\n",
       "      <td>6.0</td>\n",
       "      <td>93940</td>\n",
       "    </tr>\n",
       "    <tr>\n",
       "      <th>20</th>\n",
       "      <td>6.8</td>\n",
       "      <td>91738</td>\n",
       "    </tr>\n",
       "    <tr>\n",
       "      <th>21</th>\n",
       "      <td>7.1</td>\n",
       "      <td>98273</td>\n",
       "    </tr>\n",
       "    <tr>\n",
       "      <th>22</th>\n",
       "      <td>7.9</td>\n",
       "      <td>101302</td>\n",
       "    </tr>\n",
       "    <tr>\n",
       "      <th>23</th>\n",
       "      <td>8.2</td>\n",
       "      <td>113812</td>\n",
       "    </tr>\n",
       "    <tr>\n",
       "      <th>24</th>\n",
       "      <td>8.7</td>\n",
       "      <td>109431</td>\n",
       "    </tr>\n",
       "    <tr>\n",
       "      <th>25</th>\n",
       "      <td>9.0</td>\n",
       "      <td>105582</td>\n",
       "    </tr>\n",
       "    <tr>\n",
       "      <th>26</th>\n",
       "      <td>9.5</td>\n",
       "      <td>116969</td>\n",
       "    </tr>\n",
       "    <tr>\n",
       "      <th>27</th>\n",
       "      <td>9.6</td>\n",
       "      <td>112635</td>\n",
       "    </tr>\n",
       "    <tr>\n",
       "      <th>28</th>\n",
       "      <td>10.3</td>\n",
       "      <td>122391</td>\n",
       "    </tr>\n",
       "    <tr>\n",
       "      <th>29</th>\n",
       "      <td>10.5</td>\n",
       "      <td>121872</td>\n",
       "    </tr>\n",
       "    <tr>\n",
       "      <th>30</th>\n",
       "      <td>11.2</td>\n",
       "      <td>127345</td>\n",
       "    </tr>\n",
       "    <tr>\n",
       "      <th>31</th>\n",
       "      <td>11.5</td>\n",
       "      <td>126756</td>\n",
       "    </tr>\n",
       "    <tr>\n",
       "      <th>32</th>\n",
       "      <td>12.3</td>\n",
       "      <td>128765</td>\n",
       "    </tr>\n",
       "    <tr>\n",
       "      <th>33</th>\n",
       "      <td>12.9</td>\n",
       "      <td>135675</td>\n",
       "    </tr>\n",
       "    <tr>\n",
       "      <th>34</th>\n",
       "      <td>13.5</td>\n",
       "      <td>139465</td>\n",
       "    </tr>\n",
       "  </tbody>\n",
       "</table>\n",
       "</div>"
      ],
      "text/plain": [
       "    YearsExperience  Salary\n",
       "0               1.1   39343\n",
       "1               1.3   46205\n",
       "2               1.5   37731\n",
       "3               2.0   43525\n",
       "4               2.2   39891\n",
       "5               2.9   56642\n",
       "6               3.0   60150\n",
       "7               3.2   54445\n",
       "8               3.2   64445\n",
       "9               3.7   57189\n",
       "10              3.9   63218\n",
       "11              4.0   55794\n",
       "12              4.0   56957\n",
       "13              4.1   57081\n",
       "14              4.5   61111\n",
       "15              4.9   67938\n",
       "16              5.1   66029\n",
       "17              5.3   83088\n",
       "18              5.9   81363\n",
       "19              6.0   93940\n",
       "20              6.8   91738\n",
       "21              7.1   98273\n",
       "22              7.9  101302\n",
       "23              8.2  113812\n",
       "24              8.7  109431\n",
       "25              9.0  105582\n",
       "26              9.5  116969\n",
       "27              9.6  112635\n",
       "28             10.3  122391\n",
       "29             10.5  121872\n",
       "30             11.2  127345\n",
       "31             11.5  126756\n",
       "32             12.3  128765\n",
       "33             12.9  135675\n",
       "34             13.5  139465"
      ]
     },
     "execution_count": 4,
     "metadata": {},
     "output_type": "execute_result"
    }
   ],
   "source": [
    "salary_df"
   ]
  },
  {
   "cell_type": "markdown",
   "metadata": {},
   "source": [
    "MINI CHALLENGE\n",
    " - Use head and tail methods to print the first and last 7 rows of the dataframe\n",
    " - Try to find the maximum salary value in the dataframe "
   ]
  },
  {
   "cell_type": "code",
   "execution_count": 5,
   "metadata": {},
   "outputs": [
    {
     "data": {
      "text/html": [
       "<div>\n",
       "<style scoped>\n",
       "    .dataframe tbody tr th:only-of-type {\n",
       "        vertical-align: middle;\n",
       "    }\n",
       "\n",
       "    .dataframe tbody tr th {\n",
       "        vertical-align: top;\n",
       "    }\n",
       "\n",
       "    .dataframe thead th {\n",
       "        text-align: right;\n",
       "    }\n",
       "</style>\n",
       "<table border=\"1\" class=\"dataframe\">\n",
       "  <thead>\n",
       "    <tr style=\"text-align: right;\">\n",
       "      <th></th>\n",
       "      <th>YearsExperience</th>\n",
       "      <th>Salary</th>\n",
       "    </tr>\n",
       "  </thead>\n",
       "  <tbody>\n",
       "    <tr>\n",
       "      <th>0</th>\n",
       "      <td>1.1</td>\n",
       "      <td>39343</td>\n",
       "    </tr>\n",
       "    <tr>\n",
       "      <th>1</th>\n",
       "      <td>1.3</td>\n",
       "      <td>46205</td>\n",
       "    </tr>\n",
       "    <tr>\n",
       "      <th>2</th>\n",
       "      <td>1.5</td>\n",
       "      <td>37731</td>\n",
       "    </tr>\n",
       "    <tr>\n",
       "      <th>3</th>\n",
       "      <td>2.0</td>\n",
       "      <td>43525</td>\n",
       "    </tr>\n",
       "    <tr>\n",
       "      <th>4</th>\n",
       "      <td>2.2</td>\n",
       "      <td>39891</td>\n",
       "    </tr>\n",
       "    <tr>\n",
       "      <th>5</th>\n",
       "      <td>2.9</td>\n",
       "      <td>56642</td>\n",
       "    </tr>\n",
       "    <tr>\n",
       "      <th>6</th>\n",
       "      <td>3.0</td>\n",
       "      <td>60150</td>\n",
       "    </tr>\n",
       "  </tbody>\n",
       "</table>\n",
       "</div>"
      ],
      "text/plain": [
       "   YearsExperience  Salary\n",
       "0              1.1   39343\n",
       "1              1.3   46205\n",
       "2              1.5   37731\n",
       "3              2.0   43525\n",
       "4              2.2   39891\n",
       "5              2.9   56642\n",
       "6              3.0   60150"
      ]
     },
     "execution_count": 5,
     "metadata": {},
     "output_type": "execute_result"
    }
   ],
   "source": [
    "salary_df.head(7)"
   ]
  },
  {
   "cell_type": "code",
   "execution_count": 6,
   "metadata": {},
   "outputs": [
    {
     "data": {
      "text/html": [
       "<div>\n",
       "<style scoped>\n",
       "    .dataframe tbody tr th:only-of-type {\n",
       "        vertical-align: middle;\n",
       "    }\n",
       "\n",
       "    .dataframe tbody tr th {\n",
       "        vertical-align: top;\n",
       "    }\n",
       "\n",
       "    .dataframe thead th {\n",
       "        text-align: right;\n",
       "    }\n",
       "</style>\n",
       "<table border=\"1\" class=\"dataframe\">\n",
       "  <thead>\n",
       "    <tr style=\"text-align: right;\">\n",
       "      <th></th>\n",
       "      <th>YearsExperience</th>\n",
       "      <th>Salary</th>\n",
       "    </tr>\n",
       "  </thead>\n",
       "  <tbody>\n",
       "    <tr>\n",
       "      <th>28</th>\n",
       "      <td>10.3</td>\n",
       "      <td>122391</td>\n",
       "    </tr>\n",
       "    <tr>\n",
       "      <th>29</th>\n",
       "      <td>10.5</td>\n",
       "      <td>121872</td>\n",
       "    </tr>\n",
       "    <tr>\n",
       "      <th>30</th>\n",
       "      <td>11.2</td>\n",
       "      <td>127345</td>\n",
       "    </tr>\n",
       "    <tr>\n",
       "      <th>31</th>\n",
       "      <td>11.5</td>\n",
       "      <td>126756</td>\n",
       "    </tr>\n",
       "    <tr>\n",
       "      <th>32</th>\n",
       "      <td>12.3</td>\n",
       "      <td>128765</td>\n",
       "    </tr>\n",
       "    <tr>\n",
       "      <th>33</th>\n",
       "      <td>12.9</td>\n",
       "      <td>135675</td>\n",
       "    </tr>\n",
       "    <tr>\n",
       "      <th>34</th>\n",
       "      <td>13.5</td>\n",
       "      <td>139465</td>\n",
       "    </tr>\n",
       "  </tbody>\n",
       "</table>\n",
       "</div>"
      ],
      "text/plain": [
       "    YearsExperience  Salary\n",
       "28             10.3  122391\n",
       "29             10.5  121872\n",
       "30             11.2  127345\n",
       "31             11.5  126756\n",
       "32             12.3  128765\n",
       "33             12.9  135675\n",
       "34             13.5  139465"
      ]
     },
     "execution_count": 6,
     "metadata": {},
     "output_type": "execute_result"
    }
   ],
   "source": [
    "salary_df.tail(7)"
   ]
  },
  {
   "cell_type": "code",
   "execution_count": 7,
   "metadata": {},
   "outputs": [
    {
     "data": {
      "text/plain": [
       "139465"
      ]
     },
     "execution_count": 7,
     "metadata": {},
     "output_type": "execute_result"
    }
   ],
   "source": [
    "salary_df['Salary'].max()"
   ]
  },
  {
   "cell_type": "markdown",
   "metadata": {
    "colab_type": "text",
    "id": "tMcr7xqMQre2"
   },
   "source": [
    "# TASK #3: PERFORM EXPLORATORY DATA ANALYSIS AND VISUALIZATION"
   ]
  },
  {
   "cell_type": "code",
   "execution_count": 8,
   "metadata": {},
   "outputs": [
    {
     "data": {
      "text/plain": [
       "<matplotlib.axes._subplots.AxesSubplot at 0x7ff9242a4210>"
      ]
     },
     "execution_count": 8,
     "metadata": {},
     "output_type": "execute_result"
    },
    {
     "data": {
      "image/png": "[encoded data removed]",
      "text/plain": [
       "<Figure size 432x288 with 1 Axes>"
      ]
     },
     "metadata": {
      "needs_background": "light"
     },
     "output_type": "display_data"
    }
   ],
   "source": [
    "# check if there are any Null values\n",
    "sns.heatmap(salary_df.isnull(), yticklabels = False, cbar = False, cmap=\"Blues\")\n"
   ]
  },
  {
   "cell_type": "code",
   "execution_count": 9,
   "metadata": {
    "colab": {
     "base_uri": "https://localhost:8080/",
     "height": 272
    },
    "colab_type": "code",
    "id": "hMq3-KWOx0e1",
    "outputId": "22a5b184-1f07-46ef-dfc1-f8377fd7042f",
    "scrolled": true
   },
   "outputs": [
    {
     "name": "stdout",
     "output_type": "stream",
     "text": [
      "<class 'pandas.core.frame.DataFrame'>\n",
      "RangeIndex: 35 entries, 0 to 34\n",
      "Data columns (total 2 columns):\n",
      " #   Column           Non-Null Count  Dtype  \n",
      "---  ------           --------------  -----  \n",
      " 0   YearsExperience  35 non-null     float64\n",
      " 1   Salary           35 non-null     int64  \n",
      "dtypes: float64(1), int64(1)\n",
      "memory usage: 688.0 bytes\n"
     ]
    }
   ],
   "source": [
    "# Check the dataframe info\n",
    "\n",
    "salary_df.info()"
   ]
  },
  {
   "cell_type": "code",
   "execution_count": 10,
   "metadata": {
    "colab": {
     "base_uri": "https://localhost:8080/",
     "height": 297
    },
    "colab_type": "code",
    "id": "Nn1Oxk2SzPX3",
    "outputId": "95f0265a-5e75-4a32-d771-4b3d15850c3c"
   },
   "outputs": [
    {
     "data": {
      "text/html": [
       "<div>\n",
       "<style scoped>\n",
       "    .dataframe tbody tr th:only-of-type {\n",
       "        vertical-align: middle;\n",
       "    }\n",
       "\n",
       "    .dataframe tbody tr th {\n",
       "        vertical-align: top;\n",
       "    }\n",
       "\n",
       "    .dataframe thead th {\n",
       "        text-align: right;\n",
       "    }\n",
       "</style>\n",
       "<table border=\"1\" class=\"dataframe\">\n",
       "  <thead>\n",
       "    <tr style=\"text-align: right;\">\n",
       "      <th></th>\n",
       "      <th>YearsExperience</th>\n",
       "      <th>Salary</th>\n",
       "    </tr>\n",
       "  </thead>\n",
       "  <tbody>\n",
       "    <tr>\n",
       "      <th>count</th>\n",
       "      <td>35.000000</td>\n",
       "      <td>35.000000</td>\n",
       "    </tr>\n",
       "    <tr>\n",
       "      <th>mean</th>\n",
       "      <td>6.308571</td>\n",
       "      <td>83945.600000</td>\n",
       "    </tr>\n",
       "    <tr>\n",
       "      <th>std</th>\n",
       "      <td>3.618610</td>\n",
       "      <td>32162.673003</td>\n",
       "    </tr>\n",
       "    <tr>\n",
       "      <th>min</th>\n",
       "      <td>1.100000</td>\n",
       "      <td>37731.000000</td>\n",
       "    </tr>\n",
       "    <tr>\n",
       "      <th>25%</th>\n",
       "      <td>3.450000</td>\n",
       "      <td>57019.000000</td>\n",
       "    </tr>\n",
       "    <tr>\n",
       "      <th>50%</th>\n",
       "      <td>5.300000</td>\n",
       "      <td>81363.000000</td>\n",
       "    </tr>\n",
       "    <tr>\n",
       "      <th>75%</th>\n",
       "      <td>9.250000</td>\n",
       "      <td>113223.500000</td>\n",
       "    </tr>\n",
       "    <tr>\n",
       "      <th>max</th>\n",
       "      <td>13.500000</td>\n",
       "      <td>139465.000000</td>\n",
       "    </tr>\n",
       "  </tbody>\n",
       "</table>\n",
       "</div>"
      ],
      "text/plain": [
       "       YearsExperience         Salary\n",
       "count        35.000000      35.000000\n",
       "mean          6.308571   83945.600000\n",
       "std           3.618610   32162.673003\n",
       "min           1.100000   37731.000000\n",
       "25%           3.450000   57019.000000\n",
       "50%           5.300000   81363.000000\n",
       "75%           9.250000  113223.500000\n",
       "max          13.500000  139465.000000"
      ]
     },
     "execution_count": 10,
     "metadata": {},
     "output_type": "execute_result"
    }
   ],
   "source": [
    "# Statistical summary of the dataframe\n",
    "\n",
    "salary_df.describe()"
   ]
  },
  {
   "cell_type": "markdown",
   "metadata": {},
   "source": [
    "MINI CHALLENGE\n",
    " - What are the number of years of experience corresponding to employees with minimum and maximim salaries?"
   ]
  },
  {
   "cell_type": "code",
   "execution_count": 23,
   "metadata": {},
   "outputs": [
    {
     "data": {
      "text/html": [
       "<div>\n",
       "<style scoped>\n",
       "    .dataframe tbody tr th:only-of-type {\n",
       "        vertical-align: middle;\n",
       "    }\n",
       "\n",
       "    .dataframe tbody tr th {\n",
       "        vertical-align: top;\n",
       "    }\n",
       "\n",
       "    .dataframe thead th {\n",
       "        text-align: right;\n",
       "    }\n",
       "</style>\n",
       "<table border=\"1\" class=\"dataframe\">\n",
       "  <thead>\n",
       "    <tr style=\"text-align: right;\">\n",
       "      <th></th>\n",
       "      <th>YearsExperience</th>\n",
       "      <th>Salary</th>\n",
       "    </tr>\n",
       "  </thead>\n",
       "  <tbody>\n",
       "    <tr>\n",
       "      <th>2</th>\n",
       "      <td>1.5</td>\n",
       "      <td>37731</td>\n",
       "    </tr>\n",
       "  </tbody>\n",
       "</table>\n",
       "</div>"
      ],
      "text/plain": [
       "   YearsExperience  Salary\n",
       "2              1.5   37731"
      ]
     },
     "execution_count": 23,
     "metadata": {},
     "output_type": "execute_result"
    }
   ],
   "source": [
    "min = salary_df[(salary_df.Salary == salary_df['Salary'].min())]\n",
    "min"
   ]
  },
  {
   "cell_type": "code",
   "execution_count": 24,
   "metadata": {},
   "outputs": [
    {
     "data": {
      "text/html": [
       "<div>\n",
       "<style scoped>\n",
       "    .dataframe tbody tr th:only-of-type {\n",
       "        vertical-align: middle;\n",
       "    }\n",
       "\n",
       "    .dataframe tbody tr th {\n",
       "        vertical-align: top;\n",
       "    }\n",
       "\n",
       "    .dataframe thead th {\n",
       "        text-align: right;\n",
       "    }\n",
       "</style>\n",
       "<table border=\"1\" class=\"dataframe\">\n",
       "  <thead>\n",
       "    <tr style=\"text-align: right;\">\n",
       "      <th></th>\n",
       "      <th>YearsExperience</th>\n",
       "      <th>Salary</th>\n",
       "    </tr>\n",
       "  </thead>\n",
       "  <tbody>\n",
       "    <tr>\n",
       "      <th>34</th>\n",
       "      <td>13.5</td>\n",
       "      <td>139465</td>\n",
       "    </tr>\n",
       "  </tbody>\n",
       "</table>\n",
       "</div>"
      ],
      "text/plain": [
       "    YearsExperience  Salary\n",
       "34             13.5  139465"
      ]
     },
     "execution_count": 24,
     "metadata": {},
     "output_type": "execute_result"
    }
   ],
   "source": [
    "max = salary_df[(salary_df.Salary == salary_df['Salary'].max())]\n",
    "max"
   ]
  },
  {
   "cell_type": "code",
   "execution_count": 25,
   "metadata": {},
   "outputs": [
    {
     "data": {
      "text/plain": [
       "array([[<matplotlib.axes._subplots.AxesSubplot object at 0x7ff8aa65ed90>,\n",
       "        <matplotlib.axes._subplots.AxesSubplot object at 0x7ff8aa67bb90>]],\n",
       "      dtype=object)"
      ]
     },
     "execution_count": 25,
     "metadata": {},
     "output_type": "execute_result"
    },
    {
     "data": {
      "image/png": "[encoded data removed]",
      "text/plain": [
       "<Figure size 1440x720 with 2 Axes>"
      ]
     },
     "metadata": {
      "needs_background": "light"
     },
     "output_type": "display_data"
    }
   ],
   "source": [
    "salary_df.hist(bins = 30, figsize = (20,10), color = 'r')\n"
   ]
  },
  {
   "cell_type": "code",
   "execution_count": 26,
   "metadata": {
    "colab": {
     "base_uri": "https://localhost:8080/",
     "height": 1000
    },
    "colab_type": "code",
    "id": "Ka9uFRXSkWHw",
    "outputId": "f42a681e-93d4-4b1f-a29c-f58fc8a6f974"
   },
   "outputs": [
    {
     "data": {
      "text/plain": [
       "<seaborn.axisgrid.PairGrid at 0x7ff8aa5ad710>"
      ]
     },
     "execution_count": 26,
     "metadata": {},
     "output_type": "execute_result"
    },
    {
     "data": {
      "image/png": "[encoded data removed]",
      "text/plain": [
       "<Figure size 360x360 with 6 Axes>"
      ]
     },
     "metadata": {
      "needs_background": "light"
     },
     "output_type": "display_data"
    }
   ],
   "source": [
    "# plot pairplot\n",
    "\n",
    "sns.pairplot(salary_df)"
   ]
  },
  {
   "cell_type": "code",
   "execution_count": 30,
   "metadata": {
    "colab": {
     "base_uri": "https://localhost:8080/",
     "height": 297
    },
    "colab_type": "code",
    "id": "9q-tFxvskWDa",
    "outputId": "8834e9ec-7676-4e86-c5e7-20f4e9eccbcb"
   },
   "outputs": [
    {
     "data": {
      "text/plain": [
       "<matplotlib.axes._subplots.AxesSubplot at 0x7ff8aa700610>"
      ]
     },
     "execution_count": 30,
     "metadata": {},
     "output_type": "execute_result"
    },
    {
     "data": {
      "image/png": "[encoded data removed]",
      "text/plain": [
       "<Figure size 432x288 with 2 Axes>"
      ]
     },
     "metadata": {
      "needs_background": "light"
     },
     "output_type": "display_data"
    }
   ],
   "source": [
    "corr_matrix = salary_df.corr()\n",
    "sns.heatmap(corr_matrix, annot = True)\n",
    "# plt.show()"
   ]
  },
  {
   "cell_type": "markdown",
   "metadata": {},
   "source": [
    "MINI CHALLENGE\n",
    "- Use regplot in Seaborn to obtain a straight line fit between \"salary\" and \"years of experience\""
   ]
  },
  {
   "cell_type": "code",
   "execution_count": 32,
   "metadata": {},
   "outputs": [
    {
     "data": {
      "text/plain": [
       "<matplotlib.axes._subplots.AxesSubplot at 0x7ff8aa2cb4d0>"
      ]
     },
     "execution_count": 32,
     "metadata": {},
     "output_type": "execute_result"
    },
    {
     "data": {
      "image/png": "[encoded data removed]",
      "text/plain": [
       "<Figure size 432x288 with 1 Axes>"
      ]
     },
     "metadata": {
      "needs_background": "light"
     },
     "output_type": "display_data"
    }
   ],
   "source": [
    "sns.regplot(data=salary_df, x=\"YearsExperience\", y=\"Salary\")"
   ]
  },
  {
   "cell_type": "markdown",
   "metadata": {
    "colab_type": "text",
    "id": "53qDZFRn3-S1"
   },
   "source": [
    "# TASK #4: CREATE TRAINING AND TESTING DATASET"
   ]
  },
  {
   "cell_type": "code",
   "execution_count": 33,
   "metadata": {
    "colab": {},
    "colab_type": "code",
    "id": "4OXZB2F21e4H"
   },
   "outputs": [],
   "source": [
    "X = salary_df[['YearsExperience']]\n",
    "y = salary_df[['Salary']]\n"
   ]
  },
  {
   "cell_type": "code",
   "execution_count": 36,
   "metadata": {
    "scrolled": true
   },
   "outputs": [
    {
     "data": {
      "text/html": [
       "<div>\n",
       "<style scoped>\n",
       "    .dataframe tbody tr th:only-of-type {\n",
       "        vertical-align: middle;\n",
       "    }\n",
       "\n",
       "    .dataframe tbody tr th {\n",
       "        vertical-align: top;\n",
       "    }\n",
       "\n",
       "    .dataframe thead th {\n",
       "        text-align: right;\n",
       "    }\n",
       "</style>\n",
       "<table border=\"1\" class=\"dataframe\">\n",
       "  <thead>\n",
       "    <tr style=\"text-align: right;\">\n",
       "      <th></th>\n",
       "      <th>YearsExperience</th>\n",
       "    </tr>\n",
       "  </thead>\n",
       "  <tbody>\n",
       "    <tr>\n",
       "      <th>0</th>\n",
       "      <td>1.1</td>\n",
       "    </tr>\n",
       "    <tr>\n",
       "      <th>1</th>\n",
       "      <td>1.3</td>\n",
       "    </tr>\n",
       "    <tr>\n",
       "      <th>2</th>\n",
       "      <td>1.5</td>\n",
       "    </tr>\n",
       "    <tr>\n",
       "      <th>3</th>\n",
       "      <td>2.0</td>\n",
       "    </tr>\n",
       "    <tr>\n",
       "      <th>4</th>\n",
       "      <td>2.2</td>\n",
       "    </tr>\n",
       "    <tr>\n",
       "      <th>5</th>\n",
       "      <td>2.9</td>\n",
       "    </tr>\n",
       "    <tr>\n",
       "      <th>6</th>\n",
       "      <td>3.0</td>\n",
       "    </tr>\n",
       "    <tr>\n",
       "      <th>7</th>\n",
       "      <td>3.2</td>\n",
       "    </tr>\n",
       "    <tr>\n",
       "      <th>8</th>\n",
       "      <td>3.2</td>\n",
       "    </tr>\n",
       "    <tr>\n",
       "      <th>9</th>\n",
       "      <td>3.7</td>\n",
       "    </tr>\n",
       "    <tr>\n",
       "      <th>10</th>\n",
       "      <td>3.9</td>\n",
       "    </tr>\n",
       "    <tr>\n",
       "      <th>11</th>\n",
       "      <td>4.0</td>\n",
       "    </tr>\n",
       "    <tr>\n",
       "      <th>12</th>\n",
       "      <td>4.0</td>\n",
       "    </tr>\n",
       "    <tr>\n",
       "      <th>13</th>\n",
       "      <td>4.1</td>\n",
       "    </tr>\n",
       "    <tr>\n",
       "      <th>14</th>\n",
       "      <td>4.5</td>\n",
       "    </tr>\n",
       "    <tr>\n",
       "      <th>15</th>\n",
       "      <td>4.9</td>\n",
       "    </tr>\n",
       "    <tr>\n",
       "      <th>16</th>\n",
       "      <td>5.1</td>\n",
       "    </tr>\n",
       "    <tr>\n",
       "      <th>17</th>\n",
       "      <td>5.3</td>\n",
       "    </tr>\n",
       "    <tr>\n",
       "      <th>18</th>\n",
       "      <td>5.9</td>\n",
       "    </tr>\n",
       "    <tr>\n",
       "      <th>19</th>\n",
       "      <td>6.0</td>\n",
       "    </tr>\n",
       "    <tr>\n",
       "      <th>20</th>\n",
       "      <td>6.8</td>\n",
       "    </tr>\n",
       "    <tr>\n",
       "      <th>21</th>\n",
       "      <td>7.1</td>\n",
       "    </tr>\n",
       "    <tr>\n",
       "      <th>22</th>\n",
       "      <td>7.9</td>\n",
       "    </tr>\n",
       "    <tr>\n",
       "      <th>23</th>\n",
       "      <td>8.2</td>\n",
       "    </tr>\n",
       "    <tr>\n",
       "      <th>24</th>\n",
       "      <td>8.7</td>\n",
       "    </tr>\n",
       "    <tr>\n",
       "      <th>25</th>\n",
       "      <td>9.0</td>\n",
       "    </tr>\n",
       "    <tr>\n",
       "      <th>26</th>\n",
       "      <td>9.5</td>\n",
       "    </tr>\n",
       "    <tr>\n",
       "      <th>27</th>\n",
       "      <td>9.6</td>\n",
       "    </tr>\n",
       "    <tr>\n",
       "      <th>28</th>\n",
       "      <td>10.3</td>\n",
       "    </tr>\n",
       "    <tr>\n",
       "      <th>29</th>\n",
       "      <td>10.5</td>\n",
       "    </tr>\n",
       "    <tr>\n",
       "      <th>30</th>\n",
       "      <td>11.2</td>\n",
       "    </tr>\n",
       "    <tr>\n",
       "      <th>31</th>\n",
       "      <td>11.5</td>\n",
       "    </tr>\n",
       "    <tr>\n",
       "      <th>32</th>\n",
       "      <td>12.3</td>\n",
       "    </tr>\n",
       "    <tr>\n",
       "      <th>33</th>\n",
       "      <td>12.9</td>\n",
       "    </tr>\n",
       "    <tr>\n",
       "      <th>34</th>\n",
       "      <td>13.5</td>\n",
       "    </tr>\n",
       "  </tbody>\n",
       "</table>\n",
       "</div>"
      ],
      "text/plain": [
       "    YearsExperience\n",
       "0               1.1\n",
       "1               1.3\n",
       "2               1.5\n",
       "3               2.0\n",
       "4               2.2\n",
       "5               2.9\n",
       "6               3.0\n",
       "7               3.2\n",
       "8               3.2\n",
       "9               3.7\n",
       "10              3.9\n",
       "11              4.0\n",
       "12              4.0\n",
       "13              4.1\n",
       "14              4.5\n",
       "15              4.9\n",
       "16              5.1\n",
       "17              5.3\n",
       "18              5.9\n",
       "19              6.0\n",
       "20              6.8\n",
       "21              7.1\n",
       "22              7.9\n",
       "23              8.2\n",
       "24              8.7\n",
       "25              9.0\n",
       "26              9.5\n",
       "27              9.6\n",
       "28             10.3\n",
       "29             10.5\n",
       "30             11.2\n",
       "31             11.5\n",
       "32             12.3\n",
       "33             12.9\n",
       "34             13.5"
      ]
     },
     "execution_count": 36,
     "metadata": {},
     "output_type": "execute_result"
    }
   ],
   "source": [
    "X  ## note that X is uppercase, this is idiomatic for the input variable"
   ]
  },
  {
   "cell_type": "code",
   "execution_count": 35,
   "metadata": {},
   "outputs": [
    {
     "data": {
      "text/html": [
       "<div>\n",
       "<style scoped>\n",
       "    .dataframe tbody tr th:only-of-type {\n",
       "        vertical-align: middle;\n",
       "    }\n",
       "\n",
       "    .dataframe tbody tr th {\n",
       "        vertical-align: top;\n",
       "    }\n",
       "\n",
       "    .dataframe thead th {\n",
       "        text-align: right;\n",
       "    }\n",
       "</style>\n",
       "<table border=\"1\" class=\"dataframe\">\n",
       "  <thead>\n",
       "    <tr style=\"text-align: right;\">\n",
       "      <th></th>\n",
       "      <th>Salary</th>\n",
       "    </tr>\n",
       "  </thead>\n",
       "  <tbody>\n",
       "    <tr>\n",
       "      <th>0</th>\n",
       "      <td>39343</td>\n",
       "    </tr>\n",
       "    <tr>\n",
       "      <th>1</th>\n",
       "      <td>46205</td>\n",
       "    </tr>\n",
       "    <tr>\n",
       "      <th>2</th>\n",
       "      <td>37731</td>\n",
       "    </tr>\n",
       "    <tr>\n",
       "      <th>3</th>\n",
       "      <td>43525</td>\n",
       "    </tr>\n",
       "    <tr>\n",
       "      <th>4</th>\n",
       "      <td>39891</td>\n",
       "    </tr>\n",
       "    <tr>\n",
       "      <th>5</th>\n",
       "      <td>56642</td>\n",
       "    </tr>\n",
       "    <tr>\n",
       "      <th>6</th>\n",
       "      <td>60150</td>\n",
       "    </tr>\n",
       "    <tr>\n",
       "      <th>7</th>\n",
       "      <td>54445</td>\n",
       "    </tr>\n",
       "    <tr>\n",
       "      <th>8</th>\n",
       "      <td>64445</td>\n",
       "    </tr>\n",
       "    <tr>\n",
       "      <th>9</th>\n",
       "      <td>57189</td>\n",
       "    </tr>\n",
       "    <tr>\n",
       "      <th>10</th>\n",
       "      <td>63218</td>\n",
       "    </tr>\n",
       "    <tr>\n",
       "      <th>11</th>\n",
       "      <td>55794</td>\n",
       "    </tr>\n",
       "    <tr>\n",
       "      <th>12</th>\n",
       "      <td>56957</td>\n",
       "    </tr>\n",
       "    <tr>\n",
       "      <th>13</th>\n",
       "      <td>57081</td>\n",
       "    </tr>\n",
       "    <tr>\n",
       "      <th>14</th>\n",
       "      <td>61111</td>\n",
       "    </tr>\n",
       "    <tr>\n",
       "      <th>15</th>\n",
       "      <td>67938</td>\n",
       "    </tr>\n",
       "    <tr>\n",
       "      <th>16</th>\n",
       "      <td>66029</td>\n",
       "    </tr>\n",
       "    <tr>\n",
       "      <th>17</th>\n",
       "      <td>83088</td>\n",
       "    </tr>\n",
       "    <tr>\n",
       "      <th>18</th>\n",
       "      <td>81363</td>\n",
       "    </tr>\n",
       "    <tr>\n",
       "      <th>19</th>\n",
       "      <td>93940</td>\n",
       "    </tr>\n",
       "    <tr>\n",
       "      <th>20</th>\n",
       "      <td>91738</td>\n",
       "    </tr>\n",
       "    <tr>\n",
       "      <th>21</th>\n",
       "      <td>98273</td>\n",
       "    </tr>\n",
       "    <tr>\n",
       "      <th>22</th>\n",
       "      <td>101302</td>\n",
       "    </tr>\n",
       "    <tr>\n",
       "      <th>23</th>\n",
       "      <td>113812</td>\n",
       "    </tr>\n",
       "    <tr>\n",
       "      <th>24</th>\n",
       "      <td>109431</td>\n",
       "    </tr>\n",
       "    <tr>\n",
       "      <th>25</th>\n",
       "      <td>105582</td>\n",
       "    </tr>\n",
       "    <tr>\n",
       "      <th>26</th>\n",
       "      <td>116969</td>\n",
       "    </tr>\n",
       "    <tr>\n",
       "      <th>27</th>\n",
       "      <td>112635</td>\n",
       "    </tr>\n",
       "    <tr>\n",
       "      <th>28</th>\n",
       "      <td>122391</td>\n",
       "    </tr>\n",
       "    <tr>\n",
       "      <th>29</th>\n",
       "      <td>121872</td>\n",
       "    </tr>\n",
       "    <tr>\n",
       "      <th>30</th>\n",
       "      <td>127345</td>\n",
       "    </tr>\n",
       "    <tr>\n",
       "      <th>31</th>\n",
       "      <td>126756</td>\n",
       "    </tr>\n",
       "    <tr>\n",
       "      <th>32</th>\n",
       "      <td>128765</td>\n",
       "    </tr>\n",
       "    <tr>\n",
       "      <th>33</th>\n",
       "      <td>135675</td>\n",
       "    </tr>\n",
       "    <tr>\n",
       "      <th>34</th>\n",
       "      <td>139465</td>\n",
       "    </tr>\n",
       "  </tbody>\n",
       "</table>\n",
       "</div>"
      ],
      "text/plain": [
       "    Salary\n",
       "0    39343\n",
       "1    46205\n",
       "2    37731\n",
       "3    43525\n",
       "4    39891\n",
       "5    56642\n",
       "6    60150\n",
       "7    54445\n",
       "8    64445\n",
       "9    57189\n",
       "10   63218\n",
       "11   55794\n",
       "12   56957\n",
       "13   57081\n",
       "14   61111\n",
       "15   67938\n",
       "16   66029\n",
       "17   83088\n",
       "18   81363\n",
       "19   93940\n",
       "20   91738\n",
       "21   98273\n",
       "22  101302\n",
       "23  113812\n",
       "24  109431\n",
       "25  105582\n",
       "26  116969\n",
       "27  112635\n",
       "28  122391\n",
       "29  121872\n",
       "30  127345\n",
       "31  126756\n",
       "32  128765\n",
       "33  135675\n",
       "34  139465"
      ]
     },
     "execution_count": 35,
     "metadata": {},
     "output_type": "execute_result"
    }
   ],
   "source": [
    "y"
   ]
  },
  {
   "cell_type": "code",
   "execution_count": 13,
   "metadata": {
    "colab": {
     "base_uri": "https://localhost:8080/",
     "height": 34
    },
    "colab_type": "code",
    "id": "XpGU63Ne1e9P",
    "outputId": "e16c74ca-dc1c-416c-dc44-7f927bb99bc6"
   },
   "outputs": [
    {
     "data": {
      "text/plain": [
       "(35, 1)"
      ]
     },
     "execution_count": 13,
     "metadata": {},
     "output_type": "execute_result"
    }
   ],
   "source": [
    "X.shape"
   ]
  },
  {
   "cell_type": "code",
   "execution_count": 14,
   "metadata": {
    "colab": {
     "base_uri": "https://localhost:8080/",
     "height": 34
    },
    "colab_type": "code",
    "id": "OjGj0RALA0qZ",
    "outputId": "26559a6c-880b-45b4-a1e8-3c4b92bea889"
   },
   "outputs": [
    {
     "data": {
      "text/plain": [
       "(35, 1)"
      ]
     },
     "execution_count": 14,
     "metadata": {},
     "output_type": "execute_result"
    }
   ],
   "source": [
    "y.shape"
   ]
  },
  {
   "cell_type": "code",
   "execution_count": 37,
   "metadata": {
    "colab": {},
    "colab_type": "code",
    "id": "jIeiK1maA6mm"
   },
   "outputs": [],
   "source": [
    "# later on, when we use Linear Learner, it will require us to use Float32 and so we convert here\n",
    "X = np.array(X).astype('float32')\n",
    "y = np.array(y).astype('float32')"
   ]
  },
  {
   "cell_type": "code",
   "execution_count": 38,
   "metadata": {},
   "outputs": [
    {
     "data": {
      "text/plain": [
       "array([[ 1.1],\n",
       "       [ 1.3],\n",
       "       [ 1.5],\n",
       "       [ 2. ],\n",
       "       [ 2.2],\n",
       "       [ 2.9],\n",
       "       [ 3. ],\n",
       "       [ 3.2],\n",
       "       [ 3.2],\n",
       "       [ 3.7],\n",
       "       [ 3.9],\n",
       "       [ 4. ],\n",
       "       [ 4. ],\n",
       "       [ 4.1],\n",
       "       [ 4.5],\n",
       "       [ 4.9],\n",
       "       [ 5.1],\n",
       "       [ 5.3],\n",
       "       [ 5.9],\n",
       "       [ 6. ],\n",
       "       [ 6.8],\n",
       "       [ 7.1],\n",
       "       [ 7.9],\n",
       "       [ 8.2],\n",
       "       [ 8.7],\n",
       "       [ 9. ],\n",
       "       [ 9.5],\n",
       "       [ 9.6],\n",
       "       [10.3],\n",
       "       [10.5],\n",
       "       [11.2],\n",
       "       [11.5],\n",
       "       [12.3],\n",
       "       [12.9],\n",
       "       [13.5]], dtype=float32)"
      ]
     },
     "execution_count": 38,
     "metadata": {},
     "output_type": "execute_result"
    }
   ],
   "source": [
    "# Only take the numerical variables and scale them\n",
    "X "
   ]
  },
  {
   "cell_type": "code",
   "execution_count": 71,
   "metadata": {
    "colab": {},
    "colab_type": "code",
    "id": "GoReLFfnA6uF"
   },
   "outputs": [],
   "source": [
    "# split the data into test and train sets\n",
    "from sklearn.model_selection import train_test_split\n",
    "\n",
    "X_train, X_test, y_train, y_test = train_test_split(X, y, test_size = 0.2)\n"
   ]
  },
  {
   "cell_type": "markdown",
   "metadata": {},
   "source": [
    "MINI CHALLENGE\n",
    " - Try splitting the data into 75% for training and the rest for testing\n",
    " - Verify that the split was successful by obtaining the shape of both X_train and X_test\n",
    " - Did you notice any change in the order of the data? why?\n",
    "     - The data is shuffled so that the ordering of the data does not influence the model training. The order that the data is in should have no correlation to the model required"
   ]
  },
  {
   "cell_type": "code",
   "execution_count": 72,
   "metadata": {},
   "outputs": [],
   "source": [
    "X_train, X_test, y_train, y_test = train_test_split(X, y, test_size = 0.25)"
   ]
  },
  {
   "cell_type": "code",
   "execution_count": 73,
   "metadata": {},
   "outputs": [
    {
     "data": {
      "text/plain": [
       "(26, 1)"
      ]
     },
     "execution_count": 73,
     "metadata": {},
     "output_type": "execute_result"
    }
   ],
   "source": [
    "X_train.shape"
   ]
  },
  {
   "cell_type": "code",
   "execution_count": 74,
   "metadata": {},
   "outputs": [
    {
     "data": {
      "text/plain": [
       "(9, 1)"
      ]
     },
     "execution_count": 74,
     "metadata": {},
     "output_type": "execute_result"
    }
   ],
   "source": [
    "X_test.shape"
   ]
  },
  {
   "cell_type": "markdown",
   "metadata": {
    "colab_type": "text",
    "id": "idWHLv5alF4C"
   },
   "source": [
    "# TASK #5: TRAIN A LINEAR REGRESSION MODEL IN SK-LEARN (NOTE THAT SAGEMAKER BUILT-IN ALGORITHMS ARE NOT USED HERE)"
   ]
  },
  {
   "cell_type": "code",
   "execution_count": 75,
   "metadata": {
    "colab": {
     "base_uri": "https://localhost:8080/",
     "height": 34
    },
    "colab_type": "code",
    "id": "yHL-6mKwBURs",
    "outputId": "10d71b6d-9c2b-4bab-8b27-d3c5883e6a25"
   },
   "outputs": [
    {
     "data": {
      "text/plain": [
       "LinearRegression(copy_X=True, fit_intercept=True, n_jobs=None, normalize=False)"
      ]
     },
     "execution_count": 75,
     "metadata": {},
     "output_type": "execute_result"
    }
   ],
   "source": [
    "# using linear regression model\n",
    "from sklearn.linear_model import LinearRegression\n",
    "from sklearn.metrics import mean_squared_error, accuracy_score\n",
    "\n",
    "regresssion_model_sklearn = LinearRegression(fit_intercept = True)\n",
    "regresssion_model_sklearn.fit(X_train, y_train)\n"
   ]
  },
  {
   "cell_type": "code",
   "execution_count": 76,
   "metadata": {
    "colab": {
     "base_uri": "https://localhost:8080/",
     "height": 34
    },
    "colab_type": "code",
    "id": "elD8m5N0BgEY",
    "outputId": "16a1813d-a0f1-4d1f-dc02-d7ad5a445417"
   },
   "outputs": [
    {
     "data": {
      "text/plain": [
       "0.9866240708256327"
      ]
     },
     "execution_count": 76,
     "metadata": {},
     "output_type": "execute_result"
    }
   ],
   "source": [
    "regresssion_model_sklearn_accuracy = regresssion_model_sklearn.score(X_test, y_test)\n",
    "regresssion_model_sklearn_accuracy"
   ]
  },
  {
   "cell_type": "code",
   "execution_count": 77,
   "metadata": {},
   "outputs": [
    {
     "name": "stdout",
     "output_type": "stream",
     "text": [
      "Linear Model Coefficient (m):  [[8765.595]]\n",
      "Linear Model Coefficient (b):  [29132.121]\n"
     ]
    }
   ],
   "source": [
    "print('Linear Model Coefficient (m): ', regresssion_model_sklearn.coef_)\n",
    "print('Linear Model Coefficient (b): ', regresssion_model_sklearn.intercept_)"
   ]
  },
  {
   "cell_type": "markdown",
   "metadata": {},
   "source": [
    "MINI CHALLENGE\n",
    "- Retrain the model while setting the fit_intercept = False, what do you notice?\n",
    "    - The accuracy dropped from `0.9452` down to `0.8724`\n",
    "    - The value for $m$ changed from `8564.872` to `12241.05`"
   ]
  },
  {
   "cell_type": "markdown",
   "metadata": {},
   "source": [
    "# TASK #6: EVALUATE TRAINED MODEL PERFORMANCE (NOTE THAT SAGEMAKER BUILT-IN ALGORITHMS ARE NOT USED HERE)"
   ]
  },
  {
   "cell_type": "code",
   "execution_count": 78,
   "metadata": {},
   "outputs": [],
   "source": [
    "y_predict = regresssion_model_sklearn.predict(X_test)"
   ]
  },
  {
   "cell_type": "code",
   "execution_count": 79,
   "metadata": {
    "scrolled": true
   },
   "outputs": [
    {
     "data": {
      "text/plain": [
       "array([[ 63317.94 ],\n",
       "       [ 57182.023],\n",
       "       [ 46663.312],\n",
       "       [ 42280.516],\n",
       "       [129936.45 ],\n",
       "       [ 55428.906],\n",
       "       [ 61564.82 ],\n",
       "       [ 98380.31 ],\n",
       "       [142208.3  ]], dtype=float32)"
      ]
     },
     "execution_count": 79,
     "metadata": {},
     "output_type": "execute_result"
    }
   ],
   "source": [
    "y_predict"
   ]
  },
  {
   "cell_type": "code",
   "execution_count": 80,
   "metadata": {},
   "outputs": [
    {
     "data": {
      "text/plain": [
       "Text(0.5, 1.0, 'Salary vs. Years of Experience')"
      ]
     },
     "execution_count": 80,
     "metadata": {},
     "output_type": "execute_result"
    },
    {
     "data": {
      "image/png": "[encoded data removed]",
      "text/plain": [
       "<Figure size 432x288 with 1 Axes>"
      ]
     },
     "metadata": {
      "needs_background": "light"
     },
     "output_type": "display_data"
    }
   ],
   "source": [
    "plt.scatter(X_train, y_train, color = 'gray')\n",
    "plt.plot(X_train, regresssion_model_sklearn.predict(X_train), color = 'red')\n",
    "plt.ylabel('Salary')\n",
    "plt.xlabel('Number of Years of Experience')\n",
    "plt.title('Salary vs. Years of Experience')"
   ]
  },
  {
   "cell_type": "markdown",
   "metadata": {},
   "source": [
    "MINI CHALLENGE\n",
    " - Use the trained model, obtain the salary corresponding to eployees who have years of experience = 5"
   ]
  },
  {
   "cell_type": "code",
   "execution_count": 81,
   "metadata": {},
   "outputs": [
    {
     "data": {
      "text/plain": [
       "array([[72960.09472656]])"
      ]
     },
     "execution_count": 81,
     "metadata": {},
     "output_type": "execute_result"
    }
   ],
   "source": [
    "num_years_exp = [[5]]\n",
    "salary = regresssion_model_sklearn.predict(num_years_exp)\n",
    "salary"
   ]
  },
  {
   "cell_type": "markdown",
   "metadata": {},
   "source": [
    "# TASK #7: TRAIN A LINEAR LEARNER MODEL USING SAGEMAKER"
   ]
  },
  {
   "cell_type": "code",
   "execution_count": 98,
   "metadata": {},
   "outputs": [
    {
     "name": "stdout",
     "output_type": "stream",
     "text": [
      "arn:aws:iam::702045022265:role/service-role/AmazonSageMaker-ExecutionRole-20220204T204456\n"
     ]
    }
   ],
   "source": [
    "# Boto3 is the Amazon Web Services (AWS) Software Development Kit (SDK) for Python\n",
    "# Boto3 allows Python developer to write software that makes use of services like Amazon S3 and Amazon EC2\n",
    "\n",
    "import sagemaker\n",
    "import boto3\n",
    "from sagemaker import Session\n",
    "\n",
    "# Let's create a Sagemaker session\n",
    "sagemaker_session = sagemaker.Session()\n",
    "bucket = Session().default_bucket()\n",
    "# Let's define the S3 bucket and prefix that we want to use in this session\n",
    "bucket = 'urf-sagemaker-practical-course' # bucket was created beforehand in S3\n",
    "prefix = 'linear_learner' # prefix is the subfolder within the bucket.\n",
    "\n",
    "# Let's get the execution role for the notebook instance. \n",
    "# This is the IAM role that you created when you created your notebook instance. You pass the role to the training job.\n",
    "# Note that AWS Identity and Access Management (IAM) role that Amazon SageMaker can assume to perform tasks on your behalf (for example, reading training results, called model artifacts, from the S3 bucket and writing training results to Amazon S3). \n",
    "role = sagemaker.get_execution_role()\n",
    "print(role)"
   ]
  },
  {
   "cell_type": "code",
   "execution_count": 99,
   "metadata": {},
   "outputs": [
    {
     "data": {
      "text/plain": [
       "(26, 1)"
      ]
     },
     "execution_count": 99,
     "metadata": {},
     "output_type": "execute_result"
    }
   ],
   "source": [
    "X_train.shape"
   ]
  },
  {
   "cell_type": "code",
   "execution_count": 100,
   "metadata": {},
   "outputs": [],
   "source": [
    "y_train_new = y_train[:,0]"
   ]
  },
  {
   "cell_type": "code",
   "execution_count": 101,
   "metadata": {},
   "outputs": [
    {
     "data": {
      "text/plain": [
       "(26,)"
      ]
     },
     "execution_count": 101,
     "metadata": {},
     "output_type": "execute_result"
    }
   ],
   "source": [
    "y_train_new.shape"
   ]
  },
  {
   "cell_type": "code",
   "execution_count": 102,
   "metadata": {},
   "outputs": [
    {
     "data": {
      "text/plain": [
       "0"
      ]
     },
     "execution_count": 102,
     "metadata": {},
     "output_type": "execute_result"
    }
   ],
   "source": [
    "import io # The io module allows for dealing with various types of I/O (text I/O, binary I/O and raw I/O). \n",
    "import numpy as np\n",
    "import sagemaker.amazon.common as smac # sagemaker common libary\n",
    "\n",
    "# Code below converts the data in numpy array format to RecordIO format\n",
    "# This is the format required by Sagemaker Linear Learner \n",
    "\n",
    "buf = io.BytesIO() # create an in-memory byte array (buf is a buffer I will be writing to)\n",
    "smac.write_numpy_to_dense_tensor(buf, X_train, y_train_new)\n",
    "buf.seek(0) \n",
    "# When you write to in-memory byte arrays, it increments 1 every time you write to it\n",
    "# Let's reset that back to zero \n"
   ]
  },
  {
   "cell_type": "code",
   "execution_count": 103,
   "metadata": {},
   "outputs": [
    {
     "name": "stdout",
     "output_type": "stream",
     "text": [
      "uploaded training data location: s3://urf-sagemaker-practical-course/linear_learner/train/linear-train-data\n"
     ]
    }
   ],
   "source": [
    "import os\n",
    "\n",
    "# Code to upload RecordIO data to S3\n",
    " \n",
    "# Key refers to the name of the file    \n",
    "key = 'linear-train-data'\n",
    "\n",
    "# The following code uploads the data in record-io format to S3 bucket to be accessed later for training\n",
    "boto3.resource('s3').Bucket(bucket).Object(os.path.join(prefix, 'train', key)).upload_fileobj(buf)\n",
    "\n",
    "# Let's print out the training data location in s3\n",
    "s3_train_data = 's3://{}/{}/train/{}'.format(bucket, prefix, key)\n",
    "print('uploaded training data location: {}'.format(s3_train_data))"
   ]
  },
  {
   "cell_type": "code",
   "execution_count": 104,
   "metadata": {},
   "outputs": [
    {
     "data": {
      "text/plain": [
       "(9, 1)"
      ]
     },
     "execution_count": 104,
     "metadata": {},
     "output_type": "execute_result"
    }
   ],
   "source": [
    "X_test.shape"
   ]
  },
  {
   "cell_type": "code",
   "execution_count": 105,
   "metadata": {},
   "outputs": [
    {
     "data": {
      "text/plain": [
       "(9, 1)"
      ]
     },
     "execution_count": 105,
     "metadata": {},
     "output_type": "execute_result"
    }
   ],
   "source": [
    "y_test.shape"
   ]
  },
  {
   "cell_type": "code",
   "execution_count": 106,
   "metadata": {},
   "outputs": [],
   "source": [
    "# Make sure that the target label is a vector\n",
    "y_test_new = y_test[:,0]\n"
   ]
  },
  {
   "cell_type": "code",
   "execution_count": 107,
   "metadata": {},
   "outputs": [
    {
     "data": {
      "text/plain": [
       "0"
      ]
     },
     "execution_count": 107,
     "metadata": {},
     "output_type": "execute_result"
    }
   ],
   "source": [
    "# Code to upload RecordIO data to S3\n",
    "\n",
    "buf = io.BytesIO() # create an in-memory byte array (buf is a buffer I will be writing to)\n",
    "smac.write_numpy_to_dense_tensor(buf, X_test, y_test_new)\n",
    "buf.seek(0) \n",
    "# When you write to in-memory byte arrays, it increments 1 every time you write to it\n",
    "# Let's reset that back to zero \n"
   ]
  },
  {
   "cell_type": "code",
   "execution_count": 108,
   "metadata": {},
   "outputs": [
    {
     "name": "stdout",
     "output_type": "stream",
     "text": [
      "uploaded training data location: s3://urf-sagemaker-practical-course/linear_learner/test/linear-test-data\n"
     ]
    }
   ],
   "source": [
    "# Key refers to the name of the file    \n",
    "key = 'linear-test-data'\n",
    "\n",
    "# The following code uploads the data in record-io format to S3 bucket to be accessed later for training\n",
    "boto3.resource('s3').Bucket(bucket).Object(os.path.join(prefix, 'test', key)).upload_fileobj(buf)\n",
    "\n",
    "# Let's print out the testing data location in s3\n",
    "s3_test_data = 's3://{}/{}/test/{}'.format(bucket, prefix, key)\n",
    "print('uploaded training data location: {}'.format(s3_test_data))"
   ]
  },
  {
   "cell_type": "code",
   "execution_count": 109,
   "metadata": {},
   "outputs": [
    {
     "name": "stdout",
     "output_type": "stream",
     "text": [
      "Training artifacts will be uploaded to: s3://urf-sagemaker-practical-course/linear_learner/output\n"
     ]
    }
   ],
   "source": [
    "# create an output placeholder in S3 bucket to store the linear learner output\n",
    "\n",
    "output_location = 's3://{}/{}/output'.format(bucket, prefix)\n",
    "print('Training artifacts will be uploaded to: {}'.format(output_location))"
   ]
  },
  {
   "cell_type": "code",
   "execution_count": 110,
   "metadata": {},
   "outputs": [
    {
     "data": {
      "text/plain": [
       "'382416733822.dkr.ecr.us-east-1.amazonaws.com/linear-learner:1'"
      ]
     },
     "execution_count": 110,
     "metadata": {},
     "output_type": "execute_result"
    }
   ],
   "source": [
    "# This code is used to get the training container of sagemaker built-in algorithms\n",
    "# all we have to do is to specify the name of the algorithm, that we want to use\n",
    "\n",
    "# Let's obtain a reference to the linearLearner container image\n",
    "# Note that all regression models are named estimators\n",
    "# You don't have to specify (hardcode) the region, get_image_uri will get the current region name using boto3.Session\n",
    "\n",
    "from sagemaker import image_uris\n",
    "\n",
    "container = image_uris.retrieve(framework='linear-learner', region=boto3.Session().region_name)\n",
    "container"
   ]
  },
  {
   "cell_type": "code",
   "execution_count": 111,
   "metadata": {},
   "outputs": [
    {
     "name": "stdout",
     "output_type": "stream",
     "text": [
      "2022-03-02 16:54:11 Starting - Starting the training job...\n",
      "2022-03-02 16:54:40 Starting - Preparing the instances for trainingProfilerReport-1646240051: InProgress\n",
      ".........\n",
      "2022-03-02 16:56:11 Downloading - Downloading input data....\u001b[34mDocker entrypoint called with argument(s): train\u001b[0m\n",
      "\u001b[34mRunning default environment configuration script\u001b[0m\n",
      "\u001b[34m[03/02/2022 16:56:51 INFO 140480750188352 integration.py:636] worker started\u001b[0m\n",
      "\u001b[34m[03/02/2022 16:56:51 INFO 140480750188352] Reading default configuration from /opt/amazon/lib/python3.7/site-packages/algorithm/resources/default-input.json: {'mini_batch_size': '1000', 'epochs': '15', 'feature_dim': 'auto', 'use_bias': 'true', 'binary_classifier_model_selection_criteria': 'accuracy', 'f_beta': '1.0', 'target_recall': '0.8', 'target_precision': '0.8', 'num_models': 'auto', 'num_calibration_samples': '10000000', 'init_method': 'uniform', 'init_scale': '0.07', 'init_sigma': '0.01', 'init_bias': '0.0', 'optimizer': 'auto', 'loss': 'auto', 'margin': '1.0', 'quantile': '0.5', 'loss_insensitivity': '0.01', 'huber_delta': '1.0', 'num_classes': '1', 'accuracy_top_k': '3', 'wd': 'auto', 'l1': 'auto', 'momentum': 'auto', 'learning_rate': 'auto', 'beta_1': 'auto', 'beta_2': 'auto', 'bias_lr_mult': 'auto', 'bias_wd_mult': 'auto', 'use_lr_scheduler': 'true', 'lr_scheduler_step': 'auto', 'lr_scheduler_factor': 'auto', 'lr_scheduler_minimum_lr': 'auto', 'positive_example_weight_mult': '1.0', 'balance_multiclass_weights': 'false', 'normalize_data': 'true', 'normalize_label': 'auto', 'unbias_data': 'auto', 'unbias_label': 'auto', 'num_point_for_scaler': '10000', '_kvstore': 'auto', '_num_gpus': 'auto', '_num_kv_servers': 'auto', '_log_level': 'info', '_tuning_objective_metric': '', 'early_stopping_patience': '3', 'early_stopping_tolerance': '0.001', '_enable_profiler': 'false'}\u001b[0m\n",
      "\u001b[34m[03/02/2022 16:56:51 INFO 140480750188352] Merging with provided configuration from /opt/ml/input/config/hyperparameters.json: {'epochs': '5', 'feature_dim': '1', 'loss': 'absolute_loss', 'mini_batch_size': '5', 'num_models': '32', 'predictor_type': 'regressor'}\u001b[0m\n",
      "\u001b[34m[03/02/2022 16:56:51 INFO 140480750188352] Final configuration: {'mini_batch_size': '5', 'epochs': '5', 'feature_dim': '1', 'use_bias': 'true', 'binary_classifier_model_selection_criteria': 'accuracy', 'f_beta': '1.0', 'target_recall': '0.8', 'target_precision': '0.8', 'num_models': '32', 'num_calibration_samples': '10000000', 'init_method': 'uniform', 'init_scale': '0.07', 'init_sigma': '0.01', 'init_bias': '0.0', 'optimizer': 'auto', 'loss': 'absolute_loss', 'margin': '1.0', 'quantile': '0.5', 'loss_insensitivity': '0.01', 'huber_delta': '1.0', 'num_classes': '1', 'accuracy_top_k': '3', 'wd': 'auto', 'l1': 'auto', 'momentum': 'auto', 'learning_rate': 'auto', 'beta_1': 'auto', 'beta_2': 'auto', 'bias_lr_mult': 'auto', 'bias_wd_mult': 'auto', 'use_lr_scheduler': 'true', 'lr_scheduler_step': 'auto', 'lr_scheduler_factor': 'auto', 'lr_scheduler_minimum_lr': 'auto', 'positive_example_weight_mult': '1.0', 'balance_multiclass_weights': 'false', 'normalize_data': 'true', 'normalize_label': 'auto', 'unbias_data': 'auto', 'unbias_label': 'auto', 'num_point_for_scaler': '10000', '_kvstore': 'auto', '_num_gpus': 'auto', '_num_kv_servers': 'auto', '_log_level': 'info', '_tuning_objective_metric': '', 'early_stopping_patience': '3', 'early_stopping_tolerance': '0.001', '_enable_profiler': 'false', 'predictor_type': 'regressor'}\u001b[0m\n",
      "\u001b[34m[03/02/2022 16:56:51 WARNING 140480750188352] Loggers have already been setup.\u001b[0m\n",
      "\u001b[34mProcess 1 is a worker.\u001b[0m\n",
      "\u001b[34m[03/02/2022 16:56:51 INFO 140480750188352] Using default worker.\u001b[0m\n",
      "\u001b[34m[03/02/2022 16:56:51 INFO 140480750188352] Checkpoint loading and saving are disabled.\u001b[0m\n",
      "\u001b[34m[2022-03-02 16:56:52.012] [tensorio] [info] epoch_stats={\"data_pipeline\": \"/opt/ml/input/data/train\", \"epoch\": 0, \"duration\": 19, \"num_examples\": 1, \"num_bytes\": 240}\u001b[0m\n",
      "\u001b[34m[03/02/2022 16:56:52 INFO 140480750188352] Create Store: local\u001b[0m\n",
      "\u001b[34m[2022-03-02 16:56:52.087] [tensorio] [info] epoch_stats={\"data_pipeline\": \"/opt/ml/input/data/train\", \"epoch\": 1, \"duration\": 73, \"num_examples\": 6, \"num_bytes\": 1248}\u001b[0m\n",
      "\u001b[34m[03/02/2022 16:56:52 INFO 140480750188352] Scaler algorithm parameters\n",
      " <algorithm.scaler.ScalerAlgorithmStable object at 0x7fc3d851b110>\u001b[0m\n",
      "\u001b[34m[03/02/2022 16:56:52 INFO 140480750188352] Scaling model computed with parameters:\n",
      " {'stdev_label': \u001b[0m\n",
      "\u001b[34m[29639.713]\u001b[0m\n",
      "\u001b[34m<NDArray 1 @cpu(0)>, 'stdev_weight': \u001b[0m\n",
      "\u001b[34m[3.2337077]\u001b[0m\n",
      "\u001b[34m<NDArray 1 @cpu(0)>, 'mean_label': \u001b[0m\n",
      "\u001b[34m[85173.6]\u001b[0m\n",
      "\u001b[34m<NDArray 1 @cpu(0)>, 'mean_weight': \u001b[0m\n",
      "\u001b[34m[6.356]\u001b[0m\n",
      "\u001b[34m<NDArray 1 @cpu(0)>}\u001b[0m\n",
      "\u001b[34m[03/02/2022 16:56:52 INFO 140480750188352] nvidia-smi: took 0.056 seconds to run.\u001b[0m\n",
      "\u001b[34m[03/02/2022 16:56:52 INFO 140480750188352] nvidia-smi identified 0 GPUs.\u001b[0m\n",
      "\u001b[34m[03/02/2022 16:56:52 INFO 140480750188352] Number of GPUs being used: 0\u001b[0m\n",
      "\u001b[34m#metrics {\"StartTime\": 1646240212.2483191, \"EndTime\": 1646240212.248355, \"Dimensions\": {\"Algorithm\": \"Linear Learner\", \"Host\": \"algo-1\", \"Operation\": \"training\", \"Meta\": \"init_train_data_iter\"}, \"Metrics\": {\"Total Records Seen\": {\"sum\": 31.0, \"count\": 1, \"min\": 31, \"max\": 31}, \"Total Batches Seen\": {\"sum\": 7.0, \"count\": 1, \"min\": 7, \"max\": 7}, \"Max Records Seen Between Resets\": {\"sum\": 26.0, \"count\": 1, \"min\": 26, \"max\": 26}, \"Max Batches Seen Between Resets\": {\"sum\": 6.0, \"count\": 1, \"min\": 6, \"max\": 6}, \"Reset Count\": {\"sum\": 2.0, \"count\": 1, \"min\": 2, \"max\": 2}, \"Number of Records Since Last Reset\": {\"sum\": 0.0, \"count\": 1, \"min\": 0, \"max\": 0}, \"Number of Batches Since Last Reset\": {\"sum\": 0.0, \"count\": 1, \"min\": 0, \"max\": 0}}}\u001b[0m\n",
      "\u001b[34m[2022-03-02 16:56:52.423] [tensorio] [info] epoch_stats={\"data_pipeline\": \"/opt/ml/input/data/train\", \"epoch\": 4, \"duration\": 174, \"num_examples\": 6, \"num_bytes\": 1248}\u001b[0m\n",
      "\u001b[34m#metrics {\"StartTime\": 1646240212.4231296, \"EndTime\": 1646240212.4232213, \"Dimensions\": {\"Algorithm\": \"Linear Learner\", \"Host\": \"algo-1\", \"Operation\": \"training\", \"epoch\": 0, \"model\": 0}, \"Metrics\": {\"train_absolute_loss_objective\": {\"sum\": 0.8925605583190918, \"count\": 1, \"min\": 0.8925605583190918, \"max\": 0.8925605583190918}}}\u001b[0m\n",
      "\u001b[34m#metrics {\"StartTime\": 1646240212.423317, \"EndTime\": 1646240212.4233382, \"Dimensions\": {\"Algorithm\": \"Linear Learner\", \"Host\": \"algo-1\", \"Operation\": \"training\", \"epoch\": 0, \"model\": 1}, \"Metrics\": {\"train_absolute_loss_objective\": {\"sum\": 0.9119968700408936, \"count\": 1, \"min\": 0.9119968700408936, \"max\": 0.9119968700408936}}}\u001b[0m\n",
      "\u001b[34m#metrics {\"StartTime\": 1646240212.4233904, \"EndTime\": 1646240212.4234087, \"Dimensions\": {\"Algorithm\": \"Linear Learner\", \"Host\": \"algo-1\", \"Operation\": \"training\", \"epoch\": 0, \"model\": 2}, \"Metrics\": {\"train_absolute_loss_objective\": {\"sum\": 0.8949149990081787, \"count\": 1, \"min\": 0.8949149990081787, \"max\": 0.8949149990081787}}}\u001b[0m\n",
      "\u001b[34m#metrics {\"StartTime\": 1646240212.4234607, \"EndTime\": 1646240212.4234772, \"Dimensions\": {\"Algorithm\": \"Linear Learner\", \"Host\": \"algo-1\", \"Operation\": \"training\", \"epoch\": 0, \"model\": 3}, \"Metrics\": {\"train_absolute_loss_objective\": {\"sum\": 0.9110035991668701, \"count\": 1, \"min\": 0.9110035991668701, \"max\": 0.9110035991668701}}}\u001b[0m\n",
      "\u001b[34m#metrics {\"StartTime\": 1646240212.4235272, \"EndTime\": 1646240212.4235432, \"Dimensions\": {\"Algorithm\": \"Linear Learner\", \"Host\": \"algo-1\", \"Operation\": \"training\", \"epoch\": 0, \"model\": 4}, \"Metrics\": {\"train_absolute_loss_objective\": {\"sum\": 0.6868623352050781, \"count\": 1, \"min\": 0.6868623352050781, \"max\": 0.6868623352050781}}}\u001b[0m\n",
      "\u001b[34m#metrics {\"StartTime\": 1646240212.423595, \"EndTime\": 1646240212.4236116, \"Dimensions\": {\"Algorithm\": \"Linear Learner\", \"Host\": \"algo-1\", \"Operation\": \"training\", \"epoch\": 0, \"model\": 5}, \"Metrics\": {\"train_absolute_loss_objective\": {\"sum\": 0.6961203384399414, \"count\": 1, \"min\": 0.6961203384399414, \"max\": 0.6961203384399414}}}\u001b[0m\n",
      "\u001b[34m#metrics {\"StartTime\": 1646240212.4236588, \"EndTime\": 1646240212.4236748, \"Dimensions\": {\"Algorithm\": \"Linear Learner\", \"Host\": \"algo-1\", \"Operation\": \"training\", \"epoch\": 0, \"model\": 6}, \"Metrics\": {\"train_absolute_loss_objective\": {\"sum\": 0.7752414226531983, \"count\": 1, \"min\": 0.7752414226531983, \"max\": 0.7752414226531983}}}\u001b[0m\n",
      "\u001b[34m#metrics {\"StartTime\": 1646240212.4237337, \"EndTime\": 1646240212.4238136, \"Dimensions\": {\"Algorithm\": \"Linear Learner\", \"Host\": \"algo-1\", \"Operation\": \"training\", \"epoch\": 0, \"model\": 7}, \"Metrics\": {\"train_absolute_loss_objective\": {\"sum\": 0.7476943302154541, \"count\": 1, \"min\": 0.7476943302154541, \"max\": 0.7476943302154541}}}\u001b[0m\n",
      "\u001b[34m#metrics {\"StartTime\": 1646240212.4239087, \"EndTime\": 1646240212.423933, \"Dimensions\": {\"Algorithm\": \"Linear Learner\", \"Host\": \"algo-1\", \"Operation\": \"training\", \"epoch\": 0, \"model\": 8}, \"Metrics\": {\"train_absolute_loss_objective\": {\"sum\": 0.9471328067779541, \"count\": 1, \"min\": 0.9471328067779541, \"max\": 0.9471328067779541}}}\u001b[0m\n",
      "\u001b[34m#metrics {\"StartTime\": 1646240212.4239972, \"EndTime\": 1646240212.4240117, \"Dimensions\": {\"Algorithm\": \"Linear Learner\", \"Host\": \"algo-1\", \"Operation\": \"training\", \"epoch\": 0, \"model\": 9}, \"Metrics\": {\"train_absolute_loss_objective\": {\"sum\": 0.8808161640167236, \"count\": 1, \"min\": 0.8808161640167236, \"max\": 0.8808161640167236}}}\u001b[0m\n",
      "\u001b[34m#metrics {\"StartTime\": 1646240212.4240608, \"EndTime\": 1646240212.4240763, \"Dimensions\": {\"Algorithm\": \"Linear Learner\", \"Host\": \"algo-1\", \"Operation\": \"training\", \"epoch\": 0, \"model\": 10}, \"Metrics\": {\"train_absolute_loss_objective\": {\"sum\": 0.8873559951782226, \"count\": 1, \"min\": 0.8873559951782226, \"max\": 0.8873559951782226}}}\u001b[0m\n",
      "\u001b[34m#metrics {\"StartTime\": 1646240212.4241254, \"EndTime\": 1646240212.4241407, \"Dimensions\": {\"Algorithm\": \"Linear Learner\", \"Host\": \"algo-1\", \"Operation\": \"training\", \"epoch\": 0, \"model\": 11}, \"Metrics\": {\"train_absolute_loss_objective\": {\"sum\": 0.8728945159912109, \"count\": 1, \"min\": 0.8728945159912109, \"max\": 0.8728945159912109}}}\u001b[0m\n",
      "\u001b[34m#metrics {\"StartTime\": 1646240212.4241743, \"EndTime\": 1646240212.4241834, \"Dimensions\": {\"Algorithm\": \"Linear Learner\", \"Host\": \"algo-1\", \"Operation\": \"training\", \"epoch\": 0, \"model\": 12}, \"Metrics\": {\"train_absolute_loss_objective\": {\"sum\": 0.695291805267334, \"count\": 1, \"min\": 0.695291805267334, \"max\": 0.695291805267334}}}\u001b[0m\n",
      "\u001b[34m#metrics {\"StartTime\": 1646240212.4242067, \"EndTime\": 1646240212.4242141, \"Dimensions\": {\"Algorithm\": \"Linear Learner\", \"Host\": \"algo-1\", \"Operation\": \"training\", \"epoch\": 0, \"model\": 13}, \"Metrics\": {\"train_absolute_loss_objective\": {\"sum\": 0.7202646541595459, \"count\": 1, \"min\": 0.7202646541595459, \"max\": 0.7202646541595459}}}\u001b[0m\n",
      "\u001b[34m#metrics {\"StartTime\": 1646240212.4242363, \"EndTime\": 1646240212.4242435, \"Dimensions\": {\"Algorithm\": \"Linear Learner\", \"Host\": \"algo-1\", \"Operation\": \"training\", \"epoch\": 0, \"model\": 14}, \"Metrics\": {\"train_absolute_loss_objective\": {\"sum\": 0.6938772296905518, \"count\": 1, \"min\": 0.6938772296905518, \"max\": 0.6938772296905518}}}\u001b[0m\n",
      "\u001b[34m#metrics {\"StartTime\": 1646240212.424275, \"EndTime\": 1646240212.424289, \"Dimensions\": {\"Algorithm\": \"Linear Learner\", \"Host\": \"algo-1\", \"Operation\": \"training\", \"epoch\": 0, \"model\": 15}, \"Metrics\": {\"train_absolute_loss_objective\": {\"sum\": 0.7262498188018799, \"count\": 1, \"min\": 0.7262498188018799, \"max\": 0.7262498188018799}}}\u001b[0m\n",
      "\u001b[34m#metrics {\"StartTime\": 1646240212.4243336, \"EndTime\": 1646240212.424344, \"Dimensions\": {\"Algorithm\": \"Linear Learner\", \"Host\": \"algo-1\", \"Operation\": \"training\", \"epoch\": 0, \"model\": 16}, \"Metrics\": {\"train_absolute_loss_objective\": {\"sum\": 0.8572994995117188, \"count\": 1, \"min\": 0.8572994995117188, \"max\": 0.8572994995117188}}}\u001b[0m\n",
      "\u001b[34m#metrics {\"StartTime\": 1646240212.42439, \"EndTime\": 1646240212.424406, \"Dimensions\": {\"Algorithm\": \"Linear Learner\", \"Host\": \"algo-1\", \"Operation\": \"training\", \"epoch\": 0, \"model\": 17}, \"Metrics\": {\"train_absolute_loss_objective\": {\"sum\": 0.9073506164550781, \"count\": 1, \"min\": 0.9073506164550781, \"max\": 0.9073506164550781}}}\u001b[0m\n",
      "\u001b[34m#metrics {\"StartTime\": 1646240212.424454, \"EndTime\": 1646240212.424466, \"Dimensions\": {\"Algorithm\": \"Linear Learner\", \"Host\": \"algo-1\", \"Operation\": \"training\", \"epoch\": 0, \"model\": 18}, \"Metrics\": {\"train_absolute_loss_objective\": {\"sum\": 0.8837293434143066, \"count\": 1, \"min\": 0.8837293434143066, \"max\": 0.8837293434143066}}}\u001b[0m\n",
      "\u001b[34m#metrics {\"StartTime\": 1646240212.4244938, \"EndTime\": 1646240212.4245071, \"Dimensions\": {\"Algorithm\": \"Linear Learner\", \"Host\": \"algo-1\", \"Operation\": \"training\", \"epoch\": 0, \"model\": 19}, \"Metrics\": {\"train_absolute_loss_objective\": {\"sum\": 0.8810908508300781, \"count\": 1, \"min\": 0.8810908508300781, \"max\": 0.8810908508300781}}}\u001b[0m\n",
      "\u001b[34m#metrics {\"StartTime\": 1646240212.4245439, \"EndTime\": 1646240212.4245532, \"Dimensions\": {\"Algorithm\": \"Linear Learner\", \"Host\": \"algo-1\", \"Operation\": \"training\", \"epoch\": 0, \"model\": 20}, \"Metrics\": {\"train_absolute_loss_objective\": {\"sum\": 0.7394433498382569, \"count\": 1, \"min\": 0.7394433498382569, \"max\": 0.7394433498382569}}}\u001b[0m\n",
      "\u001b[34m#metrics {\"StartTime\": 1646240212.424577, \"EndTime\": 1646240212.4245842, \"Dimensions\": {\"Algorithm\": \"Linear Learner\", \"Host\": \"algo-1\", \"Operation\": \"training\", \"epoch\": 0, \"model\": 21}, \"Metrics\": {\"train_absolute_loss_objective\": {\"sum\": 0.7535861587524414, \"count\": 1, \"min\": 0.7535861587524414, \"max\": 0.7535861587524414}}}\u001b[0m\n",
      "\u001b[34m#metrics {\"StartTime\": 1646240212.4246068, \"EndTime\": 1646240212.4246137, \"Dimensions\": {\"Algorithm\": \"Linear Learner\", \"Host\": \"algo-1\", \"Operation\": \"training\", \"epoch\": 0, \"model\": 22}, \"Metrics\": {\"train_absolute_loss_objective\": {\"sum\": 0.6938544368743896, \"count\": 1, \"min\": 0.6938544368743896, \"max\": 0.6938544368743896}}}\u001b[0m\n",
      "\u001b[34m#metrics {\"StartTime\": 1646240212.4246552, \"EndTime\": 1646240212.4246666, \"Dimensions\": {\"Algorithm\": \"Linear Learner\", \"Host\": \"algo-1\", \"Operation\": \"training\", \"epoch\": 0, \"model\": 23}, \"Metrics\": {\"train_absolute_loss_objective\": {\"sum\": 0.7779765415191651, \"count\": 1, \"min\": 0.7779765415191651, \"max\": 0.7779765415191651}}}\u001b[0m\n",
      "\u001b[34m#metrics {\"StartTime\": 1646240212.4246924, \"EndTime\": 1646240212.4246995, \"Dimensions\": {\"Algorithm\": \"Linear Learner\", \"Host\": \"algo-1\", \"Operation\": \"training\", \"epoch\": 0, \"model\": 24}, \"Metrics\": {\"train_absolute_loss_objective\": {\"sum\": 0.8611449432373047, \"count\": 1, \"min\": 0.8611449432373047, \"max\": 0.8611449432373047}}}\u001b[0m\n",
      "\u001b[34m#metrics {\"StartTime\": 1646240212.4248579, \"EndTime\": 1646240212.4248796, \"Dimensions\": {\"Algorithm\": \"Linear Learner\", \"Host\": \"algo-1\", \"Operation\": \"training\", \"epoch\": 0, \"model\": 25}, \"Metrics\": {\"train_absolute_loss_objective\": {\"sum\": 0.9251553249359131, \"count\": 1, \"min\": 0.9251553249359131, \"max\": 0.9251553249359131}}}\u001b[0m\n",
      "\u001b[34m#metrics {\"StartTime\": 1646240212.424938, \"EndTime\": 1646240212.4249544, \"Dimensions\": {\"Algorithm\": \"Linear Learner\", \"Host\": \"algo-1\", \"Operation\": \"training\", \"epoch\": 0, \"model\": 26}, \"Metrics\": {\"train_absolute_loss_objective\": {\"sum\": 0.9121227836608887, \"count\": 1, \"min\": 0.9121227836608887, \"max\": 0.9121227836608887}}}\u001b[0m\n",
      "\u001b[34m#metrics {\"StartTime\": 1646240212.4250114, \"EndTime\": 1646240212.4250257, \"Dimensions\": {\"Algorithm\": \"Linear Learner\", \"Host\": \"algo-1\", \"Operation\": \"training\", \"epoch\": 0, \"model\": 27}, \"Metrics\": {\"train_absolute_loss_objective\": {\"sum\": 0.901487340927124, \"count\": 1, \"min\": 0.901487340927124, \"max\": 0.901487340927124}}}\u001b[0m\n",
      "\u001b[34m#metrics {\"StartTime\": 1646240212.4250844, \"EndTime\": 1646240212.4251003, \"Dimensions\": {\"Algorithm\": \"Linear Learner\", \"Host\": \"algo-1\", \"Operation\": \"training\", \"epoch\": 0, \"model\": 28}, \"Metrics\": {\"train_absolute_loss_objective\": {\"sum\": 0.8876560020446778, \"count\": 1, \"min\": 0.8876560020446778, \"max\": 0.8876560020446778}}}\u001b[0m\n",
      "\u001b[34m#metrics {\"StartTime\": 1646240212.42515, \"EndTime\": 1646240212.4251657, \"Dimensions\": {\"Algorithm\": \"Linear Learner\", \"Host\": \"algo-1\", \"Operation\": \"training\", \"epoch\": 0, \"model\": 29}, \"Metrics\": {\"train_absolute_loss_objective\": {\"sum\": 0.8886802673339844, \"count\": 1, \"min\": 0.8886802673339844, \"max\": 0.8886802673339844}}}\u001b[0m\n",
      "\u001b[34m#metrics {\"StartTime\": 1646240212.4252212, \"EndTime\": 1646240212.4252386, \"Dimensions\": {\"Algorithm\": \"Linear Learner\", \"Host\": \"algo-1\", \"Operation\": \"training\", \"epoch\": 0, \"model\": 30}, \"Metrics\": {\"train_absolute_loss_objective\": {\"sum\": 0.8963030529022217, \"count\": 1, \"min\": 0.8963030529022217, \"max\": 0.8963030529022217}}}\u001b[0m\n",
      "\u001b[34m#metrics {\"StartTime\": 1646240212.4252856, \"EndTime\": 1646240212.425301, \"Dimensions\": {\"Algorithm\": \"Linear Learner\", \"Host\": \"algo-1\", \"Operation\": \"training\", \"epoch\": 0, \"model\": 31}, \"Metrics\": {\"train_absolute_loss_objective\": {\"sum\": 1.071520528793335, \"count\": 1, \"min\": 1.071520528793335, \"max\": 1.071520528793335}}}\u001b[0m\n",
      "\u001b[34m[03/02/2022 16:56:52 INFO 140480750188352] #quality_metric: host=algo-1, epoch=0, train absolute_loss_objective <loss>=0.8925605583190918\u001b[0m\n",
      "\u001b[34m[03/02/2022 16:56:52 INFO 140480750188352] #early_stopping_criteria_metric: host=algo-1, epoch=0, criteria=absolute_loss_objective, value=0.6868623352050781\u001b[0m\n",
      "\u001b[34m[03/02/2022 16:56:52 INFO 140480750188352] Epoch 0: Loss improved. Updating best model\u001b[0m\n",
      "\u001b[34m[03/02/2022 16:56:52 INFO 140480750188352] Saving model for epoch: 0\u001b[0m\n",
      "\u001b[34m[03/02/2022 16:56:52 INFO 140480750188352] Saved checkpoint to \"/tmp/tmp2w9lfgi4/mx-mod-0000.params\"\u001b[0m\n",
      "\u001b[34m[03/02/2022 16:56:52 INFO 140480750188352] #progress_metric: host=algo-1, completed 20.0 % of epochs\u001b[0m\n",
      "\u001b[34m#metrics {\"StartTime\": 1646240212.2486527, \"EndTime\": 1646240212.4399781, \"Dimensions\": {\"Algorithm\": \"Linear Learner\", \"Host\": \"algo-1\", \"Operation\": \"training\", \"epoch\": 0, \"Meta\": \"training_data_iter\"}, \"Metrics\": {\"Total Records Seen\": {\"sum\": 57.0, \"count\": 1, \"min\": 57, \"max\": 57}, \"Total Batches Seen\": {\"sum\": 13.0, \"count\": 1, \"min\": 13, \"max\": 13}, \"Max Records Seen Between Resets\": {\"sum\": 26.0, \"count\": 1, \"min\": 26, \"max\": 26}, \"Max Batches Seen Between Resets\": {\"sum\": 6.0, \"count\": 1, \"min\": 6, \"max\": 6}, \"Reset Count\": {\"sum\": 3.0, \"count\": 1, \"min\": 3, \"max\": 3}, \"Number of Records Since Last Reset\": {\"sum\": 26.0, \"count\": 1, \"min\": 26, \"max\": 26}, \"Number of Batches Since Last Reset\": {\"sum\": 6.0, \"count\": 1, \"min\": 6, \"max\": 6}}}\u001b[0m\n",
      "\u001b[34m[03/02/2022 16:56:52 INFO 140480750188352] #throughput_metric: host=algo-1, train throughput=135.79647694924626 records/second\u001b[0m\n",
      "\u001b[34m[2022-03-02 16:56:52.578] [tensorio] [info] epoch_stats={\"data_pipeline\": \"/opt/ml/input/data/train\", \"epoch\": 6, \"duration\": 138, \"num_examples\": 6, \"num_bytes\": 1248}\u001b[0m\n",
      "\u001b[34m#metrics {\"StartTime\": 1646240212.5785508, \"EndTime\": 1646240212.5786207, \"Dimensions\": {\"Algorithm\": \"Linear Learner\", \"Host\": \"algo-1\", \"Operation\": \"training\", \"epoch\": 1, \"model\": 0}, \"Metrics\": {\"train_absolute_loss_objective\": {\"sum\": 0.8622401618957519, \"count\": 1, \"min\": 0.8622401618957519, \"max\": 0.8622401618957519}}}\u001b[0m\n",
      "\u001b[34m#metrics {\"StartTime\": 1646240212.5787563, \"EndTime\": 1646240212.5787768, \"Dimensions\": {\"Algorithm\": \"Linear Learner\", \"Host\": \"algo-1\", \"Operation\": \"training\", \"epoch\": 1, \"model\": 1}, \"Metrics\": {\"train_absolute_loss_objective\": {\"sum\": 0.8808153915405273, \"count\": 1, \"min\": 0.8808153915405273, \"max\": 0.8808153915405273}}}\u001b[0m\n",
      "\u001b[34m#metrics {\"StartTime\": 1646240212.5788345, \"EndTime\": 1646240212.5788565, \"Dimensions\": {\"Algorithm\": \"Linear Learner\", \"Host\": \"algo-1\", \"Operation\": \"training\", \"epoch\": 1, \"model\": 2}, \"Metrics\": {\"train_absolute_loss_objective\": {\"sum\": 0.8644903182983399, \"count\": 1, \"min\": 0.8644903182983399, \"max\": 0.8644903182983399}}}\u001b[0m\n",
      "\u001b[34m#metrics {\"StartTime\": 1646240212.5789115, \"EndTime\": 1646240212.578927, \"Dimensions\": {\"Algorithm\": \"Linear Learner\", \"Host\": \"algo-1\", \"Operation\": \"training\", \"epoch\": 1, \"model\": 3}, \"Metrics\": {\"train_absolute_loss_objective\": {\"sum\": 0.8798661136627197, \"count\": 1, \"min\": 0.8798661136627197, \"max\": 0.8798661136627197}}}\u001b[0m\n",
      "\u001b[34m#metrics {\"StartTime\": 1646240212.5789778, \"EndTime\": 1646240212.5789928, \"Dimensions\": {\"Algorithm\": \"Linear Learner\", \"Host\": \"algo-1\", \"Operation\": \"training\", \"epoch\": 1, \"model\": 4}, \"Metrics\": {\"train_absolute_loss_objective\": {\"sum\": 0.5439488124847413, \"count\": 1, \"min\": 0.5439488124847413, \"max\": 0.5439488124847413}}}\u001b[0m\n",
      "\u001b[34m#metrics {\"StartTime\": 1646240212.5790389, \"EndTime\": 1646240212.5790536, \"Dimensions\": {\"Algorithm\": \"Linear Learner\", \"Host\": \"algo-1\", \"Operation\": \"training\", \"epoch\": 1, \"model\": 5}, \"Metrics\": {\"train_absolute_loss_objective\": {\"sum\": 0.5473716545104981, \"count\": 1, \"min\": 0.5473716545104981, \"max\": 0.5473716545104981}}}\u001b[0m\n",
      "\u001b[34m#metrics {\"StartTime\": 1646240212.5791104, \"EndTime\": 1646240212.5791206, \"Dimensions\": {\"Algorithm\": \"Linear Learner\", \"Host\": \"algo-1\", \"Operation\": \"training\", \"epoch\": 1, \"model\": 6}, \"Metrics\": {\"train_absolute_loss_objective\": {\"sum\": 0.5634616565704346, \"count\": 1, \"min\": 0.5634616565704346, \"max\": 0.5634616565704346}}}\u001b[0m\n",
      "\u001b[34m#metrics {\"StartTime\": 1646240212.5791695, \"EndTime\": 1646240212.5791903, \"Dimensions\": {\"Algorithm\": \"Linear Learner\", \"Host\": \"algo-1\", \"Operation\": \"training\", \"epoch\": 1, \"model\": 7}, \"Metrics\": {\"train_absolute_loss_objective\": {\"sum\": 0.5748607110977173, \"count\": 1, \"min\": 0.5748607110977173, \"max\": 0.5748607110977173}}}\u001b[0m\n",
      "\u001b[34m#metrics {\"StartTime\": 1646240212.5792413, \"EndTime\": 1646240212.5792572, \"Dimensions\": {\"Algorithm\": \"Linear Learner\", \"Host\": \"algo-1\", \"Operation\": \"training\", \"epoch\": 1, \"model\": 8}, \"Metrics\": {\"train_absolute_loss_objective\": {\"sum\": 0.9143941879272461, \"count\": 1, \"min\": 0.9143941879272461, \"max\": 0.9143941879272461}}}\u001b[0m\n",
      "\u001b[34m#metrics {\"StartTime\": 1646240212.5793068, \"EndTime\": 1646240212.5793219, \"Dimensions\": {\"Algorithm\": \"Linear Learner\", \"Host\": \"algo-1\", \"Operation\": \"training\", \"epoch\": 1, \"model\": 9}, \"Metrics\": {\"train_absolute_loss_objective\": {\"sum\": 0.8510168266296386, \"count\": 1, \"min\": 0.8510168266296386, \"max\": 0.8510168266296386}}}\u001b[0m\n",
      "\u001b[34m#metrics {\"StartTime\": 1646240212.579374, \"EndTime\": 1646240212.5793843, \"Dimensions\": {\"Algorithm\": \"Linear Learner\", \"Host\": \"algo-1\", \"Operation\": \"training\", \"epoch\": 1, \"model\": 10}, \"Metrics\": {\"train_absolute_loss_objective\": {\"sum\": 0.8572667694091797, \"count\": 1, \"min\": 0.8572667694091797, \"max\": 0.8572667694091797}}}\u001b[0m\n",
      "\u001b[34m#metrics {\"StartTime\": 1646240212.5794373, \"EndTime\": 1646240212.5794473, \"Dimensions\": {\"Algorithm\": \"Linear Learner\", \"Host\": \"algo-1\", \"Operation\": \"training\", \"epoch\": 1, \"model\": 11}, \"Metrics\": {\"train_absolute_loss_objective\": {\"sum\": 0.8434462928771973, \"count\": 1, \"min\": 0.8434462928771973, \"max\": 0.8434462928771973}}}\u001b[0m\n",
      "\u001b[34m#metrics {\"StartTime\": 1646240212.579503, \"EndTime\": 1646240212.5795183, \"Dimensions\": {\"Algorithm\": \"Linear Learner\", \"Host\": \"algo-1\", \"Operation\": \"training\", \"epoch\": 1, \"model\": 12}, \"Metrics\": {\"train_absolute_loss_objective\": {\"sum\": 0.5472811794281006, \"count\": 1, \"min\": 0.5472811794281006, \"max\": 0.5472811794281006}}}\u001b[0m\n",
      "\u001b[34m#metrics {\"StartTime\": 1646240212.5795698, \"EndTime\": 1646240212.5795786, \"Dimensions\": {\"Algorithm\": \"Linear Learner\", \"Host\": \"algo-1\", \"Operation\": \"training\", \"epoch\": 1, \"model\": 13}, \"Metrics\": {\"train_absolute_loss_objective\": {\"sum\": 0.5564985370635986, \"count\": 1, \"min\": 0.5564985370635986, \"max\": 0.5564985370635986}}}\u001b[0m\n",
      "\u001b[34m#metrics {\"StartTime\": 1646240212.5796347, \"EndTime\": 1646240212.5796492, \"Dimensions\": {\"Algorithm\": \"Linear Learner\", \"Host\": \"algo-1\", \"Operation\": \"training\", \"epoch\": 1, \"model\": 14}, \"Metrics\": {\"train_absolute_loss_objective\": {\"sum\": 0.5467590999603271, \"count\": 1, \"min\": 0.5467590999603271, \"max\": 0.5467590999603271}}}\u001b[0m\n",
      "\u001b[34m#metrics {\"StartTime\": 1646240212.5796967, \"EndTime\": 1646240212.5797114, \"Dimensions\": {\"Algorithm\": \"Linear Learner\", \"Host\": \"algo-1\", \"Operation\": \"training\", \"epoch\": 1, \"model\": 15}, \"Metrics\": {\"train_absolute_loss_objective\": {\"sum\": 0.5587075996398926, \"count\": 1, \"min\": 0.5587075996398926, \"max\": 0.5587075996398926}}}\u001b[0m\n",
      "\u001b[34m#metrics {\"StartTime\": 1646240212.5797641, \"EndTime\": 1646240212.5797725, \"Dimensions\": {\"Algorithm\": \"Linear Learner\", \"Host\": \"algo-1\", \"Operation\": \"training\", \"epoch\": 1, \"model\": 16}, \"Metrics\": {\"train_absolute_loss_objective\": {\"sum\": 0.8286686420440674, \"count\": 1, \"min\": 0.8286686420440674, \"max\": 0.8286686420440674}}}\u001b[0m\n",
      "\u001b[34m#metrics {\"StartTime\": 1646240212.579826, \"EndTime\": 1646240212.5798452, \"Dimensions\": {\"Algorithm\": \"Linear Learner\", \"Host\": \"algo-1\", \"Operation\": \"training\", \"epoch\": 1, \"model\": 17}, \"Metrics\": {\"train_absolute_loss_objective\": {\"sum\": 0.8764018440246581, \"count\": 1, \"min\": 0.8764018440246581, \"max\": 0.8764018440246581}}}\u001b[0m\n",
      "\u001b[34m#metrics {\"StartTime\": 1646240212.5798948, \"EndTime\": 1646240212.579908, \"Dimensions\": {\"Algorithm\": \"Linear Learner\", \"Host\": \"algo-1\", \"Operation\": \"training\", \"epoch\": 1, \"model\": 18}, \"Metrics\": {\"train_absolute_loss_objective\": {\"sum\": 0.8538718128204346, \"count\": 1, \"min\": 0.8538718128204346, \"max\": 0.8538718128204346}}}\u001b[0m\n",
      "\u001b[34m#metrics {\"StartTime\": 1646240212.5800402, \"EndTime\": 1646240212.5800557, \"Dimensions\": {\"Algorithm\": \"Linear Learner\", \"Host\": \"algo-1\", \"Operation\": \"training\", \"epoch\": 1, \"model\": 19}, \"Metrics\": {\"train_absolute_loss_objective\": {\"sum\": 0.8513554859161377, \"count\": 1, \"min\": 0.8513554859161377, \"max\": 0.8513554859161377}}}\u001b[0m\n",
      "\u001b[34m#metrics {\"StartTime\": 1646240212.5801177, \"EndTime\": 1646240212.5801358, \"Dimensions\": {\"Algorithm\": \"Linear Learner\", \"Host\": \"algo-1\", \"Operation\": \"training\", \"epoch\": 1, \"model\": 20}, \"Metrics\": {\"train_absolute_loss_objective\": {\"sum\": 0.5942720317840576, \"count\": 1, \"min\": 0.5942720317840576, \"max\": 0.5942720317840576}}}\u001b[0m\n",
      "\u001b[34m#metrics {\"StartTime\": 1646240212.5801833, \"EndTime\": 1646240212.5802085, \"Dimensions\": {\"Algorithm\": \"Linear Learner\", \"Host\": \"algo-1\", \"Operation\": \"training\", \"epoch\": 1, \"model\": 21}, \"Metrics\": {\"train_absolute_loss_objective\": {\"sum\": 0.6004386615753173, \"count\": 1, \"min\": 0.6004386615753173, \"max\": 0.6004386615753173}}}\u001b[0m\n",
      "\u001b[34m#metrics {\"StartTime\": 1646240212.5802617, \"EndTime\": 1646240212.5802736, \"Dimensions\": {\"Algorithm\": \"Linear Learner\", \"Host\": \"algo-1\", \"Operation\": \"training\", \"epoch\": 1, \"model\": 22}, \"Metrics\": {\"train_absolute_loss_objective\": {\"sum\": 0.5838899135589599, \"count\": 1, \"min\": 0.5838899135589599, \"max\": 0.5838899135589599}}}\u001b[0m\n",
      "\u001b[34m#metrics {\"StartTime\": 1646240212.5803273, \"EndTime\": 1646240212.5803785, \"Dimensions\": {\"Algorithm\": \"Linear Learner\", \"Host\": \"algo-1\", \"Operation\": \"training\", \"epoch\": 1, \"model\": 23}, \"Metrics\": {\"train_absolute_loss_objective\": {\"sum\": 0.6115681076049805, \"count\": 1, \"min\": 0.6115681076049805, \"max\": 0.6115681076049805}}}\u001b[0m\n",
      "\u001b[34m#metrics {\"StartTime\": 1646240212.580441, \"EndTime\": 1646240212.580453, \"Dimensions\": {\"Algorithm\": \"Linear Learner\", \"Host\": \"algo-1\", \"Operation\": \"training\", \"epoch\": 1, \"model\": 24}, \"Metrics\": {\"train_absolute_loss_objective\": {\"sum\": 0.8716982746124268, \"count\": 1, \"min\": 0.8716982746124268, \"max\": 0.8716982746124268}}}\u001b[0m\n",
      "\u001b[34m#metrics {\"StartTime\": 1646240212.5805097, \"EndTime\": 1646240212.5805228, \"Dimensions\": {\"Algorithm\": \"Linear Learner\", \"Host\": \"algo-1\", \"Operation\": \"training\", \"epoch\": 1, \"model\": 25}, \"Metrics\": {\"train_absolute_loss_objective\": {\"sum\": 0.8944852256774902, \"count\": 1, \"min\": 0.8944852256774902, \"max\": 0.8944852256774902}}}\u001b[0m\n",
      "\u001b[34m#metrics {\"StartTime\": 1646240212.580575, \"EndTime\": 1646240212.5805948, \"Dimensions\": {\"Algorithm\": \"Linear Learner\", \"Host\": \"algo-1\", \"Operation\": \"training\", \"epoch\": 1, \"model\": 26}, \"Metrics\": {\"train_absolute_loss_objective\": {\"sum\": 0.8849925994873047, \"count\": 1, \"min\": 0.8849925994873047, \"max\": 0.8849925994873047}}}\u001b[0m\n",
      "\u001b[34m#metrics {\"StartTime\": 1646240212.5806384, \"EndTime\": 1646240212.5806625, \"Dimensions\": {\"Algorithm\": \"Linear Learner\", \"Host\": \"algo-1\", \"Operation\": \"training\", \"epoch\": 1, \"model\": 27}, \"Metrics\": {\"train_absolute_loss_objective\": {\"sum\": 0.8860858535766601, \"count\": 1, \"min\": 0.8860858535766601, \"max\": 0.8860858535766601}}}\u001b[0m\n",
      "\u001b[34m#metrics {\"StartTime\": 1646240212.5807092, \"EndTime\": 1646240212.5807254, \"Dimensions\": {\"Algorithm\": \"Linear Learner\", \"Host\": \"algo-1\", \"Operation\": \"training\", \"epoch\": 1, \"model\": 28}, \"Metrics\": {\"train_absolute_loss_objective\": {\"sum\": 1.07719651222229, \"count\": 1, \"min\": 1.07719651222229, \"max\": 1.07719651222229}}}\u001b[0m\n",
      "\u001b[34m#metrics {\"StartTime\": 1646240212.5807714, \"EndTime\": 1646240212.5807862, \"Dimensions\": {\"Algorithm\": \"Linear Learner\", \"Host\": \"algo-1\", \"Operation\": \"training\", \"epoch\": 1, \"model\": 29}, \"Metrics\": {\"train_absolute_loss_objective\": {\"sum\": 1.0761445426940919, \"count\": 1, \"min\": 1.0761445426940919, \"max\": 1.0761445426940919}}}\u001b[0m\n",
      "\u001b[34m#metrics {\"StartTime\": 1646240212.5808353, \"EndTime\": 1646240212.5808516, \"Dimensions\": {\"Algorithm\": \"Linear Learner\", \"Host\": \"algo-1\", \"Operation\": \"training\", \"epoch\": 1, \"model\": 30}, \"Metrics\": {\"train_absolute_loss_objective\": {\"sum\": 1.0674837112426758, \"count\": 1, \"min\": 1.0674837112426758, \"max\": 1.0674837112426758}}}\u001b[0m\n",
      "\u001b[34m#metrics {\"StartTime\": 1646240212.5808957, \"EndTime\": 1646240212.5809155, \"Dimensions\": {\"Algorithm\": \"Linear Learner\", \"Host\": \"algo-1\", \"Operation\": \"training\", \"epoch\": 1, \"model\": 31}, \"Metrics\": {\"train_absolute_loss_objective\": {\"sum\": 0.890598316192627, \"count\": 1, \"min\": 0.890598316192627, \"max\": 0.890598316192627}}}\u001b[0m\n",
      "\u001b[34m[03/02/2022 16:56:52 INFO 140480750188352] #quality_metric: host=algo-1, epoch=1, train absolute_loss_objective <loss>=0.8622401618957519\u001b[0m\n",
      "\u001b[34m[03/02/2022 16:56:52 INFO 140480750188352] #early_stopping_criteria_metric: host=algo-1, epoch=1, criteria=absolute_loss_objective, value=0.5439488124847413\u001b[0m\n",
      "\u001b[34m[03/02/2022 16:56:52 INFO 140480750188352] Epoch 1: Loss improved. Updating best model\u001b[0m\n",
      "\u001b[34m[03/02/2022 16:56:52 INFO 140480750188352] Saving model for epoch: 1\u001b[0m\n",
      "\u001b[34m[03/02/2022 16:56:52 INFO 140480750188352] Saved checkpoint to \"/tmp/tmpl6b8iuxx/mx-mod-0000.params\"\u001b[0m\n",
      "\u001b[34m[03/02/2022 16:56:52 INFO 140480750188352] #progress_metric: host=algo-1, completed 40.0 % of epochs\u001b[0m\n",
      "\u001b[34m#metrics {\"StartTime\": 1646240212.4402707, \"EndTime\": 1646240212.5922985, \"Dimensions\": {\"Algorithm\": \"Linear Learner\", \"Host\": \"algo-1\", \"Operation\": \"training\", \"epoch\": 1, \"Meta\": \"training_data_iter\"}, \"Metrics\": {\"Total Records Seen\": {\"sum\": 83.0, \"count\": 1, \"min\": 83, \"max\": 83}, \"Total Batches Seen\": {\"sum\": 19.0, \"count\": 1, \"min\": 19, \"max\": 19}, \"Max Records Seen Between Resets\": {\"sum\": 26.0, \"count\": 1, \"min\": 26, \"max\": 26}, \"Max Batches Seen Between Resets\": {\"sum\": 6.0, \"count\": 1, \"min\": 6, \"max\": 6}, \"Reset Count\": {\"sum\": 4.0, \"count\": 1, \"min\": 4, \"max\": 4}, \"Number of Records Since Last Reset\": {\"sum\": 26.0, \"count\": 1, \"min\": 26, \"max\": 26}, \"Number of Batches Since Last Reset\": {\"sum\": 6.0, \"count\": 1, \"min\": 6, \"max\": 6}}}\u001b[0m\n",
      "\u001b[34m[03/02/2022 16:56:52 INFO 140480750188352] #throughput_metric: host=algo-1, train throughput=170.87284493227097 records/second\u001b[0m\n",
      "\u001b[34m[2022-03-02 16:56:52.747] [tensorio] [info] epoch_stats={\"data_pipeline\": \"/opt/ml/input/data/train\", \"epoch\": 8, \"duration\": 154, \"num_examples\": 6, \"num_bytes\": 1248}\u001b[0m\n",
      "\u001b[34m#metrics {\"StartTime\": 1646240212.7476406, \"EndTime\": 1646240212.7477348, \"Dimensions\": {\"Algorithm\": \"Linear Learner\", \"Host\": \"algo-1\", \"Operation\": \"training\", \"epoch\": 2, \"model\": 0}, \"Metrics\": {\"train_absolute_loss_objective\": {\"sum\": 0.8399850463867188, \"count\": 1, \"min\": 0.8399850463867188, \"max\": 0.8399850463867188}}}\u001b[0m\n",
      "\u001b[34m#metrics {\"StartTime\": 1646240212.7478714, \"EndTime\": 1646240212.7478855, \"Dimensions\": {\"Algorithm\": \"Linear Learner\", \"Host\": \"algo-1\", \"Operation\": \"training\", \"epoch\": 2, \"model\": 1}, \"Metrics\": {\"train_absolute_loss_objective\": {\"sum\": 0.8587358093261719, \"count\": 1, \"min\": 0.8587358093261719, \"max\": 0.8587358093261719}}}\u001b[0m\n",
      "\u001b[34m#metrics {\"StartTime\": 1646240212.7479424, \"EndTime\": 1646240212.7479541, \"Dimensions\": {\"Algorithm\": \"Linear Learner\", \"Host\": \"algo-1\", \"Operation\": \"training\", \"epoch\": 2, \"model\": 2}, \"Metrics\": {\"train_absolute_loss_objective\": {\"sum\": 0.8422666358947754, \"count\": 1, \"min\": 0.8422666358947754, \"max\": 0.8422666358947754}}}\u001b[0m\n",
      "\u001b[34m#metrics {\"StartTime\": 1646240212.7480023, \"EndTime\": 1646240212.7480395, \"Dimensions\": {\"Algorithm\": \"Linear Learner\", \"Host\": \"algo-1\", \"Operation\": \"training\", \"epoch\": 2, \"model\": 3}, \"Metrics\": {\"train_absolute_loss_objective\": {\"sum\": 0.8577732467651367, \"count\": 1, \"min\": 0.8577732467651367, \"max\": 0.8577732467651367}}}\u001b[0m\n",
      "\u001b[34m#metrics {\"StartTime\": 1646240212.748087, \"EndTime\": 1646240212.7481031, \"Dimensions\": {\"Algorithm\": \"Linear Learner\", \"Host\": \"algo-1\", \"Operation\": \"training\", \"epoch\": 2, \"model\": 4}, \"Metrics\": {\"train_absolute_loss_objective\": {\"sum\": 0.212097647190094, \"count\": 1, \"min\": 0.212097647190094, \"max\": 0.212097647190094}}}\u001b[0m\n",
      "\u001b[34m#metrics {\"StartTime\": 1646240212.7481477, \"EndTime\": 1646240212.7481508, \"Dimensions\": {\"Algorithm\": \"Linear Learner\", \"Host\": \"algo-1\", \"Operation\": \"training\", \"epoch\": 2, \"model\": 5}, \"Metrics\": {\"train_absolute_loss_objective\": {\"sum\": 0.20831358432769775, \"count\": 1, \"min\": 0.20831358432769775, \"max\": 0.20831358432769775}}}\u001b[0m\n",
      "\u001b[34m#metrics {\"StartTime\": 1646240212.7483578, \"EndTime\": 1646240212.7483795, \"Dimensions\": {\"Algorithm\": \"Linear Learner\", \"Host\": \"algo-1\", \"Operation\": \"training\", \"epoch\": 2, \"model\": 6}, \"Metrics\": {\"train_absolute_loss_objective\": {\"sum\": 0.24338613748550414, \"count\": 1, \"min\": 0.24338613748550414, \"max\": 0.24338613748550414}}}\u001b[0m\n",
      "\u001b[34m#metrics {\"StartTime\": 1646240212.7484195, \"EndTime\": 1646240212.748452, \"Dimensions\": {\"Algorithm\": \"Linear Learner\", \"Host\": \"algo-1\", \"Operation\": \"training\", \"epoch\": 2, \"model\": 7}, \"Metrics\": {\"train_absolute_loss_objective\": {\"sum\": 0.2164074444770813, \"count\": 1, \"min\": 0.2164074444770813, \"max\": 0.2164074444770813}}}\u001b[0m\n",
      "\u001b[34m#metrics {\"StartTime\": 1646240212.748507, \"EndTime\": 1646240212.7485232, \"Dimensions\": {\"Algorithm\": \"Linear Learner\", \"Host\": \"algo-1\", \"Operation\": \"training\", \"epoch\": 2, \"model\": 8}, \"Metrics\": {\"train_absolute_loss_objective\": {\"sum\": 0.8928686428070068, \"count\": 1, \"min\": 0.8928686428070068, \"max\": 0.8928686428070068}}}\u001b[0m\n",
      "\u001b[34m#metrics {\"StartTime\": 1646240212.7485714, \"EndTime\": 1646240212.7485814, \"Dimensions\": {\"Algorithm\": \"Linear Learner\", \"Host\": \"algo-1\", \"Operation\": \"training\", \"epoch\": 2, \"model\": 9}, \"Metrics\": {\"train_absolute_loss_objective\": {\"sum\": 0.8285224533081055, \"count\": 1, \"min\": 0.8285224533081055, \"max\": 0.8285224533081055}}}\u001b[0m\n",
      "\u001b[34m#metrics {\"StartTime\": 1646240212.7486403, \"EndTime\": 1646240212.7486553, \"Dimensions\": {\"Algorithm\": \"Linear Learner\", \"Host\": \"algo-1\", \"Operation\": \"training\", \"epoch\": 2, \"model\": 10}, \"Metrics\": {\"train_absolute_loss_objective\": {\"sum\": 0.8349437999725342, \"count\": 1, \"min\": 0.8349437999725342, \"max\": 0.8349437999725342}}}\u001b[0m\n",
      "\u001b[34m#metrics {\"StartTime\": 1646240212.748705, \"EndTime\": 1646240212.7487216, \"Dimensions\": {\"Algorithm\": \"Linear Learner\", \"Host\": \"algo-1\", \"Operation\": \"training\", \"epoch\": 2, \"model\": 11}, \"Metrics\": {\"train_absolute_loss_objective\": {\"sum\": 0.8208462429046631, \"count\": 1, \"min\": 0.8208462429046631, \"max\": 0.8208462429046631}}}\u001b[0m\n",
      "\u001b[34m#metrics {\"StartTime\": 1646240212.748769, \"EndTime\": 1646240212.748787, \"Dimensions\": {\"Algorithm\": \"Linear Learner\", \"Host\": \"algo-1\", \"Operation\": \"training\", \"epoch\": 2, \"model\": 12}, \"Metrics\": {\"train_absolute_loss_objective\": {\"sum\": 0.20602542161941528, \"count\": 1, \"min\": 0.20602542161941528, \"max\": 0.20602542161941528}}}\u001b[0m\n",
      "\u001b[34m#metrics {\"StartTime\": 1646240212.7488399, \"EndTime\": 1646240212.7488587, \"Dimensions\": {\"Algorithm\": \"Linear Learner\", \"Host\": \"algo-1\", \"Operation\": \"training\", \"epoch\": 2, \"model\": 13}, \"Metrics\": {\"train_absolute_loss_objective\": {\"sum\": 0.22185259342193603, \"count\": 1, \"min\": 0.22185259342193603, \"max\": 0.22185259342193603}}}\u001b[0m\n",
      "\u001b[34m#metrics {\"StartTime\": 1646240212.7489097, \"EndTime\": 1646240212.748927, \"Dimensions\": {\"Algorithm\": \"Linear Learner\", \"Host\": \"algo-1\", \"Operation\": \"training\", \"epoch\": 2, \"model\": 14}, \"Metrics\": {\"train_absolute_loss_objective\": {\"sum\": 0.2067611861228943, \"count\": 1, \"min\": 0.2067611861228943, \"max\": 0.2067611861228943}}}\u001b[0m\n",
      "\u001b[34m#metrics {\"StartTime\": 1646240212.7489707, \"EndTime\": 1646240212.748988, \"Dimensions\": {\"Algorithm\": \"Linear Learner\", \"Host\": \"algo-1\", \"Operation\": \"training\", \"epoch\": 2, \"model\": 15}, \"Metrics\": {\"train_absolute_loss_objective\": {\"sum\": 0.22070251226425172, \"count\": 1, \"min\": 0.22070251226425172, \"max\": 0.22070251226425172}}}\u001b[0m\n",
      "\u001b[34m#metrics {\"StartTime\": 1646240212.7490425, \"EndTime\": 1646240212.7490506, \"Dimensions\": {\"Algorithm\": \"Linear Learner\", \"Host\": \"algo-1\", \"Operation\": \"training\", \"epoch\": 2, \"model\": 16}, \"Metrics\": {\"train_absolute_loss_objective\": {\"sum\": 0.8062006378173828, \"count\": 1, \"min\": 0.8062006378173828, \"max\": 0.8062006378173828}}}\u001b[0m\n",
      "\u001b[34m#metrics {\"StartTime\": 1646240212.7490926, \"EndTime\": 1646240212.7491124, \"Dimensions\": {\"Algorithm\": \"Linear Learner\", \"Host\": \"algo-1\", \"Operation\": \"training\", \"epoch\": 2, \"model\": 17}, \"Metrics\": {\"train_absolute_loss_objective\": {\"sum\": 0.8543910026550293, \"count\": 1, \"min\": 0.8543910026550293, \"max\": 0.8543910026550293}}}\u001b[0m\n",
      "\u001b[34m#metrics {\"StartTime\": 1646240212.7491586, \"EndTime\": 1646240212.7491765, \"Dimensions\": {\"Algorithm\": \"Linear Learner\", \"Host\": \"algo-1\", \"Operation\": \"training\", \"epoch\": 2, \"model\": 18}, \"Metrics\": {\"train_absolute_loss_objective\": {\"sum\": 0.8316858673095703, \"count\": 1, \"min\": 0.8316858673095703, \"max\": 0.8316858673095703}}}\u001b[0m\n",
      "\u001b[34m#metrics {\"StartTime\": 1646240212.749213, \"EndTime\": 1646240212.7492409, \"Dimensions\": {\"Algorithm\": \"Linear Learner\", \"Host\": \"algo-1\", \"Operation\": \"training\", \"epoch\": 2, \"model\": 19}, \"Metrics\": {\"train_absolute_loss_objective\": {\"sum\": 0.8290580654144287, \"count\": 1, \"min\": 0.8290580654144287, \"max\": 0.8290580654144287}}}\u001b[0m\n",
      "\u001b[34m#metrics {\"StartTime\": 1646240212.7492878, \"EndTime\": 1646240212.7493048, \"Dimensions\": {\"Algorithm\": \"Linear Learner\", \"Host\": \"algo-1\", \"Operation\": \"training\", \"epoch\": 2, \"model\": 20}, \"Metrics\": {\"train_absolute_loss_objective\": {\"sum\": 0.34286614894866946, \"count\": 1, \"min\": 0.34286614894866946, \"max\": 0.34286614894866946}}}\u001b[0m\n",
      "\u001b[34m#metrics {\"StartTime\": 1646240212.7493575, \"EndTime\": 1646240212.7494183, \"Dimensions\": {\"Algorithm\": \"Linear Learner\", \"Host\": \"algo-1\", \"Operation\": \"training\", \"epoch\": 2, \"model\": 21}, \"Metrics\": {\"train_absolute_loss_objective\": {\"sum\": 0.34413156032562253, \"count\": 1, \"min\": 0.34413156032562253, \"max\": 0.34413156032562253}}}\u001b[0m\n",
      "\u001b[34m#metrics {\"StartTime\": 1646240212.7494633, \"EndTime\": 1646240212.7494924, \"Dimensions\": {\"Algorithm\": \"Linear Learner\", \"Host\": \"algo-1\", \"Operation\": \"training\", \"epoch\": 2, \"model\": 22}, \"Metrics\": {\"train_absolute_loss_objective\": {\"sum\": 0.40436954975128175, \"count\": 1, \"min\": 0.40436954975128175, \"max\": 0.40436954975128175}}}\u001b[0m\n",
      "\u001b[34m#metrics {\"StartTime\": 1646240212.7495537, \"EndTime\": 1646240212.7495735, \"Dimensions\": {\"Algorithm\": \"Linear Learner\", \"Host\": \"algo-1\", \"Operation\": \"training\", \"epoch\": 2, \"model\": 23}, \"Metrics\": {\"train_absolute_loss_objective\": {\"sum\": 0.34725035190582276, \"count\": 1, \"min\": 0.34725035190582276, \"max\": 0.34725035190582276}}}\u001b[0m\n",
      "\u001b[34m#metrics {\"StartTime\": 1646240212.7496362, \"EndTime\": 1646240212.749654, \"Dimensions\": {\"Algorithm\": \"Linear Learner\", \"Host\": \"algo-1\", \"Operation\": \"training\", \"epoch\": 2, \"model\": 24}, \"Metrics\": {\"train_absolute_loss_objective\": {\"sum\": 0.8854031658172608, \"count\": 1, \"min\": 0.8854031658172608, \"max\": 0.8854031658172608}}}\u001b[0m\n",
      "\u001b[34m#metrics {\"StartTime\": 1646240212.749708, \"EndTime\": 1646240212.7497194, \"Dimensions\": {\"Algorithm\": \"Linear Learner\", \"Host\": \"algo-1\", \"Operation\": \"training\", \"epoch\": 2, \"model\": 25}, \"Metrics\": {\"train_absolute_loss_objective\": {\"sum\": 0.8798805618286133, \"count\": 1, \"min\": 0.8798805618286133, \"max\": 0.8798805618286133}}}\u001b[0m\n",
      "\u001b[34m#metrics {\"StartTime\": 1646240212.7497897, \"EndTime\": 1646240212.7498024, \"Dimensions\": {\"Algorithm\": \"Linear Learner\", \"Host\": \"algo-1\", \"Operation\": \"training\", \"epoch\": 2, \"model\": 26}, \"Metrics\": {\"train_absolute_loss_objective\": {\"sum\": 0.8800213432312012, \"count\": 1, \"min\": 0.8800213432312012, \"max\": 0.8800213432312012}}}\u001b[0m\n",
      "\u001b[34m#metrics {\"StartTime\": 1646240212.7498767, \"EndTime\": 1646240212.7498915, \"Dimensions\": {\"Algorithm\": \"Linear Learner\", \"Host\": \"algo-1\", \"Operation\": \"training\", \"epoch\": 2, \"model\": 27}, \"Metrics\": {\"train_absolute_loss_objective\": {\"sum\": 0.8896613788604736, \"count\": 1, \"min\": 0.8896613788604736, \"max\": 0.8896613788604736}}}\u001b[0m\n",
      "\u001b[34m#metrics {\"StartTime\": 1646240212.7499526, \"EndTime\": 1646240212.749973, \"Dimensions\": {\"Algorithm\": \"Linear Learner\", \"Host\": \"algo-1\", \"Operation\": \"training\", \"epoch\": 2, \"model\": 28}, \"Metrics\": {\"train_absolute_loss_objective\": {\"sum\": 1.0169386672973633, \"count\": 1, \"min\": 1.0169386672973633, \"max\": 1.0169386672973633}}}\u001b[0m\n",
      "\u001b[34m#metrics {\"StartTime\": 1646240212.7500331, \"EndTime\": 1646240212.7500546, \"Dimensions\": {\"Algorithm\": \"Linear Learner\", \"Host\": \"algo-1\", \"Operation\": \"training\", \"epoch\": 2, \"model\": 29}, \"Metrics\": {\"train_absolute_loss_objective\": {\"sum\": 1.019397211074829, \"count\": 1, \"min\": 1.019397211074829, \"max\": 1.019397211074829}}}\u001b[0m\n",
      "\u001b[34m#metrics {\"StartTime\": 1646240212.7501054, \"EndTime\": 1646240212.7501175, \"Dimensions\": {\"Algorithm\": \"Linear Learner\", \"Host\": \"algo-1\", \"Operation\": \"training\", \"epoch\": 2, \"model\": 30}, \"Metrics\": {\"train_absolute_loss_objective\": {\"sum\": 1.022465419769287, \"count\": 1, \"min\": 1.022465419769287, \"max\": 1.022465419769287}}}\u001b[0m\n",
      "\u001b[34m#metrics {\"StartTime\": 1646240212.7501867, \"EndTime\": 1646240212.7501965, \"Dimensions\": {\"Algorithm\": \"Linear Learner\", \"Host\": \"algo-1\", \"Operation\": \"training\", \"epoch\": 2, \"model\": 31}, \"Metrics\": {\"train_absolute_loss_objective\": {\"sum\": 0.9813938903808593, \"count\": 1, \"min\": 0.9813938903808593, \"max\": 0.9813938903808593}}}\u001b[0m\n",
      "\u001b[34m[03/02/2022 16:56:52 INFO 140480750188352] #quality_metric: host=algo-1, epoch=2, train absolute_loss_objective <loss>=0.8399850463867188\u001b[0m\n",
      "\u001b[34m[03/02/2022 16:56:52 INFO 140480750188352] #early_stopping_criteria_metric: host=algo-1, epoch=2, criteria=absolute_loss_objective, value=0.20602542161941528\u001b[0m\n",
      "\u001b[34m[03/02/2022 16:56:52 INFO 140480750188352] Epoch 2: Loss improved. Updating best model\u001b[0m\n",
      "\u001b[34m[03/02/2022 16:56:52 INFO 140480750188352] Saving model for epoch: 2\u001b[0m\n",
      "\u001b[34m[03/02/2022 16:56:52 INFO 140480750188352] Saved checkpoint to \"/tmp/tmpn3zesk6l/mx-mod-0000.params\"\u001b[0m\n",
      "\u001b[34m[03/02/2022 16:56:52 INFO 140480750188352] #progress_metric: host=algo-1, completed 60.0 % of epochs\u001b[0m\n",
      "\u001b[34m#metrics {\"StartTime\": 1646240212.5925777, \"EndTime\": 1646240212.7623892, \"Dimensions\": {\"Algorithm\": \"Linear Learner\", \"Host\": \"algo-1\", \"Operation\": \"training\", \"epoch\": 2, \"Meta\": \"training_data_iter\"}, \"Metrics\": {\"Total Records Seen\": {\"sum\": 109.0, \"count\": 1, \"min\": 109, \"max\": 109}, \"Total Batches Seen\": {\"sum\": 25.0, \"count\": 1, \"min\": 25, \"max\": 25}, \"Max Records Seen Between Resets\": {\"sum\": 26.0, \"count\": 1, \"min\": 26, \"max\": 26}, \"Max Batches Seen Between Resets\": {\"sum\": 6.0, \"count\": 1, \"min\": 6, \"max\": 6}, \"Reset Count\": {\"sum\": 5.0, \"count\": 1, \"min\": 5, \"max\": 5}, \"Number of Records Since Last Reset\": {\"sum\": 26.0, \"count\": 1, \"min\": 26, \"max\": 26}, \"Number of Batches Since Last Reset\": {\"sum\": 6.0, \"count\": 1, \"min\": 6, \"max\": 6}}}\u001b[0m\n",
      "\u001b[34m[03/02/2022 16:56:52 INFO 140480750188352] #throughput_metric: host=algo-1, train throughput=153.00247774101854 records/second\u001b[0m\n",
      "\u001b[34m[2022-03-02 16:56:52.973] [tensorio] [info] epoch_stats={\"data_pipeline\": \"/opt/ml/input/data/train\", \"epoch\": 10, \"duration\": 210, \"num_examples\": 6, \"num_bytes\": 1248}\u001b[0m\n",
      "\u001b[34m#metrics {\"StartTime\": 1646240212.9738092, \"EndTime\": 1646240212.9739666, \"Dimensions\": {\"Algorithm\": \"Linear Learner\", \"Host\": \"algo-1\", \"Operation\": \"training\", \"epoch\": 3, \"model\": 0}, \"Metrics\": {\"train_absolute_loss_objective\": {\"sum\": 0.8191282749176025, \"count\": 1, \"min\": 0.8191282749176025, \"max\": 0.8191282749176025}}}\u001b[0m\n",
      "\u001b[34m#metrics {\"StartTime\": 1646240212.9741156, \"EndTime\": 1646240212.9741561, \"Dimensions\": {\"Algorithm\": \"Linear Learner\", \"Host\": \"algo-1\", \"Operation\": \"training\", \"epoch\": 3, \"model\": 1}, \"Metrics\": {\"train_absolute_loss_objective\": {\"sum\": 0.8376683235168457, \"count\": 1, \"min\": 0.8376683235168457, \"max\": 0.8376683235168457}}}\u001b[0m\n",
      "\u001b[34m#metrics {\"StartTime\": 1646240212.9742641, \"EndTime\": 1646240212.9743035, \"Dimensions\": {\"Algorithm\": \"Linear Learner\", \"Host\": \"algo-1\", \"Operation\": \"training\", \"epoch\": 3, \"model\": 2}, \"Metrics\": {\"train_absolute_loss_objective\": {\"sum\": 0.8214098739624024, \"count\": 1, \"min\": 0.8214098739624024, \"max\": 0.8214098739624024}}}\u001b[0m\n",
      "\u001b[34m#metrics {\"StartTime\": 1646240212.9744062, \"EndTime\": 1646240212.9744914, \"Dimensions\": {\"Algorithm\": \"Linear Learner\", \"Host\": \"algo-1\", \"Operation\": \"training\", \"epoch\": 3, \"model\": 3}, \"Metrics\": {\"train_absolute_loss_objective\": {\"sum\": 0.8367058086395264, \"count\": 1, \"min\": 0.8367058086395264, \"max\": 0.8367058086395264}}}\u001b[0m\n",
      "\u001b[34m#metrics {\"StartTime\": 1646240212.9745474, \"EndTime\": 1646240212.9746249, \"Dimensions\": {\"Algorithm\": \"Linear Learner\", \"Host\": \"algo-1\", \"Operation\": \"training\", \"epoch\": 3, \"model\": 4}, \"Metrics\": {\"train_absolute_loss_objective\": {\"sum\": 0.3054322600364685, \"count\": 1, \"min\": 0.3054322600364685, \"max\": 0.3054322600364685}}}\u001b[0m\n",
      "\u001b[34m#metrics {\"StartTime\": 1646240212.9746983, \"EndTime\": 1646240212.9747663, \"Dimensions\": {\"Algorithm\": \"Linear Learner\", \"Host\": \"algo-1\", \"Operation\": \"training\", \"epoch\": 3, \"model\": 5}, \"Metrics\": {\"train_absolute_loss_objective\": {\"sum\": 0.30570745944976807, \"count\": 1, \"min\": 0.30570745944976807, \"max\": 0.30570745944976807}}}\u001b[0m\n",
      "\u001b[34m#metrics {\"StartTime\": 1646240212.9748278, \"EndTime\": 1646240212.9748933, \"Dimensions\": {\"Algorithm\": \"Linear Learner\", \"Host\": \"algo-1\", \"Operation\": \"training\", \"epoch\": 3, \"model\": 6}, \"Metrics\": {\"train_absolute_loss_objective\": {\"sum\": 0.36466068744659424, \"count\": 1, \"min\": 0.36466068744659424, \"max\": 0.36466068744659424}}}\u001b[0m\n",
      "\u001b[34m#metrics {\"StartTime\": 1646240212.9749541, \"EndTime\": 1646240212.9749706, \"Dimensions\": {\"Algorithm\": \"Linear Learner\", \"Host\": \"algo-1\", \"Operation\": \"training\", \"epoch\": 3, \"model\": 7}, \"Metrics\": {\"train_absolute_loss_objective\": {\"sum\": 0.37508020401000974, \"count\": 1, \"min\": 0.37508020401000974, \"max\": 0.37508020401000974}}}\u001b[0m\n",
      "\u001b[34m#metrics {\"StartTime\": 1646240212.975068, \"EndTime\": 1646240212.975091, \"Dimensions\": {\"Algorithm\": \"Linear Learner\", \"Host\": \"algo-1\", \"Operation\": \"training\", \"epoch\": 3, \"model\": 8}, \"Metrics\": {\"train_absolute_loss_objective\": {\"sum\": 0.8720136260986329, \"count\": 1, \"min\": 0.8720136260986329, \"max\": 0.8720136260986329}}}\u001b[0m\n",
      "\u001b[34m#metrics {\"StartTime\": 1646240212.9752214, \"EndTime\": 1646240212.975257, \"Dimensions\": {\"Algorithm\": \"Linear Learner\", \"Host\": \"algo-1\", \"Operation\": \"training\", \"epoch\": 3, \"model\": 9}, \"Metrics\": {\"train_absolute_loss_objective\": {\"sum\": 0.8074581623077393, \"count\": 1, \"min\": 0.8074581623077393, \"max\": 0.8074581623077393}}}\u001b[0m\n",
      "\u001b[34m#metrics {\"StartTime\": 1646240212.9753544, \"EndTime\": 1646240212.9753742, \"Dimensions\": {\"Algorithm\": \"Linear Learner\", \"Host\": \"algo-1\", \"Operation\": \"training\", \"epoch\": 3, \"model\": 10}, \"Metrics\": {\"train_absolute_loss_objective\": {\"sum\": 0.8140900325775147, \"count\": 1, \"min\": 0.8140900325775147, \"max\": 0.8140900325775147}}}\u001b[0m\n",
      "\u001b[34m#metrics {\"StartTime\": 1646240212.9754796, \"EndTime\": 1646240212.975494, \"Dimensions\": {\"Algorithm\": \"Linear Learner\", \"Host\": \"algo-1\", \"Operation\": \"training\", \"epoch\": 3, \"model\": 11}, \"Metrics\": {\"train_absolute_loss_objective\": {\"sum\": 0.7997821044921875, \"count\": 1, \"min\": 0.7997821044921875, \"max\": 0.7997821044921875}}}\u001b[0m\n",
      "\u001b[34m#metrics {\"StartTime\": 1646240212.9756205, \"EndTime\": 1646240212.975635, \"Dimensions\": {\"Algorithm\": \"Linear Learner\", \"Host\": \"algo-1\", \"Operation\": \"training\", \"epoch\": 3, \"model\": 12}, \"Metrics\": {\"train_absolute_loss_objective\": {\"sum\": 0.3038103365898132, \"count\": 1, \"min\": 0.3038103365898132, \"max\": 0.3038103365898132}}}\u001b[0m\n",
      "\u001b[34m#metrics {\"StartTime\": 1646240212.9757311, \"EndTime\": 1646240212.9757516, \"Dimensions\": {\"Algorithm\": \"Linear Learner\", \"Host\": \"algo-1\", \"Operation\": \"training\", \"epoch\": 3, \"model\": 13}, \"Metrics\": {\"train_absolute_loss_objective\": {\"sum\": 0.38122437477111815, \"count\": 1, \"min\": 0.38122437477111815, \"max\": 0.38122437477111815}}}\u001b[0m\n",
      "\u001b[34m#metrics {\"StartTime\": 1646240212.975866, \"EndTime\": 1646240212.9758844, \"Dimensions\": {\"Algorithm\": \"Linear Learner\", \"Host\": \"algo-1\", \"Operation\": \"training\", \"epoch\": 3, \"model\": 14}, \"Metrics\": {\"train_absolute_loss_objective\": {\"sum\": 0.30395935773849486, \"count\": 1, \"min\": 0.30395935773849486, \"max\": 0.30395935773849486}}}\u001b[0m\n",
      "\u001b[34m#metrics {\"StartTime\": 1646240212.976021, \"EndTime\": 1646240212.976039, \"Dimensions\": {\"Algorithm\": \"Linear Learner\", \"Host\": \"algo-1\", \"Operation\": \"training\", \"epoch\": 3, \"model\": 15}, \"Metrics\": {\"train_absolute_loss_objective\": {\"sum\": 0.33791632652282716, \"count\": 1, \"min\": 0.33791632652282716, \"max\": 0.33791632652282716}}}\u001b[0m\n",
      "\u001b[34m#metrics {\"StartTime\": 1646240212.9761603, \"EndTime\": 1646240212.97618, \"Dimensions\": {\"Algorithm\": \"Linear Learner\", \"Host\": \"algo-1\", \"Operation\": \"training\", \"epoch\": 3, \"model\": 16}, \"Metrics\": {\"train_absolute_loss_objective\": {\"sum\": 0.7857619190216064, \"count\": 1, \"min\": 0.7857619190216064, \"max\": 0.7857619190216064}}}\u001b[0m\n",
      "\u001b[34m#metrics {\"StartTime\": 1646240212.9762778, \"EndTime\": 1646240212.976295, \"Dimensions\": {\"Algorithm\": \"Linear Learner\", \"Host\": \"algo-1\", \"Operation\": \"training\", \"epoch\": 3, \"model\": 17}, \"Metrics\": {\"train_absolute_loss_objective\": {\"sum\": 0.8336038398742676, \"count\": 1, \"min\": 0.8336038398742676, \"max\": 0.8336038398742676}}}\u001b[0m\n",
      "\u001b[34m#metrics {\"StartTime\": 1646240212.9763935, \"EndTime\": 1646240212.97642, \"Dimensions\": {\"Algorithm\": \"Linear Learner\", \"Host\": \"algo-1\", \"Operation\": \"training\", \"epoch\": 3, \"model\": 18}, \"Metrics\": {\"train_absolute_loss_objective\": {\"sum\": 0.8111689758300781, \"count\": 1, \"min\": 0.8111689758300781, \"max\": 0.8111689758300781}}}\u001b[0m\n",
      "\u001b[34m#metrics {\"StartTime\": 1646240212.9765458, \"EndTime\": 1646240212.9765663, \"Dimensions\": {\"Algorithm\": \"Linear Learner\", \"Host\": \"algo-1\", \"Operation\": \"training\", \"epoch\": 3, \"model\": 19}, \"Metrics\": {\"train_absolute_loss_objective\": {\"sum\": 0.808342227935791, \"count\": 1, \"min\": 0.808342227935791, \"max\": 0.808342227935791}}}\u001b[0m\n",
      "\u001b[34m#metrics {\"StartTime\": 1646240212.9766874, \"EndTime\": 1646240212.9767082, \"Dimensions\": {\"Algorithm\": \"Linear Learner\", \"Host\": \"algo-1\", \"Operation\": \"training\", \"epoch\": 3, \"model\": 20}, \"Metrics\": {\"train_absolute_loss_objective\": {\"sum\": 0.38194679737091064, \"count\": 1, \"min\": 0.38194679737091064, \"max\": 0.38194679737091064}}}\u001b[0m\n",
      "\u001b[34m#metrics {\"StartTime\": 1646240212.976842, \"EndTime\": 1646240212.9769194, \"Dimensions\": {\"Algorithm\": \"Linear Learner\", \"Host\": \"algo-1\", \"Operation\": \"training\", \"epoch\": 3, \"model\": 21}, \"Metrics\": {\"train_absolute_loss_objective\": {\"sum\": 0.38293229579925536, \"count\": 1, \"min\": 0.38293229579925536, \"max\": 0.38293229579925536}}}\u001b[0m\n",
      "\u001b[34m#metrics {\"StartTime\": 1646240212.9769998, \"EndTime\": 1646240212.9770744, \"Dimensions\": {\"Algorithm\": \"Linear Learner\", \"Host\": \"algo-1\", \"Operation\": \"training\", \"epoch\": 3, \"model\": 22}, \"Metrics\": {\"train_absolute_loss_objective\": {\"sum\": 0.3675335383415222, \"count\": 1, \"min\": 0.3675335383415222, \"max\": 0.3675335383415222}}}\u001b[0m\n",
      "\u001b[34m#metrics {\"StartTime\": 1646240212.9772017, \"EndTime\": 1646240212.9772513, \"Dimensions\": {\"Algorithm\": \"Linear Learner\", \"Host\": \"algo-1\", \"Operation\": \"training\", \"epoch\": 3, \"model\": 23}, \"Metrics\": {\"train_absolute_loss_objective\": {\"sum\": 0.3756399655342102, \"count\": 1, \"min\": 0.3756399655342102, \"max\": 0.3756399655342102}}}\u001b[0m\n",
      "\u001b[34m#metrics {\"StartTime\": 1646240212.9774036, \"EndTime\": 1646240212.9774287, \"Dimensions\": {\"Algorithm\": \"Linear Learner\", \"Host\": \"algo-1\", \"Operation\": \"training\", \"epoch\": 3, \"model\": 24}, \"Metrics\": {\"train_absolute_loss_objective\": {\"sum\": 0.8941983318328858, \"count\": 1, \"min\": 0.8941983318328858, \"max\": 0.8941983318328858}}}\u001b[0m\n",
      "\u001b[34m#metrics {\"StartTime\": 1646240212.9775653, \"EndTime\": 1646240212.9776223, \"Dimensions\": {\"Algorithm\": \"Linear Learner\", \"Host\": \"algo-1\", \"Operation\": \"training\", \"epoch\": 3, \"model\": 25}, \"Metrics\": {\"train_absolute_loss_objective\": {\"sum\": 0.8759813690185547, \"count\": 1, \"min\": 0.8759813690185547, \"max\": 0.8759813690185547}}}\u001b[0m\n",
      "\u001b[34m#metrics {\"StartTime\": 1646240212.97768, \"EndTime\": 1646240212.9776976, \"Dimensions\": {\"Algorithm\": \"Linear Learner\", \"Host\": \"algo-1\", \"Operation\": \"training\", \"epoch\": 3, \"model\": 26}, \"Metrics\": {\"train_absolute_loss_objective\": {\"sum\": 0.8846379947662354, \"count\": 1, \"min\": 0.8846379947662354, \"max\": 0.8846379947662354}}}\u001b[0m\n",
      "\u001b[34m#metrics {\"StartTime\": 1646240212.9778438, \"EndTime\": 1646240212.9778612, \"Dimensions\": {\"Algorithm\": \"Linear Learner\", \"Host\": \"algo-1\", \"Operation\": \"training\", \"epoch\": 3, \"model\": 27}, \"Metrics\": {\"train_absolute_loss_objective\": {\"sum\": 0.8871202945709229, \"count\": 1, \"min\": 0.8871202945709229, \"max\": 0.8871202945709229}}}\u001b[0m\n",
      "\u001b[34m#metrics {\"StartTime\": 1646240212.9779768, \"EndTime\": 1646240212.9780376, \"Dimensions\": {\"Algorithm\": \"Linear Learner\", \"Host\": \"algo-1\", \"Operation\": \"training\", \"epoch\": 3, \"model\": 28}, \"Metrics\": {\"train_absolute_loss_objective\": {\"sum\": 0.9066216850280762, \"count\": 1, \"min\": 0.9066216850280762, \"max\": 0.9066216850280762}}}\u001b[0m\n",
      "\u001b[34m#metrics {\"StartTime\": 1646240212.9781177, \"EndTime\": 1646240212.978198, \"Dimensions\": {\"Algorithm\": \"Linear Learner\", \"Host\": \"algo-1\", \"Operation\": \"training\", \"epoch\": 3, \"model\": 29}, \"Metrics\": {\"train_absolute_loss_objective\": {\"sum\": 0.9093164253234863, \"count\": 1, \"min\": 0.9093164253234863, \"max\": 0.9093164253234863}}}\u001b[0m\n",
      "\u001b[34m#metrics {\"StartTime\": 1646240212.9782786, \"EndTime\": 1646240212.9783401, \"Dimensions\": {\"Algorithm\": \"Linear Learner\", \"Host\": \"algo-1\", \"Operation\": \"training\", \"epoch\": 3, \"model\": 30}, \"Metrics\": {\"train_absolute_loss_objective\": {\"sum\": 0.9258640670776367, \"count\": 1, \"min\": 0.9258640670776367, \"max\": 0.9258640670776367}}}\u001b[0m\n",
      "\u001b[34m#metrics {\"StartTime\": 1646240212.9784117, \"EndTime\": 1646240212.9784935, \"Dimensions\": {\"Algorithm\": \"Linear Learner\", \"Host\": \"algo-1\", \"Operation\": \"training\", \"epoch\": 3, \"model\": 31}, \"Metrics\": {\"train_absolute_loss_objective\": {\"sum\": 0.9127506256103516, \"count\": 1, \"min\": 0.9127506256103516, \"max\": 0.9127506256103516}}}\u001b[0m\n",
      "\u001b[34m[03/02/2022 16:56:52 INFO 140480750188352] #quality_metric: host=algo-1, epoch=3, train absolute_loss_objective <loss>=0.8191282749176025\u001b[0m\n",
      "\u001b[34m[03/02/2022 16:56:52 INFO 140480750188352] #early_stopping_criteria_metric: host=algo-1, epoch=3, criteria=absolute_loss_objective, value=0.3038103365898132\u001b[0m\n",
      "\u001b[34m[03/02/2022 16:56:52 INFO 140480750188352] Saving model for epoch: 3\u001b[0m\n",
      "\u001b[34m[03/02/2022 16:56:52 INFO 140480750188352] Saved checkpoint to \"/tmp/tmpmrstsp1m/mx-mod-0000.params\"\u001b[0m\n",
      "\u001b[34m[03/02/2022 16:56:52 INFO 140480750188352] #progress_metric: host=algo-1, completed 80.0 % of epochs\u001b[0m\n",
      "\u001b[34m#metrics {\"StartTime\": 1646240212.7626944, \"EndTime\": 1646240212.9911647, \"Dimensions\": {\"Algorithm\": \"Linear Learner\", \"Host\": \"algo-1\", \"Operation\": \"training\", \"epoch\": 3, \"Meta\": \"training_data_iter\"}, \"Metrics\": {\"Total Records Seen\": {\"sum\": 135.0, \"count\": 1, \"min\": 135, \"max\": 135}, \"Total Batches Seen\": {\"sum\": 31.0, \"count\": 1, \"min\": 31, \"max\": 31}, \"Max Records Seen Between Resets\": {\"sum\": 26.0, \"count\": 1, \"min\": 26, \"max\": 26}, \"Max Batches Seen Between Resets\": {\"sum\": 6.0, \"count\": 1, \"min\": 6, \"max\": 6}, \"Reset Count\": {\"sum\": 6.0, \"count\": 1, \"min\": 6, \"max\": 6}, \"Number of Records Since Last Reset\": {\"sum\": 26.0, \"count\": 1, \"min\": 26, \"max\": 26}, \"Number of Batches Since Last Reset\": {\"sum\": 6.0, \"count\": 1, \"min\": 6, \"max\": 6}}}\u001b[0m\n",
      "\u001b[34m[03/02/2022 16:56:52 INFO 140480750188352] #throughput_metric: host=algo-1, train throughput=113.71774299508849 records/second\u001b[0m\n",
      "\u001b[34m[2022-03-02 16:56:53.177] [tensorio] [info] epoch_stats={\"data_pipeline\": \"/opt/ml/input/data/train\", \"epoch\": 12, \"duration\": 185, \"num_examples\": 6, \"num_bytes\": 1248}\u001b[0m\n",
      "\u001b[34m#metrics {\"StartTime\": 1646240213.177409, \"EndTime\": 1646240213.1775103, \"Dimensions\": {\"Algorithm\": \"Linear Learner\", \"Host\": \"algo-1\", \"Operation\": \"training\", \"epoch\": 4, \"model\": 0}, \"Metrics\": {\"train_absolute_loss_objective\": {\"sum\": 0.798541145324707, \"count\": 1, \"min\": 0.798541145324707, \"max\": 0.798541145324707}}}\u001b[0m\n",
      "\u001b[34m#metrics {\"StartTime\": 1646240213.1777623, \"EndTime\": 1646240213.1777883, \"Dimensions\": {\"Algorithm\": \"Linear Learner\", \"Host\": \"algo-1\", \"Operation\": \"training\", \"epoch\": 4, \"model\": 1}, \"Metrics\": {\"train_absolute_loss_objective\": {\"sum\": 0.8167867660522461, \"count\": 1, \"min\": 0.8167867660522461, \"max\": 0.8167867660522461}}}\u001b[0m\n",
      "\u001b[34m#metrics {\"StartTime\": 1646240213.177975, \"EndTime\": 1646240213.177997, \"Dimensions\": {\"Algorithm\": \"Linear Learner\", \"Host\": \"algo-1\", \"Operation\": \"training\", \"epoch\": 4, \"model\": 2}, \"Metrics\": {\"train_absolute_loss_objective\": {\"sum\": 0.8008227348327637, \"count\": 1, \"min\": 0.8008227348327637, \"max\": 0.8008227348327637}}}\u001b[0m\n",
      "\u001b[34m#metrics {\"StartTime\": 1646240213.178226, \"EndTime\": 1646240213.1782503, \"Dimensions\": {\"Algorithm\": \"Linear Learner\", \"Host\": \"algo-1\", \"Operation\": \"training\", \"epoch\": 4, \"model\": 3}, \"Metrics\": {\"train_absolute_loss_objective\": {\"sum\": 0.8158242321014404, \"count\": 1, \"min\": 0.8158242321014404, \"max\": 0.8158242321014404}}}\u001b[0m\n",
      "\u001b[34m#metrics {\"StartTime\": 1646240213.1783135, \"EndTime\": 1646240213.17833, \"Dimensions\": {\"Algorithm\": \"Linear Learner\", \"Host\": \"algo-1\", \"Operation\": \"training\", \"epoch\": 4, \"model\": 4}, \"Metrics\": {\"train_absolute_loss_objective\": {\"sum\": 0.19810744047164916, \"count\": 1, \"min\": 0.19810744047164916, \"max\": 0.19810744047164916}}}\u001b[0m\n",
      "\u001b[34m#metrics {\"StartTime\": 1646240213.178491, \"EndTime\": 1646240213.1785126, \"Dimensions\": {\"Algorithm\": \"Linear Learner\", \"Host\": \"algo-1\", \"Operation\": \"training\", \"epoch\": 4, \"model\": 5}, \"Metrics\": {\"train_absolute_loss_objective\": {\"sum\": 0.1953550696372986, \"count\": 1, \"min\": 0.1953550696372986, \"max\": 0.1953550696372986}}}\u001b[0m\n",
      "\u001b[34m#metrics {\"StartTime\": 1646240213.1786842, \"EndTime\": 1646240213.1787071, \"Dimensions\": {\"Algorithm\": \"Linear Learner\", \"Host\": \"algo-1\", \"Operation\": \"training\", \"epoch\": 4, \"model\": 6}, \"Metrics\": {\"train_absolute_loss_objective\": {\"sum\": 0.23924426555633546, \"count\": 1, \"min\": 0.23924426555633546, \"max\": 0.23924426555633546}}}\u001b[0m\n",
      "\u001b[34m#metrics {\"StartTime\": 1646240213.178853, \"EndTime\": 1646240213.1788762, \"Dimensions\": {\"Algorithm\": \"Linear Learner\", \"Host\": \"algo-1\", \"Operation\": \"training\", \"epoch\": 4, \"model\": 7}, \"Metrics\": {\"train_absolute_loss_objective\": {\"sum\": 0.2889958167076111, \"count\": 1, \"min\": 0.2889958167076111, \"max\": 0.2889958167076111}}}\u001b[0m\n",
      "\u001b[34m#metrics {\"StartTime\": 1646240213.178931, \"EndTime\": 1646240213.179042, \"Dimensions\": {\"Algorithm\": \"Linear Learner\", \"Host\": \"algo-1\", \"Operation\": \"training\", \"epoch\": 4, \"model\": 8}, \"Metrics\": {\"train_absolute_loss_objective\": {\"sum\": 0.8514299964904786, \"count\": 1, \"min\": 0.8514299964904786, \"max\": 0.8514299964904786}}}\u001b[0m\n",
      "\u001b[34m#metrics {\"StartTime\": 1646240213.179203, \"EndTime\": 1646240213.1792245, \"Dimensions\": {\"Algorithm\": \"Linear Learner\", \"Host\": \"algo-1\", \"Operation\": \"training\", \"epoch\": 4, \"model\": 9}, \"Metrics\": {\"train_absolute_loss_objective\": {\"sum\": 0.7865816116333008, \"count\": 1, \"min\": 0.7865816116333008, \"max\": 0.7865816116333008}}}\u001b[0m\n",
      "\u001b[34m#metrics {\"StartTime\": 1646240213.1792817, \"EndTime\": 1646240213.179391, \"Dimensions\": {\"Algorithm\": \"Linear Learner\", \"Host\": \"algo-1\", \"Operation\": \"training\", \"epoch\": 4, \"model\": 10}, \"Metrics\": {\"train_absolute_loss_objective\": {\"sum\": 0.7935076427459716, \"count\": 1, \"min\": 0.7935076427459716, \"max\": 0.7935076427459716}}}\u001b[0m\n",
      "\u001b[34m#metrics {\"StartTime\": 1646240213.179549, \"EndTime\": 1646240213.179566, \"Dimensions\": {\"Algorithm\": \"Linear Learner\", \"Host\": \"algo-1\", \"Operation\": \"training\", \"epoch\": 4, \"model\": 11}, \"Metrics\": {\"train_absolute_loss_objective\": {\"sum\": 0.7789057064056396, \"count\": 1, \"min\": 0.7789057064056396, \"max\": 0.7789057064056396}}}\u001b[0m\n",
      "\u001b[34m#metrics {\"StartTime\": 1646240213.1796193, \"EndTime\": 1646240213.179728, \"Dimensions\": {\"Algorithm\": \"Linear Learner\", \"Host\": \"algo-1\", \"Operation\": \"training\", \"epoch\": 4, \"model\": 12}, \"Metrics\": {\"train_absolute_loss_objective\": {\"sum\": 0.19030506849288942, \"count\": 1, \"min\": 0.19030506849288942, \"max\": 0.19030506849288942}}}\u001b[0m\n",
      "\u001b[34m#metrics {\"StartTime\": 1646240213.179901, \"EndTime\": 1646240213.1799142, \"Dimensions\": {\"Algorithm\": \"Linear Learner\", \"Host\": \"algo-1\", \"Operation\": \"training\", \"epoch\": 4, \"model\": 13}, \"Metrics\": {\"train_absolute_loss_objective\": {\"sum\": 0.3058708381652832, \"count\": 1, \"min\": 0.3058708381652832, \"max\": 0.3058708381652832}}}\u001b[0m\n",
      "\u001b[34m#metrics {\"StartTime\": 1646240213.179974, \"EndTime\": 1646240213.1800842, \"Dimensions\": {\"Algorithm\": \"Linear Learner\", \"Host\": \"algo-1\", \"Operation\": \"training\", \"epoch\": 4, \"model\": 14}, \"Metrics\": {\"train_absolute_loss_objective\": {\"sum\": 0.19078027725219726, \"count\": 1, \"min\": 0.19078027725219726, \"max\": 0.19078027725219726}}}\u001b[0m\n",
      "\u001b[34m#metrics {\"StartTime\": 1646240213.1802547, \"EndTime\": 1646240213.1802762, \"Dimensions\": {\"Algorithm\": \"Linear Learner\", \"Host\": \"algo-1\", \"Operation\": \"training\", \"epoch\": 4, \"model\": 15}, \"Metrics\": {\"train_absolute_loss_objective\": {\"sum\": 0.19928146362304688, \"count\": 1, \"min\": 0.19928146362304688, \"max\": 0.19928146362304688}}}\u001b[0m\n",
      "\u001b[34m#metrics {\"StartTime\": 1646240213.1803331, \"EndTime\": 1646240213.1804287, \"Dimensions\": {\"Algorithm\": \"Linear Learner\", \"Host\": \"algo-1\", \"Operation\": \"training\", \"epoch\": 4, \"model\": 16}, \"Metrics\": {\"train_absolute_loss_objective\": {\"sum\": 0.7657988452911377, \"count\": 1, \"min\": 0.7657988452911377, \"max\": 0.7657988452911377}}}\u001b[0m\n",
      "\u001b[34m#metrics {\"StartTime\": 1646240213.180585, \"EndTime\": 1646240213.1806843, \"Dimensions\": {\"Algorithm\": \"Linear Learner\", \"Host\": \"algo-1\", \"Operation\": \"training\", \"epoch\": 4, \"model\": 17}, \"Metrics\": {\"train_absolute_loss_objective\": {\"sum\": 0.8131977081298828, \"count\": 1, \"min\": 0.8131977081298828, \"max\": 0.8131977081298828}}}\u001b[0m\n",
      "\u001b[34m#metrics {\"StartTime\": 1646240213.1807437, \"EndTime\": 1646240213.1807628, \"Dimensions\": {\"Algorithm\": \"Linear Learner\", \"Host\": \"algo-1\", \"Operation\": \"training\", \"epoch\": 4, \"model\": 18}, \"Metrics\": {\"train_absolute_loss_objective\": {\"sum\": 0.7911183643341064, \"count\": 1, \"min\": 0.7911183643341064, \"max\": 0.7911183643341064}}}\u001b[0m\n",
      "\u001b[34m#metrics {\"StartTime\": 1646240213.1808171, \"EndTime\": 1646240213.1809175, \"Dimensions\": {\"Algorithm\": \"Linear Learner\", \"Host\": \"algo-1\", \"Operation\": \"training\", \"epoch\": 4, \"model\": 19}, \"Metrics\": {\"train_absolute_loss_objective\": {\"sum\": 0.7880165290832519, \"count\": 1, \"min\": 0.7880165290832519, \"max\": 0.7880165290832519}}}\u001b[0m\n",
      "\u001b[34m#metrics {\"StartTime\": 1646240213.181076, \"EndTime\": 1646240213.1811006, \"Dimensions\": {\"Algorithm\": \"Linear Learner\", \"Host\": \"algo-1\", \"Operation\": \"training\", \"epoch\": 4, \"model\": 20}, \"Metrics\": {\"train_absolute_loss_objective\": {\"sum\": 0.41703773975372316, \"count\": 1, \"min\": 0.41703773975372316, \"max\": 0.41703773975372316}}}\u001b[0m\n",
      "\u001b[34m#metrics {\"StartTime\": 1646240213.1811543, \"EndTime\": 1646240213.1812625, \"Dimensions\": {\"Algorithm\": \"Linear Learner\", \"Host\": \"algo-1\", \"Operation\": \"training\", \"epoch\": 4, \"model\": 21}, \"Metrics\": {\"train_absolute_loss_objective\": {\"sum\": 0.43365767002105715, \"count\": 1, \"min\": 0.43365767002105715, \"max\": 0.43365767002105715}}}\u001b[0m\n",
      "\u001b[34m#metrics {\"StartTime\": 1646240213.181417, \"EndTime\": 1646240213.1814334, \"Dimensions\": {\"Algorithm\": \"Linear Learner\", \"Host\": \"algo-1\", \"Operation\": \"training\", \"epoch\": 4, \"model\": 22}, \"Metrics\": {\"train_absolute_loss_objective\": {\"sum\": 0.30643200874328613, \"count\": 1, \"min\": 0.30643200874328613, \"max\": 0.30643200874328613}}}\u001b[0m\n",
      "\u001b[34m#metrics {\"StartTime\": 1646240213.1814864, \"EndTime\": 1646240213.1816733, \"Dimensions\": {\"Algorithm\": \"Linear Learner\", \"Host\": \"algo-1\", \"Operation\": \"training\", \"epoch\": 4, \"model\": 23}, \"Metrics\": {\"train_absolute_loss_objective\": {\"sum\": 0.4207289171218872, \"count\": 1, \"min\": 0.4207289171218872, \"max\": 0.4207289171218872}}}\u001b[0m\n",
      "\u001b[34m#metrics {\"StartTime\": 1646240213.1817484, \"EndTime\": 1646240213.181774, \"Dimensions\": {\"Algorithm\": \"Linear Learner\", \"Host\": \"algo-1\", \"Operation\": \"training\", \"epoch\": 4, \"model\": 24}, \"Metrics\": {\"train_absolute_loss_objective\": {\"sum\": 0.8974534511566162, \"count\": 1, \"min\": 0.8974534511566162, \"max\": 0.8974534511566162}}}\u001b[0m\n",
      "\u001b[34m#metrics {\"StartTime\": 1646240213.1818268, \"EndTime\": 1646240213.1819432, \"Dimensions\": {\"Algorithm\": \"Linear Learner\", \"Host\": \"algo-1\", \"Operation\": \"training\", \"epoch\": 4, \"model\": 25}, \"Metrics\": {\"train_absolute_loss_objective\": {\"sum\": 0.8794008445739746, \"count\": 1, \"min\": 0.8794008445739746, \"max\": 0.8794008445739746}}}\u001b[0m\n",
      "\u001b[34m#metrics {\"StartTime\": 1646240213.1820881, \"EndTime\": 1646240213.182108, \"Dimensions\": {\"Algorithm\": \"Linear Learner\", \"Host\": \"algo-1\", \"Operation\": \"training\", \"epoch\": 4, \"model\": 26}, \"Metrics\": {\"train_absolute_loss_objective\": {\"sum\": 0.8895979881286621, \"count\": 1, \"min\": 0.8895979881286621, \"max\": 0.8895979881286621}}}\u001b[0m\n",
      "\u001b[34m#metrics {\"StartTime\": 1646240213.1822643, \"EndTime\": 1646240213.1822858, \"Dimensions\": {\"Algorithm\": \"Linear Learner\", \"Host\": \"algo-1\", \"Operation\": \"training\", \"epoch\": 4, \"model\": 27}, \"Metrics\": {\"train_absolute_loss_objective\": {\"sum\": 0.882908763885498, \"count\": 1, \"min\": 0.882908763885498, \"max\": 0.882908763885498}}}\u001b[0m\n",
      "\u001b[34m#metrics {\"StartTime\": 1646240213.1823456, \"EndTime\": 1646240213.182533, \"Dimensions\": {\"Algorithm\": \"Linear Learner\", \"Host\": \"algo-1\", \"Operation\": \"training\", \"epoch\": 4, \"model\": 28}, \"Metrics\": {\"train_absolute_loss_objective\": {\"sum\": 1.0274510383605957, \"count\": 1, \"min\": 1.0274510383605957, \"max\": 1.0274510383605957}}}\u001b[0m\n",
      "\u001b[34m#metrics {\"StartTime\": 1646240213.1826043, \"EndTime\": 1646240213.1826205, \"Dimensions\": {\"Algorithm\": \"Linear Learner\", \"Host\": \"algo-1\", \"Operation\": \"training\", \"epoch\": 4, \"model\": 29}, \"Metrics\": {\"train_absolute_loss_objective\": {\"sum\": 1.0305908298492432, \"count\": 1, \"min\": 1.0305908298492432, \"max\": 1.0305908298492432}}}\u001b[0m\n",
      "\u001b[34m#metrics {\"StartTime\": 1646240213.1828046, \"EndTime\": 1646240213.1828253, \"Dimensions\": {\"Algorithm\": \"Linear Learner\", \"Host\": \"algo-1\", \"Operation\": \"training\", \"epoch\": 4, \"model\": 30}, \"Metrics\": {\"train_absolute_loss_objective\": {\"sum\": 0.911398572921753, \"count\": 1, \"min\": 0.911398572921753, \"max\": 0.911398572921753}}}\u001b[0m\n",
      "\u001b[34m#metrics {\"StartTime\": 1646240213.1828794, \"EndTime\": 1646240213.1829967, \"Dimensions\": {\"Algorithm\": \"Linear Learner\", \"Host\": \"algo-1\", \"Operation\": \"training\", \"epoch\": 4, \"model\": 31}, \"Metrics\": {\"train_absolute_loss_objective\": {\"sum\": 0.9236359786987305, \"count\": 1, \"min\": 0.9236359786987305, \"max\": 0.9236359786987305}}}\u001b[0m\n",
      "\u001b[34m[03/02/2022 16:56:53 INFO 140480750188352] #quality_metric: host=algo-1, epoch=4, train absolute_loss_objective <loss>=0.798541145324707\u001b[0m\n",
      "\u001b[34m[03/02/2022 16:56:53 INFO 140480750188352] #early_stopping_criteria_metric: host=algo-1, epoch=4, criteria=absolute_loss_objective, value=0.19030506849288942\u001b[0m\n",
      "\u001b[34m[03/02/2022 16:56:53 INFO 140480750188352] Epoch 4: Loss improved. Updating best model\u001b[0m\n",
      "\u001b[34m[03/02/2022 16:56:53 INFO 140480750188352] Saving model for epoch: 4\u001b[0m\n",
      "\u001b[34m[03/02/2022 16:56:53 INFO 140480750188352] Saved checkpoint to \"/tmp/tmp4qozq2sk/mx-mod-0000.params\"\u001b[0m\n",
      "\u001b[34m[03/02/2022 16:56:53 INFO 140480750188352] #progress_metric: host=algo-1, completed 100.0 % of epochs\u001b[0m\n",
      "\u001b[34m#metrics {\"StartTime\": 1646240212.9914708, \"EndTime\": 1646240213.1973107, \"Dimensions\": {\"Algorithm\": \"Linear Learner\", \"Host\": \"algo-1\", \"Operation\": \"training\", \"epoch\": 4, \"Meta\": \"training_data_iter\"}, \"Metrics\": {\"Total Records Seen\": {\"sum\": 161.0, \"count\": 1, \"min\": 161, \"max\": 161}, \"Total Batches Seen\": {\"sum\": 37.0, \"count\": 1, \"min\": 37, \"max\": 37}, \"Max Records Seen Between Resets\": {\"sum\": 26.0, \"count\": 1, \"min\": 26, \"max\": 26}, \"Max Batches Seen Between Resets\": {\"sum\": 6.0, \"count\": 1, \"min\": 6, \"max\": 6}, \"Reset Count\": {\"sum\": 7.0, \"count\": 1, \"min\": 7, \"max\": 7}, \"Number of Records Since Last Reset\": {\"sum\": 26.0, \"count\": 1, \"min\": 26, \"max\": 26}, \"Number of Batches Since Last Reset\": {\"sum\": 6.0, \"count\": 1, \"min\": 6, \"max\": 6}}}\u001b[0m\n",
      "\u001b[34m[03/02/2022 16:56:53 INFO 140480750188352] #throughput_metric: host=algo-1, train throughput=126.15557180272644 records/second\u001b[0m\n",
      "\u001b[34m[03/02/2022 16:56:53 WARNING 140480750188352] wait_for_all_workers will not sync workers since the kv store is not running distributed\u001b[0m\n",
      "\u001b[34m[03/02/2022 16:56:53 WARNING 140480750188352] wait_for_all_workers will not sync workers since the kv store is not running distributed\u001b[0m\n",
      "\u001b[34m[2022-03-02 16:56:53.199] [tensorio] [info] epoch_stats={\"data_pipeline\": \"/opt/ml/input/data/train\", \"epoch\": 14, \"duration\": 0, \"num_examples\": 1, \"num_bytes\": 240}\u001b[0m\n",
      "\u001b[34m[2022-03-02 16:56:53.247] [tensorio] [info] epoch_stats={\"data_pipeline\": \"/opt/ml/input/data/train\", \"epoch\": 16, \"duration\": 38, \"num_examples\": 6, \"num_bytes\": 1248}\u001b[0m\n",
      "\u001b[34m[03/02/2022 16:56:53 INFO 140480750188352] #train_score (algo-1) : ('absolute_loss_objective', 6079.222205528846)\u001b[0m\n",
      "\u001b[34m[03/02/2022 16:56:53 INFO 140480750188352] #train_score (algo-1) : ('mse', 54604085.538461536)\u001b[0m\n",
      "\u001b[34m[03/02/2022 16:56:53 INFO 140480750188352] #train_score (algo-1) : ('absolute_loss', 6079.222205528846)\u001b[0m\n",
      "\u001b[34m[03/02/2022 16:56:53 INFO 140480750188352] #train_score (algo-1) : ('rmse', 7389.457729662004)\u001b[0m\n",
      "\u001b[34m[03/02/2022 16:56:53 INFO 140480750188352] #train_score (algo-1) : ('r2', 0.9403232476532972)\u001b[0m\n",
      "\u001b[34m[03/02/2022 16:56:53 INFO 140480750188352] #train_score (algo-1) : ('mae', 6079.222205528846)\u001b[0m\n",
      "\u001b[34m[03/02/2022 16:56:53 INFO 140480750188352] #quality_metric: host=algo-1, train absolute_loss_objective <loss>=6079.222205528846\u001b[0m\n",
      "\u001b[34m[03/02/2022 16:56:53 INFO 140480750188352] #quality_metric: host=algo-1, train mse <loss>=54604085.538461536\u001b[0m\n",
      "\u001b[34m[03/02/2022 16:56:53 INFO 140480750188352] #quality_metric: host=algo-1, train absolute_loss <loss>=6079.222205528846\u001b[0m\n",
      "\u001b[34m[03/02/2022 16:56:53 INFO 140480750188352] #quality_metric: host=algo-1, train rmse <loss>=7389.457729662004\u001b[0m\n",
      "\u001b[34m[03/02/2022 16:56:53 INFO 140480750188352] #quality_metric: host=algo-1, train r2 <loss>=0.9403232476532972\u001b[0m\n",
      "\u001b[34m[03/02/2022 16:56:53 INFO 140480750188352] #quality_metric: host=algo-1, train mae <loss>=6079.222205528846\u001b[0m\n",
      "\u001b[34m[03/02/2022 16:56:53 INFO 140480750188352] Best model found for hyperparameters: {\"optimizer\": \"adam\", \"learning_rate\": 0.1, \"wd\": 0.01, \"l1\": 0.0, \"lr_scheduler_step\": 10, \"lr_scheduler_factor\": 0.99, \"lr_scheduler_minimum_lr\": 1e-05}\u001b[0m\n",
      "\u001b[34m[03/02/2022 16:56:53 INFO 140480750188352] Saved checkpoint to \"/tmp/tmphd7om2f6/mx-mod-0000.params\"\u001b[0m\n",
      "\u001b[34m[03/02/2022 16:56:53 INFO 140480750188352] Test data is not provided.\u001b[0m\n",
      "\u001b[34m#metrics {\"StartTime\": 1646240211.9929745, \"EndTime\": 1646240213.2590716, \"Dimensions\": {\"Algorithm\": \"Linear Learner\", \"Host\": \"algo-1\", \"Operation\": \"training\"}, \"Metrics\": {\"initialize.time\": {\"sum\": 254.1966438293457, \"count\": 1, \"min\": 254.1966438293457, \"max\": 254.1966438293457}, \"epochs\": {\"sum\": 5.0, \"count\": 1, \"min\": 5, \"max\": 5}, \"check_early_stopping.time\": {\"sum\": 6.225824356079102, \"count\": 5, \"min\": 0.3306865692138672, \"max\": 1.8310546875}, \"update.time\": {\"sum\": 922.7354526519775, \"count\": 5, \"min\": 148.4508514404297, \"max\": 224.34091567993164}, \"finalize.time\": {\"sum\": 53.56240272521973, \"count\": 1, \"min\": 53.56240272521973, \"max\": 53.56240272521973}, \"setuptime\": {\"sum\": 30.617952346801758, \"count\": 1, \"min\": 30.617952346801758, \"max\": 30.617952346801758}, \"totaltime\": {\"sum\": 1527.853012084961, \"count\": 1, \"min\": 1527.853012084961, \"max\": 1527.853012084961}}}\u001b[0m\n",
      "\u001b[34m[03/02/2022 16:56:53 INFO 140480750188352 integration.py:636] worker closed\u001b[0m\n",
      "\n",
      "2022-03-02 16:57:11 Training - Training image download completed. Training in progress.\n",
      "2022-03-02 16:57:35 Uploading - Uploading generated training model\n",
      "2022-03-02 16:58:12 Completed - Training job completed\n",
      "Training seconds: 118\n",
      "Billable seconds: 118\n"
     ]
    }
   ],
   "source": [
    "# We have pass in the container, the type of instance that we would like to use for training \n",
    "# output path and sagemaker session into the Estimator. \n",
    "# We can also specify how many instances we would like to use for training\n",
    "# sagemaker_session = sagemaker.Session()\n",
    "\n",
    "linear = sagemaker.estimator.Estimator(container,\n",
    "                                       role, \n",
    "                                       instance_count = 1, \n",
    "                                       instance_type = 'ml.c4.xlarge',\n",
    "                                       output_path = output_location,\n",
    "                                       sagemaker_session = sagemaker_session)\n",
    "\n",
    "\n",
    "# We can tune parameters like the number of features that we are passing in, type of predictor like 'regressor' or 'classifier', mini batch size, epochs\n",
    "# Train 32 different versions of the model and will get the best out of them (built-in parameters optimization!)\n",
    "\n",
    "linear.set_hyperparameters(feature_dim = 1,\n",
    "                           predictor_type = 'regressor',\n",
    "                           mini_batch_size = 5,\n",
    "                           epochs = 5,\n",
    "                           num_models = 32,\n",
    "                           loss = 'absolute_loss')\n",
    "\n",
    "# Now we are ready to pass in the training data from S3 to train the linear learner model\n",
    "\n",
    "linear.fit({'train': s3_train_data})\n",
    "\n",
    "# Let's see the progress using cloudwatch logs"
   ]
  },
  {
   "cell_type": "markdown",
   "metadata": {},
   "source": [
    "MINI CHALLENGE\n",
    "- Try to train the model with more epochs and additional number of models\n",
    "- Can you try to reduce the cost of billable seconds?"
   ]
  },
  {
   "cell_type": "code",
   "execution_count": 112,
   "metadata": {},
   "outputs": [
    {
     "name": "stdout",
     "output_type": "stream",
     "text": [
      "2022-03-02 17:29:07 Starting - Starting the training job...\n",
      "2022-03-02 17:29:11 Starting - Launching requested ML instancesProfilerReport-1646242147: InProgress\n",
      ".........\n",
      "2022-03-02 17:31:04 Starting - Preparing the instances for training.........\n",
      "2022-03-02 17:32:39 Downloading - Downloading input data\n",
      "2022-03-02 17:32:39 Training - Downloading the training image...\n",
      "2022-03-02 17:33:06 Uploading - Uploading generated training model\u001b[34mDocker entrypoint called with argument(s): train\u001b[0m\n",
      "\u001b[34mRunning default environment configuration script\u001b[0m\n",
      "\u001b[34m[03/02/2022 17:33:02 INFO 139717753841472] Reading default configuration from /opt/amazon/lib/python3.7/site-packages/algorithm/resources/default-input.json: {'mini_batch_size': '1000', 'epochs': '15', 'feature_dim': 'auto', 'use_bias': 'true', 'binary_classifier_model_selection_criteria': 'accuracy', 'f_beta': '1.0', 'target_recall': '0.8', 'target_precision': '0.8', 'num_models': 'auto', 'num_calibration_samples': '10000000', 'init_method': 'uniform', 'init_scale': '0.07', 'init_sigma': '0.01', 'init_bias': '0.0', 'optimizer': 'auto', 'loss': 'auto', 'margin': '1.0', 'quantile': '0.5', 'loss_insensitivity': '0.01', 'huber_delta': '1.0', 'num_classes': '1', 'accuracy_top_k': '3', 'wd': 'auto', 'l1': 'auto', 'momentum': 'auto', 'learning_rate': 'auto', 'beta_1': 'auto', 'beta_2': 'auto', 'bias_lr_mult': 'auto', 'bias_wd_mult': 'auto', 'use_lr_scheduler': 'true', 'lr_scheduler_step': 'auto', 'lr_scheduler_factor': 'auto', 'lr_scheduler_minimum_lr': 'auto', 'positive_example_weight_mult': '1.0', 'balance_multiclass_weights': 'false', 'normalize_data': 'true', 'normalize_label': 'auto', 'unbias_data': 'auto', 'unbias_label': 'auto', 'num_point_for_scaler': '10000', '_kvstore': 'auto', '_num_gpus': 'auto', '_num_kv_servers': 'auto', '_log_level': 'info', '_tuning_objective_metric': '', 'early_stopping_patience': '3', 'early_stopping_tolerance': '0.001', '_enable_profiler': 'false'}\u001b[0m\n",
      "\u001b[34m[03/02/2022 17:33:02 INFO 139717753841472] Merging with provided configuration from /opt/ml/input/config/hyperparameters.json: {'loss': 'absolute_loss', 'feature_dim': '1', 'num_models': '32', 'predictor_type': 'regressor', 'epochs': '5', 'mini_batch_size': '5'}\u001b[0m\n",
      "\u001b[34m[03/02/2022 17:33:02 INFO 139717753841472] Final configuration: {'mini_batch_size': '5', 'epochs': '5', 'feature_dim': '1', 'use_bias': 'true', 'binary_classifier_model_selection_criteria': 'accuracy', 'f_beta': '1.0', 'target_recall': '0.8', 'target_precision': '0.8', 'num_models': '32', 'num_calibration_samples': '10000000', 'init_method': 'uniform', 'init_scale': '0.07', 'init_sigma': '0.01', 'init_bias': '0.0', 'optimizer': 'auto', 'loss': 'absolute_loss', 'margin': '1.0', 'quantile': '0.5', 'loss_insensitivity': '0.01', 'huber_delta': '1.0', 'num_classes': '1', 'accuracy_top_k': '3', 'wd': 'auto', 'l1': 'auto', 'momentum': 'auto', 'learning_rate': 'auto', 'beta_1': 'auto', 'beta_2': 'auto', 'bias_lr_mult': 'auto', 'bias_wd_mult': 'auto', 'use_lr_scheduler': 'true', 'lr_scheduler_step': 'auto', 'lr_scheduler_factor': 'auto', 'lr_scheduler_minimum_lr': 'auto', 'positive_example_weight_mult': '1.0', 'balance_multiclass_weights': 'false', 'normalize_data': 'true', 'normalize_label': 'auto', 'unbias_data': 'auto', 'unbias_label': 'auto', 'num_point_for_scaler': '10000', '_kvstore': 'auto', '_num_gpus': 'auto', '_num_kv_servers': 'auto', '_log_level': 'info', '_tuning_objective_metric': '', 'early_stopping_patience': '3', 'early_stopping_tolerance': '0.001', '_enable_profiler': 'false', 'predictor_type': 'regressor'}\u001b[0m\n",
      "\u001b[34m[03/02/2022 17:33:02 WARNING 139717753841472] Loggers have already been setup.\u001b[0m\n",
      "\u001b[34mProcess 1 is a worker.\u001b[0m\n",
      "\u001b[34m[03/02/2022 17:33:02 INFO 139717753841472] Using default worker.\u001b[0m\n",
      "\u001b[34m[03/02/2022 17:33:02 INFO 139717753841472] Checkpoint loading and saving are disabled.\u001b[0m\n",
      "\u001b[34m[2022-03-02 17:33:02.636] [tensorio] [info] epoch_stats={\"data_pipeline\": \"/opt/ml/input/data/train\", \"epoch\": 0, \"duration\": 15, \"num_examples\": 1, \"num_bytes\": 240}\u001b[0m\n",
      "\u001b[34m[03/02/2022 17:33:02 INFO 139717753841472] Create Store: local\u001b[0m\n",
      "\u001b[34m[2022-03-02 17:33:02.725] [tensorio] [info] epoch_stats={\"data_pipeline\": \"/opt/ml/input/data/train\", \"epoch\": 1, \"duration\": 87, \"num_examples\": 6, \"num_bytes\": 1248}\u001b[0m\n",
      "\u001b[34m[03/02/2022 17:33:02 INFO 139717753841472] Scaler algorithm parameters\n",
      " <algorithm.scaler.ScalerAlgorithmStable object at 0x7f1232648dd0>\u001b[0m\n",
      "\u001b[34m[03/02/2022 17:33:02 INFO 139717753841472] Scaling model computed with parameters:\n",
      " {'stdev_label': \u001b[0m\n",
      "\u001b[34m[29639.713]\u001b[0m\n",
      "\u001b[34m<NDArray 1 @cpu(0)>, 'stdev_weight': \u001b[0m\n",
      "\u001b[34m[3.2337077]\u001b[0m\n",
      "\u001b[34m<NDArray 1 @cpu(0)>, 'mean_label': \u001b[0m\n",
      "\u001b[34m[85173.6]\u001b[0m\n",
      "\u001b[34m<NDArray 1 @cpu(0)>, 'mean_weight': \u001b[0m\n",
      "\u001b[34m[6.356]\u001b[0m\n",
      "\u001b[34m<NDArray 1 @cpu(0)>}\u001b[0m\n",
      "\u001b[34m[03/02/2022 17:33:02 INFO 139717753841472] nvidia-smi: took 0.031 seconds to run.\u001b[0m\n",
      "\u001b[34m[03/02/2022 17:33:02 INFO 139717753841472] nvidia-smi identified 0 GPUs.\u001b[0m\n",
      "\u001b[34m[03/02/2022 17:33:02 INFO 139717753841472] Number of GPUs being used: 0\u001b[0m\n",
      "\u001b[34m#metrics {\"StartTime\": 1646242382.857631, \"EndTime\": 1646242382.857664, \"Dimensions\": {\"Algorithm\": \"Linear Learner\", \"Host\": \"algo-1\", \"Operation\": \"training\", \"Meta\": \"init_train_data_iter\"}, \"Metrics\": {\"Total Records Seen\": {\"sum\": 31.0, \"count\": 1, \"min\": 31, \"max\": 31}, \"Total Batches Seen\": {\"sum\": 7.0, \"count\": 1, \"min\": 7, \"max\": 7}, \"Max Records Seen Between Resets\": {\"sum\": 26.0, \"count\": 1, \"min\": 26, \"max\": 26}, \"Max Batches Seen Between Resets\": {\"sum\": 6.0, \"count\": 1, \"min\": 6, \"max\": 6}, \"Reset Count\": {\"sum\": 2.0, \"count\": 1, \"min\": 2, \"max\": 2}, \"Number of Records Since Last Reset\": {\"sum\": 0.0, \"count\": 1, \"min\": 0, \"max\": 0}, \"Number of Batches Since Last Reset\": {\"sum\": 0.0, \"count\": 1, \"min\": 0, \"max\": 0}}}\u001b[0m\n",
      "\u001b[34m[2022-03-02 17:33:02.995] [tensorio] [info] epoch_stats={\"data_pipeline\": \"/opt/ml/input/data/train\", \"epoch\": 4, \"duration\": 137, \"num_examples\": 6, \"num_bytes\": 1248}\u001b[0m\n",
      "\u001b[34m#metrics {\"StartTime\": 1646242382.9959736, \"EndTime\": 1646242382.9960642, \"Dimensions\": {\"Algorithm\": \"Linear Learner\", \"Host\": \"algo-1\", \"Operation\": \"training\", \"epoch\": 0, \"model\": 0}, \"Metrics\": {\"train_absolute_loss_objective\": {\"sum\": 0.8925605583190918, \"count\": 1, \"min\": 0.8925605583190918, \"max\": 0.8925605583190918}}}\u001b[0m\n",
      "\u001b[34m#metrics {\"StartTime\": 1646242382.9961598, \"EndTime\": 1646242382.9961767, \"Dimensions\": {\"Algorithm\": \"Linear Learner\", \"Host\": \"algo-1\", \"Operation\": \"training\", \"epoch\": 0, \"model\": 1}, \"Metrics\": {\"train_absolute_loss_objective\": {\"sum\": 0.9119968700408936, \"count\": 1, \"min\": 0.9119968700408936, \"max\": 0.9119968700408936}}}\u001b[0m\n",
      "\u001b[34m#metrics {\"StartTime\": 1646242382.9962234, \"EndTime\": 1646242382.9962387, \"Dimensions\": {\"Algorithm\": \"Linear Learner\", \"Host\": \"algo-1\", \"Operation\": \"training\", \"epoch\": 0, \"model\": 2}, \"Metrics\": {\"train_absolute_loss_objective\": {\"sum\": 0.8949149990081787, \"count\": 1, \"min\": 0.8949149990081787, \"max\": 0.8949149990081787}}}\u001b[0m\n",
      "\u001b[34m#metrics {\"StartTime\": 1646242382.9962819, \"EndTime\": 1646242382.996293, \"Dimensions\": {\"Algorithm\": \"Linear Learner\", \"Host\": \"algo-1\", \"Operation\": \"training\", \"epoch\": 0, \"model\": 3}, \"Metrics\": {\"train_absolute_loss_objective\": {\"sum\": 0.9110035991668701, \"count\": 1, \"min\": 0.9110035991668701, \"max\": 0.9110035991668701}}}\u001b[0m\n",
      "\u001b[34m#metrics {\"StartTime\": 1646242382.9963346, \"EndTime\": 1646242382.996349, \"Dimensions\": {\"Algorithm\": \"Linear Learner\", \"Host\": \"algo-1\", \"Operation\": \"training\", \"epoch\": 0, \"model\": 4}, \"Metrics\": {\"train_absolute_loss_objective\": {\"sum\": 0.6868623352050781, \"count\": 1, \"min\": 0.6868623352050781, \"max\": 0.6868623352050781}}}\u001b[0m\n",
      "\u001b[34m#metrics {\"StartTime\": 1646242382.9963963, \"EndTime\": 1646242382.996411, \"Dimensions\": {\"Algorithm\": \"Linear Learner\", \"Host\": \"algo-1\", \"Operation\": \"training\", \"epoch\": 0, \"model\": 5}, \"Metrics\": {\"train_absolute_loss_objective\": {\"sum\": 0.6961203384399414, \"count\": 1, \"min\": 0.6961203384399414, \"max\": 0.6961203384399414}}}\u001b[0m\n",
      "\u001b[34m#metrics {\"StartTime\": 1646242382.9964583, \"EndTime\": 1646242382.9964733, \"Dimensions\": {\"Algorithm\": \"Linear Learner\", \"Host\": \"algo-1\", \"Operation\": \"training\", \"epoch\": 0, \"model\": 6}, \"Metrics\": {\"train_absolute_loss_objective\": {\"sum\": 0.7752414226531983, \"count\": 1, \"min\": 0.7752414226531983, \"max\": 0.7752414226531983}}}\u001b[0m\n",
      "\u001b[34m#metrics {\"StartTime\": 1646242382.9965258, \"EndTime\": 1646242382.9965432, \"Dimensions\": {\"Algorithm\": \"Linear Learner\", \"Host\": \"algo-1\", \"Operation\": \"training\", \"epoch\": 0, \"model\": 7}, \"Metrics\": {\"train_absolute_loss_objective\": {\"sum\": 0.7476943302154541, \"count\": 1, \"min\": 0.7476943302154541, \"max\": 0.7476943302154541}}}\u001b[0m\n",
      "\u001b[34m#metrics {\"StartTime\": 1646242382.996591, \"EndTime\": 1646242382.9966047, \"Dimensions\": {\"Algorithm\": \"Linear Learner\", \"Host\": \"algo-1\", \"Operation\": \"training\", \"epoch\": 0, \"model\": 8}, \"Metrics\": {\"train_absolute_loss_objective\": {\"sum\": 0.9471328067779541, \"count\": 1, \"min\": 0.9471328067779541, \"max\": 0.9471328067779541}}}\u001b[0m\n",
      "\u001b[34m#metrics {\"StartTime\": 1646242382.9966502, \"EndTime\": 1646242382.9966648, \"Dimensions\": {\"Algorithm\": \"Linear Learner\", \"Host\": \"algo-1\", \"Operation\": \"training\", \"epoch\": 0, \"model\": 9}, \"Metrics\": {\"train_absolute_loss_objective\": {\"sum\": 0.8808161640167236, \"count\": 1, \"min\": 0.8808161640167236, \"max\": 0.8808161640167236}}}\u001b[0m\n",
      "\u001b[34m#metrics {\"StartTime\": 1646242382.996719, \"EndTime\": 1646242382.9967313, \"Dimensions\": {\"Algorithm\": \"Linear Learner\", \"Host\": \"algo-1\", \"Operation\": \"training\", \"epoch\": 0, \"model\": 10}, \"Metrics\": {\"train_absolute_loss_objective\": {\"sum\": 0.8873559951782226, \"count\": 1, \"min\": 0.8873559951782226, \"max\": 0.8873559951782226}}}\u001b[0m\n",
      "\u001b[34m#metrics {\"StartTime\": 1646242382.9967787, \"EndTime\": 1646242382.9967918, \"Dimensions\": {\"Algorithm\": \"Linear Learner\", \"Host\": \"algo-1\", \"Operation\": \"training\", \"epoch\": 0, \"model\": 11}, \"Metrics\": {\"train_absolute_loss_objective\": {\"sum\": 0.8728945159912109, \"count\": 1, \"min\": 0.8728945159912109, \"max\": 0.8728945159912109}}}\u001b[0m\n",
      "\u001b[34m#metrics {\"StartTime\": 1646242382.9968433, \"EndTime\": 1646242382.996858, \"Dimensions\": {\"Algorithm\": \"Linear Learner\", \"Host\": \"algo-1\", \"Operation\": \"training\", \"epoch\": 0, \"model\": 12}, \"Metrics\": {\"train_absolute_loss_objective\": {\"sum\": 0.695291805267334, \"count\": 1, \"min\": 0.695291805267334, \"max\": 0.695291805267334}}}\u001b[0m\n",
      "\u001b[34m#metrics {\"StartTime\": 1646242382.996904, \"EndTime\": 1646242382.9969177, \"Dimensions\": {\"Algorithm\": \"Linear Learner\", \"Host\": \"algo-1\", \"Operation\": \"training\", \"epoch\": 0, \"model\": 13}, \"Metrics\": {\"train_absolute_loss_objective\": {\"sum\": 0.7202646541595459, \"count\": 1, \"min\": 0.7202646541595459, \"max\": 0.7202646541595459}}}\u001b[0m\n",
      "\u001b[34m#metrics {\"StartTime\": 1646242382.9969685, \"EndTime\": 1646242382.996981, \"Dimensions\": {\"Algorithm\": \"Linear Learner\", \"Host\": \"algo-1\", \"Operation\": \"training\", \"epoch\": 0, \"model\": 14}, \"Metrics\": {\"train_absolute_loss_objective\": {\"sum\": 0.6938772296905518, \"count\": 1, \"min\": 0.6938772296905518, \"max\": 0.6938772296905518}}}\u001b[0m\n",
      "\u001b[34m#metrics {\"StartTime\": 1646242382.9970286, \"EndTime\": 1646242382.9970424, \"Dimensions\": {\"Algorithm\": \"Linear Learner\", \"Host\": \"algo-1\", \"Operation\": \"training\", \"epoch\": 0, \"model\": 15}, \"Metrics\": {\"train_absolute_loss_objective\": {\"sum\": 0.7262498188018799, \"count\": 1, \"min\": 0.7262498188018799, \"max\": 0.7262498188018799}}}\u001b[0m\n",
      "\u001b[34m#metrics {\"StartTime\": 1646242382.9970915, \"EndTime\": 1646242382.9971063, \"Dimensions\": {\"Algorithm\": \"Linear Learner\", \"Host\": \"algo-1\", \"Operation\": \"training\", \"epoch\": 0, \"model\": 16}, \"Metrics\": {\"train_absolute_loss_objective\": {\"sum\": 0.8572994995117188, \"count\": 1, \"min\": 0.8572994995117188, \"max\": 0.8572994995117188}}}\u001b[0m\n",
      "\u001b[34m#metrics {\"StartTime\": 1646242382.9971545, \"EndTime\": 1646242382.9971693, \"Dimensions\": {\"Algorithm\": \"Linear Learner\", \"Host\": \"algo-1\", \"Operation\": \"training\", \"epoch\": 0, \"model\": 17}, \"Metrics\": {\"train_absolute_loss_objective\": {\"sum\": 0.9073506164550781, \"count\": 1, \"min\": 0.9073506164550781, \"max\": 0.9073506164550781}}}\u001b[0m\n",
      "\u001b[34m#metrics {\"StartTime\": 1646242382.997217, \"EndTime\": 1646242382.997234, \"Dimensions\": {\"Algorithm\": \"Linear Learner\", \"Host\": \"algo-1\", \"Operation\": \"training\", \"epoch\": 0, \"model\": 18}, \"Metrics\": {\"train_absolute_loss_objective\": {\"sum\": 0.8837293434143066, \"count\": 1, \"min\": 0.8837293434143066, \"max\": 0.8837293434143066}}}\u001b[0m\n",
      "\u001b[34m#metrics {\"StartTime\": 1646242382.9972782, \"EndTime\": 1646242382.9972935, \"Dimensions\": {\"Algorithm\": \"Linear Learner\", \"Host\": \"algo-1\", \"Operation\": \"training\", \"epoch\": 0, \"model\": 19}, \"Metrics\": {\"train_absolute_loss_objective\": {\"sum\": 0.8810908508300781, \"count\": 1, \"min\": 0.8810908508300781, \"max\": 0.8810908508300781}}}\u001b[0m\n",
      "\u001b[34m#metrics {\"StartTime\": 1646242382.9973452, \"EndTime\": 1646242382.997361, \"Dimensions\": {\"Algorithm\": \"Linear Learner\", \"Host\": \"algo-1\", \"Operation\": \"training\", \"epoch\": 0, \"model\": 20}, \"Metrics\": {\"train_absolute_loss_objective\": {\"sum\": 0.7394433498382569, \"count\": 1, \"min\": 0.7394433498382569, \"max\": 0.7394433498382569}}}\u001b[0m\n",
      "\u001b[34m#metrics {\"StartTime\": 1646242382.9974027, \"EndTime\": 1646242382.9974146, \"Dimensions\": {\"Algorithm\": \"Linear Learner\", \"Host\": \"algo-1\", \"Operation\": \"training\", \"epoch\": 0, \"model\": 21}, \"Metrics\": {\"train_absolute_loss_objective\": {\"sum\": 0.7535861587524414, \"count\": 1, \"min\": 0.7535861587524414, \"max\": 0.7535861587524414}}}\u001b[0m\n",
      "\u001b[34m#metrics {\"StartTime\": 1646242382.997459, \"EndTime\": 1646242382.997472, \"Dimensions\": {\"Algorithm\": \"Linear Learner\", \"Host\": \"algo-1\", \"Operation\": \"training\", \"epoch\": 0, \"model\": 22}, \"Metrics\": {\"train_absolute_loss_objective\": {\"sum\": 0.6938544368743896, \"count\": 1, \"min\": 0.6938544368743896, \"max\": 0.6938544368743896}}}\u001b[0m\n",
      "\u001b[34m#metrics {\"StartTime\": 1646242382.9975288, \"EndTime\": 1646242382.9975424, \"Dimensions\": {\"Algorithm\": \"Linear Learner\", \"Host\": \"algo-1\", \"Operation\": \"training\", \"epoch\": 0, \"model\": 23}, \"Metrics\": {\"train_absolute_loss_objective\": {\"sum\": 0.7779765415191651, \"count\": 1, \"min\": 0.7779765415191651, \"max\": 0.7779765415191651}}}\u001b[0m\n",
      "\u001b[34m#metrics {\"StartTime\": 1646242382.997601, \"EndTime\": 1646242382.9976165, \"Dimensions\": {\"Algorithm\": \"Linear Learner\", \"Host\": \"algo-1\", \"Operation\": \"training\", \"epoch\": 0, \"model\": 24}, \"Metrics\": {\"train_absolute_loss_objective\": {\"sum\": 0.8611449432373047, \"count\": 1, \"min\": 0.8611449432373047, \"max\": 0.8611449432373047}}}\u001b[0m\n",
      "\u001b[34m#metrics {\"StartTime\": 1646242382.9976637, \"EndTime\": 1646242382.9976768, \"Dimensions\": {\"Algorithm\": \"Linear Learner\", \"Host\": \"algo-1\", \"Operation\": \"training\", \"epoch\": 0, \"model\": 25}, \"Metrics\": {\"train_absolute_loss_objective\": {\"sum\": 0.9251553249359131, \"count\": 1, \"min\": 0.9251553249359131, \"max\": 0.9251553249359131}}}\u001b[0m\n",
      "\u001b[34m#metrics {\"StartTime\": 1646242382.997723, \"EndTime\": 1646242382.997734, \"Dimensions\": {\"Algorithm\": \"Linear Learner\", \"Host\": \"algo-1\", \"Operation\": \"training\", \"epoch\": 0, \"model\": 26}, \"Metrics\": {\"train_absolute_loss_objective\": {\"sum\": 0.9121227836608887, \"count\": 1, \"min\": 0.9121227836608887, \"max\": 0.9121227836608887}}}\u001b[0m\n",
      "\u001b[34m#metrics {\"StartTime\": 1646242382.9977815, \"EndTime\": 1646242382.997796, \"Dimensions\": {\"Algorithm\": \"Linear Learner\", \"Host\": \"algo-1\", \"Operation\": \"training\", \"epoch\": 0, \"model\": 27}, \"Metrics\": {\"train_absolute_loss_objective\": {\"sum\": 0.901487340927124, \"count\": 1, \"min\": 0.901487340927124, \"max\": 0.901487340927124}}}\u001b[0m\n",
      "\u001b[34m#metrics {\"StartTime\": 1646242382.9978561, \"EndTime\": 1646242382.9978719, \"Dimensions\": {\"Algorithm\": \"Linear Learner\", \"Host\": \"algo-1\", \"Operation\": \"training\", \"epoch\": 0, \"model\": 28}, \"Metrics\": {\"train_absolute_loss_objective\": {\"sum\": 0.8876560020446778, \"count\": 1, \"min\": 0.8876560020446778, \"max\": 0.8876560020446778}}}\u001b[0m\n",
      "\u001b[34m#metrics {\"StartTime\": 1646242382.9979212, \"EndTime\": 1646242382.997934, \"Dimensions\": {\"Algorithm\": \"Linear Learner\", \"Host\": \"algo-1\", \"Operation\": \"training\", \"epoch\": 0, \"model\": 29}, \"Metrics\": {\"train_absolute_loss_objective\": {\"sum\": 0.8886802673339844, \"count\": 1, \"min\": 0.8886802673339844, \"max\": 0.8886802673339844}}}\u001b[0m\n",
      "\u001b[34m#metrics {\"StartTime\": 1646242382.997985, \"EndTime\": 1646242382.9980018, \"Dimensions\": {\"Algorithm\": \"Linear Learner\", \"Host\": \"algo-1\", \"Operation\": \"training\", \"epoch\": 0, \"model\": 30}, \"Metrics\": {\"train_absolute_loss_objective\": {\"sum\": 0.8963030529022217, \"count\": 1, \"min\": 0.8963030529022217, \"max\": 0.8963030529022217}}}\u001b[0m\n",
      "\u001b[34m#metrics {\"StartTime\": 1646242382.998059, \"EndTime\": 1646242382.998077, \"Dimensions\": {\"Algorithm\": \"Linear Learner\", \"Host\": \"algo-1\", \"Operation\": \"training\", \"epoch\": 0, \"model\": 31}, \"Metrics\": {\"train_absolute_loss_objective\": {\"sum\": 1.071520528793335, \"count\": 1, \"min\": 1.071520528793335, \"max\": 1.071520528793335}}}\u001b[0m\n",
      "\u001b[34m[03/02/2022 17:33:02 INFO 139717753841472] #quality_metric: host=algo-1, epoch=0, train absolute_loss_objective <loss>=0.8925605583190918\u001b[0m\n",
      "\u001b[34m[03/02/2022 17:33:03 INFO 139717753841472] #early_stopping_criteria_metric: host=algo-1, epoch=0, criteria=absolute_loss_objective, value=0.6868623352050781\u001b[0m\n",
      "\u001b[34m[03/02/2022 17:33:03 INFO 139717753841472] Epoch 0: Loss improved. Updating best model\u001b[0m\n",
      "\u001b[34m[03/02/2022 17:33:03 INFO 139717753841472] Saving model for epoch: 0\u001b[0m\n",
      "\u001b[34m[03/02/2022 17:33:03 INFO 139717753841472] Saved checkpoint to \"/tmp/tmpo7wy_m35/mx-mod-0000.params\"\u001b[0m\n",
      "\u001b[34m[03/02/2022 17:33:03 INFO 139717753841472] #progress_metric: host=algo-1, completed 20.0 % of epochs\u001b[0m\n",
      "\u001b[34m#metrics {\"StartTime\": 1646242382.8579564, \"EndTime\": 1646242383.0111506, \"Dimensions\": {\"Algorithm\": \"Linear Learner\", \"Host\": \"algo-1\", \"Operation\": \"training\", \"epoch\": 0, \"Meta\": \"training_data_iter\"}, \"Metrics\": {\"Total Records Seen\": {\"sum\": 57.0, \"count\": 1, \"min\": 57, \"max\": 57}, \"Total Batches Seen\": {\"sum\": 13.0, \"count\": 1, \"min\": 13, \"max\": 13}, \"Max Records Seen Between Resets\": {\"sum\": 26.0, \"count\": 1, \"min\": 26, \"max\": 26}, \"Max Batches Seen Between Resets\": {\"sum\": 6.0, \"count\": 1, \"min\": 6, \"max\": 6}, \"Reset Count\": {\"sum\": 3.0, \"count\": 1, \"min\": 3, \"max\": 3}, \"Number of Records Since Last Reset\": {\"sum\": 26.0, \"count\": 1, \"min\": 26, \"max\": 26}, \"Number of Batches Since Last Reset\": {\"sum\": 6.0, \"count\": 1, \"min\": 6, \"max\": 6}}}\u001b[0m\n",
      "\u001b[34m[03/02/2022 17:33:03 INFO 139717753841472] #throughput_metric: host=algo-1, train throughput=169.56458813084157 records/second\u001b[0m\n",
      "\u001b[34m[2022-03-02 17:33:03.115] [tensorio] [info] epoch_stats={\"data_pipeline\": \"/opt/ml/input/data/train\", \"epoch\": 6, \"duration\": 103, \"num_examples\": 6, \"num_bytes\": 1248}\u001b[0m\n",
      "\u001b[34m#metrics {\"StartTime\": 1646242383.1154737, \"EndTime\": 1646242383.1155522, \"Dimensions\": {\"Algorithm\": \"Linear Learner\", \"Host\": \"algo-1\", \"Operation\": \"training\", \"epoch\": 1, \"model\": 0}, \"Metrics\": {\"train_absolute_loss_objective\": {\"sum\": 0.8622401618957519, \"count\": 1, \"min\": 0.8622401618957519, \"max\": 0.8622401618957519}}}\u001b[0m\n",
      "\u001b[34m#metrics {\"StartTime\": 1646242383.1156375, \"EndTime\": 1646242383.1156518, \"Dimensions\": {\"Algorithm\": \"Linear Learner\", \"Host\": \"algo-1\", \"Operation\": \"training\", \"epoch\": 1, \"model\": 1}, \"Metrics\": {\"train_absolute_loss_objective\": {\"sum\": 0.8808153915405273, \"count\": 1, \"min\": 0.8808153915405273, \"max\": 0.8808153915405273}}}\u001b[0m\n",
      "\u001b[34m#metrics {\"StartTime\": 1646242383.11569, \"EndTime\": 1646242383.1157002, \"Dimensions\": {\"Algorithm\": \"Linear Learner\", \"Host\": \"algo-1\", \"Operation\": \"training\", \"epoch\": 1, \"model\": 2}, \"Metrics\": {\"train_absolute_loss_objective\": {\"sum\": 0.8644903182983399, \"count\": 1, \"min\": 0.8644903182983399, \"max\": 0.8644903182983399}}}\u001b[0m\n",
      "\u001b[34m#metrics {\"StartTime\": 1646242383.115736, \"EndTime\": 1646242383.1157458, \"Dimensions\": {\"Algorithm\": \"Linear Learner\", \"Host\": \"algo-1\", \"Operation\": \"training\", \"epoch\": 1, \"model\": 3}, \"Metrics\": {\"train_absolute_loss_objective\": {\"sum\": 0.8798661136627197, \"count\": 1, \"min\": 0.8798661136627197, \"max\": 0.8798661136627197}}}\u001b[0m\n",
      "\u001b[34m#metrics {\"StartTime\": 1646242383.115788, \"EndTime\": 1646242383.1157987, \"Dimensions\": {\"Algorithm\": \"Linear Learner\", \"Host\": \"algo-1\", \"Operation\": \"training\", \"epoch\": 1, \"model\": 4}, \"Metrics\": {\"train_absolute_loss_objective\": {\"sum\": 0.5439488124847413, \"count\": 1, \"min\": 0.5439488124847413, \"max\": 0.5439488124847413}}}\u001b[0m\n",
      "\u001b[34m#metrics {\"StartTime\": 1646242383.115841, \"EndTime\": 1646242383.1158512, \"Dimensions\": {\"Algorithm\": \"Linear Learner\", \"Host\": \"algo-1\", \"Operation\": \"training\", \"epoch\": 1, \"model\": 5}, \"Metrics\": {\"train_absolute_loss_objective\": {\"sum\": 0.5473716545104981, \"count\": 1, \"min\": 0.5473716545104981, \"max\": 0.5473716545104981}}}\u001b[0m\n",
      "\u001b[34m#metrics {\"StartTime\": 1646242383.1158924, \"EndTime\": 1646242383.1159027, \"Dimensions\": {\"Algorithm\": \"Linear Learner\", \"Host\": \"algo-1\", \"Operation\": \"training\", \"epoch\": 1, \"model\": 6}, \"Metrics\": {\"train_absolute_loss_objective\": {\"sum\": 0.5634616565704346, \"count\": 1, \"min\": 0.5634616565704346, \"max\": 0.5634616565704346}}}\u001b[0m\n",
      "\u001b[34m#metrics {\"StartTime\": 1646242383.115938, \"EndTime\": 1646242383.1159475, \"Dimensions\": {\"Algorithm\": \"Linear Learner\", \"Host\": \"algo-1\", \"Operation\": \"training\", \"epoch\": 1, \"model\": 7}, \"Metrics\": {\"train_absolute_loss_objective\": {\"sum\": 0.5748607110977173, \"count\": 1, \"min\": 0.5748607110977173, \"max\": 0.5748607110977173}}}\u001b[0m\n",
      "\u001b[34m#metrics {\"StartTime\": 1646242383.1159816, \"EndTime\": 1646242383.1159906, \"Dimensions\": {\"Algorithm\": \"Linear Learner\", \"Host\": \"algo-1\", \"Operation\": \"training\", \"epoch\": 1, \"model\": 8}, \"Metrics\": {\"train_absolute_loss_objective\": {\"sum\": 0.9143941879272461, \"count\": 1, \"min\": 0.9143941879272461, \"max\": 0.9143941879272461}}}\u001b[0m\n",
      "\u001b[34m#metrics {\"StartTime\": 1646242383.116029, \"EndTime\": 1646242383.116038, \"Dimensions\": {\"Algorithm\": \"Linear Learner\", \"Host\": \"algo-1\", \"Operation\": \"training\", \"epoch\": 1, \"model\": 9}, \"Metrics\": {\"train_absolute_loss_objective\": {\"sum\": 0.8510168266296386, \"count\": 1, \"min\": 0.8510168266296386, \"max\": 0.8510168266296386}}}\u001b[0m\n",
      "\u001b[34m#metrics {\"StartTime\": 1646242383.1160746, \"EndTime\": 1646242383.1160836, \"Dimensions\": {\"Algorithm\": \"Linear Learner\", \"Host\": \"algo-1\", \"Operation\": \"training\", \"epoch\": 1, \"model\": 10}, \"Metrics\": {\"train_absolute_loss_objective\": {\"sum\": 0.8572667694091797, \"count\": 1, \"min\": 0.8572667694091797, \"max\": 0.8572667694091797}}}\u001b[0m\n",
      "\u001b[34m#metrics {\"StartTime\": 1646242383.1161182, \"EndTime\": 1646242383.1161275, \"Dimensions\": {\"Algorithm\": \"Linear Learner\", \"Host\": \"algo-1\", \"Operation\": \"training\", \"epoch\": 1, \"model\": 11}, \"Metrics\": {\"train_absolute_loss_objective\": {\"sum\": 0.8434462928771973, \"count\": 1, \"min\": 0.8434462928771973, \"max\": 0.8434462928771973}}}\u001b[0m\n",
      "\u001b[34m#metrics {\"StartTime\": 1646242383.1161616, \"EndTime\": 1646242383.1161704, \"Dimensions\": {\"Algorithm\": \"Linear Learner\", \"Host\": \"algo-1\", \"Operation\": \"training\", \"epoch\": 1, \"model\": 12}, \"Metrics\": {\"train_absolute_loss_objective\": {\"sum\": 0.5472811794281006, \"count\": 1, \"min\": 0.5472811794281006, \"max\": 0.5472811794281006}}}\u001b[0m\n",
      "\u001b[34m#metrics {\"StartTime\": 1646242383.1162043, \"EndTime\": 1646242383.1162133, \"Dimensions\": {\"Algorithm\": \"Linear Learner\", \"Host\": \"algo-1\", \"Operation\": \"training\", \"epoch\": 1, \"model\": 13}, \"Metrics\": {\"train_absolute_loss_objective\": {\"sum\": 0.5564985370635986, \"count\": 1, \"min\": 0.5564985370635986, \"max\": 0.5564985370635986}}}\u001b[0m\n",
      "\u001b[34m#metrics {\"StartTime\": 1646242383.1162484, \"EndTime\": 1646242383.116257, \"Dimensions\": {\"Algorithm\": \"Linear Learner\", \"Host\": \"algo-1\", \"Operation\": \"training\", \"epoch\": 1, \"model\": 14}, \"Metrics\": {\"train_absolute_loss_objective\": {\"sum\": 0.5467590999603271, \"count\": 1, \"min\": 0.5467590999603271, \"max\": 0.5467590999603271}}}\u001b[0m\n",
      "\u001b[34m#metrics {\"StartTime\": 1646242383.1162956, \"EndTime\": 1646242383.116305, \"Dimensions\": {\"Algorithm\": \"Linear Learner\", \"Host\": \"algo-1\", \"Operation\": \"training\", \"epoch\": 1, \"model\": 15}, \"Metrics\": {\"train_absolute_loss_objective\": {\"sum\": 0.5587075996398926, \"count\": 1, \"min\": 0.5587075996398926, \"max\": 0.5587075996398926}}}\u001b[0m\n",
      "\u001b[34m#metrics {\"StartTime\": 1646242383.1163378, \"EndTime\": 1646242383.1163466, \"Dimensions\": {\"Algorithm\": \"Linear Learner\", \"Host\": \"algo-1\", \"Operation\": \"training\", \"epoch\": 1, \"model\": 16}, \"Metrics\": {\"train_absolute_loss_objective\": {\"sum\": 0.8286686420440674, \"count\": 1, \"min\": 0.8286686420440674, \"max\": 0.8286686420440674}}}\u001b[0m\n",
      "\u001b[34m#metrics {\"StartTime\": 1646242383.1163855, \"EndTime\": 1646242383.1163955, \"Dimensions\": {\"Algorithm\": \"Linear Learner\", \"Host\": \"algo-1\", \"Operation\": \"training\", \"epoch\": 1, \"model\": 17}, \"Metrics\": {\"train_absolute_loss_objective\": {\"sum\": 0.8764018440246581, \"count\": 1, \"min\": 0.8764018440246581, \"max\": 0.8764018440246581}}}\u001b[0m\n",
      "\u001b[34m#metrics {\"StartTime\": 1646242383.116434, \"EndTime\": 1646242383.1164434, \"Dimensions\": {\"Algorithm\": \"Linear Learner\", \"Host\": \"algo-1\", \"Operation\": \"training\", \"epoch\": 1, \"model\": 18}, \"Metrics\": {\"train_absolute_loss_objective\": {\"sum\": 0.8538718128204346, \"count\": 1, \"min\": 0.8538718128204346, \"max\": 0.8538718128204346}}}\u001b[0m\n",
      "\u001b[34m#metrics {\"StartTime\": 1646242383.116484, \"EndTime\": 1646242383.116494, \"Dimensions\": {\"Algorithm\": \"Linear Learner\", \"Host\": \"algo-1\", \"Operation\": \"training\", \"epoch\": 1, \"model\": 19}, \"Metrics\": {\"train_absolute_loss_objective\": {\"sum\": 0.8513554859161377, \"count\": 1, \"min\": 0.8513554859161377, \"max\": 0.8513554859161377}}}\u001b[0m\n",
      "\u001b[34m#metrics {\"StartTime\": 1646242383.1165342, \"EndTime\": 1646242383.1165442, \"Dimensions\": {\"Algorithm\": \"Linear Learner\", \"Host\": \"algo-1\", \"Operation\": \"training\", \"epoch\": 1, \"model\": 20}, \"Metrics\": {\"train_absolute_loss_objective\": {\"sum\": 0.5942720317840576, \"count\": 1, \"min\": 0.5942720317840576, \"max\": 0.5942720317840576}}}\u001b[0m\n",
      "\u001b[34m#metrics {\"StartTime\": 1646242383.116579, \"EndTime\": 1646242383.1165884, \"Dimensions\": {\"Algorithm\": \"Linear Learner\", \"Host\": \"algo-1\", \"Operation\": \"training\", \"epoch\": 1, \"model\": 21}, \"Metrics\": {\"train_absolute_loss_objective\": {\"sum\": 0.6004386615753173, \"count\": 1, \"min\": 0.6004386615753173, \"max\": 0.6004386615753173}}}\u001b[0m\n",
      "\u001b[34m#metrics {\"StartTime\": 1646242383.11662, \"EndTime\": 1646242383.1166286, \"Dimensions\": {\"Algorithm\": \"Linear Learner\", \"Host\": \"algo-1\", \"Operation\": \"training\", \"epoch\": 1, \"model\": 22}, \"Metrics\": {\"train_absolute_loss_objective\": {\"sum\": 0.5838899135589599, \"count\": 1, \"min\": 0.5838899135589599, \"max\": 0.5838899135589599}}}\u001b[0m\n",
      "\u001b[34m#metrics {\"StartTime\": 1646242383.116667, \"EndTime\": 1646242383.1166766, \"Dimensions\": {\"Algorithm\": \"Linear Learner\", \"Host\": \"algo-1\", \"Operation\": \"training\", \"epoch\": 1, \"model\": 23}, \"Metrics\": {\"train_absolute_loss_objective\": {\"sum\": 0.6115681076049805, \"count\": 1, \"min\": 0.6115681076049805, \"max\": 0.6115681076049805}}}\u001b[0m\n",
      "\u001b[34m#metrics {\"StartTime\": 1646242383.1167114, \"EndTime\": 1646242383.1167204, \"Dimensions\": {\"Algorithm\": \"Linear Learner\", \"Host\": \"algo-1\", \"Operation\": \"training\", \"epoch\": 1, \"model\": 24}, \"Metrics\": {\"train_absolute_loss_objective\": {\"sum\": 0.8716982746124268, \"count\": 1, \"min\": 0.8716982746124268, \"max\": 0.8716982746124268}}}\u001b[0m\n",
      "\u001b[34m#metrics {\"StartTime\": 1646242383.1167593, \"EndTime\": 1646242383.116769, \"Dimensions\": {\"Algorithm\": \"Linear Learner\", \"Host\": \"algo-1\", \"Operation\": \"training\", \"epoch\": 1, \"model\": 25}, \"Metrics\": {\"train_absolute_loss_objective\": {\"sum\": 0.8944852256774902, \"count\": 1, \"min\": 0.8944852256774902, \"max\": 0.8944852256774902}}}\u001b[0m\n",
      "\u001b[34m#metrics {\"StartTime\": 1646242383.1168032, \"EndTime\": 1646242383.1168118, \"Dimensions\": {\"Algorithm\": \"Linear Learner\", \"Host\": \"algo-1\", \"Operation\": \"training\", \"epoch\": 1, \"model\": 26}, \"Metrics\": {\"train_absolute_loss_objective\": {\"sum\": 0.8849925994873047, \"count\": 1, \"min\": 0.8849925994873047, \"max\": 0.8849925994873047}}}\u001b[0m\n",
      "\u001b[34m#metrics {\"StartTime\": 1646242383.1168435, \"EndTime\": 1646242383.116854, \"Dimensions\": {\"Algorithm\": \"Linear Learner\", \"Host\": \"algo-1\", \"Operation\": \"training\", \"epoch\": 1, \"model\": 27}, \"Metrics\": {\"train_absolute_loss_objective\": {\"sum\": 0.8860858535766601, \"count\": 1, \"min\": 0.8860858535766601, \"max\": 0.8860858535766601}}}\u001b[0m\n",
      "\u001b[34m#metrics {\"StartTime\": 1646242383.116895, \"EndTime\": 1646242383.1169038, \"Dimensions\": {\"Algorithm\": \"Linear Learner\", \"Host\": \"algo-1\", \"Operation\": \"training\", \"epoch\": 1, \"model\": 28}, \"Metrics\": {\"train_absolute_loss_objective\": {\"sum\": 1.07719651222229, \"count\": 1, \"min\": 1.07719651222229, \"max\": 1.07719651222229}}}\u001b[0m\n",
      "\u001b[34m#metrics {\"StartTime\": 1646242383.116935, \"EndTime\": 1646242383.1169424, \"Dimensions\": {\"Algorithm\": \"Linear Learner\", \"Host\": \"algo-1\", \"Operation\": \"training\", \"epoch\": 1, \"model\": 29}, \"Metrics\": {\"train_absolute_loss_objective\": {\"sum\": 1.0761445426940919, \"count\": 1, \"min\": 1.0761445426940919, \"max\": 1.0761445426940919}}}\u001b[0m\n",
      "\u001b[34m#metrics {\"StartTime\": 1646242383.1169891, \"EndTime\": 1646242383.1169999, \"Dimensions\": {\"Algorithm\": \"Linear Learner\", \"Host\": \"algo-1\", \"Operation\": \"training\", \"epoch\": 1, \"model\": 30}, \"Metrics\": {\"train_absolute_loss_objective\": {\"sum\": 1.0674837112426758, \"count\": 1, \"min\": 1.0674837112426758, \"max\": 1.0674837112426758}}}\u001b[0m\n",
      "\u001b[34m#metrics {\"StartTime\": 1646242383.1170344, \"EndTime\": 1646242383.117042, \"Dimensions\": {\"Algorithm\": \"Linear Learner\", \"Host\": \"algo-1\", \"Operation\": \"training\", \"epoch\": 1, \"model\": 31}, \"Metrics\": {\"train_absolute_loss_objective\": {\"sum\": 0.890598316192627, \"count\": 1, \"min\": 0.890598316192627, \"max\": 0.890598316192627}}}\u001b[0m\n",
      "\u001b[34m[03/02/2022 17:33:03 INFO 139717753841472] #quality_metric: host=algo-1, epoch=1, train absolute_loss_objective <loss>=0.8622401618957519\u001b[0m\n",
      "\u001b[34m[03/02/2022 17:33:03 INFO 139717753841472] #early_stopping_criteria_metric: host=algo-1, epoch=1, criteria=absolute_loss_objective, value=0.5439488124847413\u001b[0m\n",
      "\u001b[34m[03/02/2022 17:33:03 INFO 139717753841472] Epoch 1: Loss improved. Updating best model\u001b[0m\n",
      "\u001b[34m[03/02/2022 17:33:03 INFO 139717753841472] Saving model for epoch: 1\u001b[0m\n",
      "\u001b[34m[03/02/2022 17:33:03 INFO 139717753841472] Saved checkpoint to \"/tmp/tmpkocsg6qg/mx-mod-0000.params\"\u001b[0m\n",
      "\u001b[34m[03/02/2022 17:33:03 INFO 139717753841472] #progress_metric: host=algo-1, completed 40.0 % of epochs\u001b[0m\n",
      "\u001b[34m#metrics {\"StartTime\": 1646242383.0114632, \"EndTime\": 1646242383.1252437, \"Dimensions\": {\"Algorithm\": \"Linear Learner\", \"Host\": \"algo-1\", \"Operation\": \"training\", \"epoch\": 1, \"Meta\": \"training_data_iter\"}, \"Metrics\": {\"Total Records Seen\": {\"sum\": 83.0, \"count\": 1, \"min\": 83, \"max\": 83}, \"Total Batches Seen\": {\"sum\": 19.0, \"count\": 1, \"min\": 19, \"max\": 19}, \"Max Records Seen Between Resets\": {\"sum\": 26.0, \"count\": 1, \"min\": 26, \"max\": 26}, \"Max Batches Seen Between Resets\": {\"sum\": 6.0, \"count\": 1, \"min\": 6, \"max\": 6}, \"Reset Count\": {\"sum\": 4.0, \"count\": 1, \"min\": 4, \"max\": 4}, \"Number of Records Since Last Reset\": {\"sum\": 26.0, \"count\": 1, \"min\": 26, \"max\": 26}, \"Number of Batches Since Last Reset\": {\"sum\": 6.0, \"count\": 1, \"min\": 6, \"max\": 6}}}\u001b[0m\n",
      "\u001b[34m[03/02/2022 17:33:03 INFO 139717753841472] #throughput_metric: host=algo-1, train throughput=228.21606169364543 records/second\u001b[0m\n",
      "\u001b[34m[2022-03-02 17:33:03.231] [tensorio] [info] epoch_stats={\"data_pipeline\": \"/opt/ml/input/data/train\", \"epoch\": 8, \"duration\": 105, \"num_examples\": 6, \"num_bytes\": 1248}\u001b[0m\n",
      "\u001b[34m#metrics {\"StartTime\": 1646242383.2313979, \"EndTime\": 1646242383.2314787, \"Dimensions\": {\"Algorithm\": \"Linear Learner\", \"Host\": \"algo-1\", \"Operation\": \"training\", \"epoch\": 2, \"model\": 0}, \"Metrics\": {\"train_absolute_loss_objective\": {\"sum\": 0.8399850463867188, \"count\": 1, \"min\": 0.8399850463867188, \"max\": 0.8399850463867188}}}\u001b[0m\n",
      "\u001b[34m#metrics {\"StartTime\": 1646242383.2315776, \"EndTime\": 1646242383.231596, \"Dimensions\": {\"Algorithm\": \"Linear Learner\", \"Host\": \"algo-1\", \"Operation\": \"training\", \"epoch\": 2, \"model\": 1}, \"Metrics\": {\"train_absolute_loss_objective\": {\"sum\": 0.8587358093261719, \"count\": 1, \"min\": 0.8587358093261719, \"max\": 0.8587358093261719}}}\u001b[0m\n",
      "\u001b[34m#metrics {\"StartTime\": 1646242383.231646, \"EndTime\": 1646242383.2316623, \"Dimensions\": {\"Algorithm\": \"Linear Learner\", \"Host\": \"algo-1\", \"Operation\": \"training\", \"epoch\": 2, \"model\": 2}, \"Metrics\": {\"train_absolute_loss_objective\": {\"sum\": 0.8422666358947754, \"count\": 1, \"min\": 0.8422666358947754, \"max\": 0.8422666358947754}}}\u001b[0m\n",
      "\u001b[34m#metrics {\"StartTime\": 1646242383.2317224, \"EndTime\": 1646242383.2317371, \"Dimensions\": {\"Algorithm\": \"Linear Learner\", \"Host\": \"algo-1\", \"Operation\": \"training\", \"epoch\": 2, \"model\": 3}, \"Metrics\": {\"train_absolute_loss_objective\": {\"sum\": 0.8577732467651367, \"count\": 1, \"min\": 0.8577732467651367, \"max\": 0.8577732467651367}}}\u001b[0m\n",
      "\u001b[34m#metrics {\"StartTime\": 1646242383.2317832, \"EndTime\": 1646242383.2317922, \"Dimensions\": {\"Algorithm\": \"Linear Learner\", \"Host\": \"algo-1\", \"Operation\": \"training\", \"epoch\": 2, \"model\": 4}, \"Metrics\": {\"train_absolute_loss_objective\": {\"sum\": 0.212097647190094, \"count\": 1, \"min\": 0.212097647190094, \"max\": 0.212097647190094}}}\u001b[0m\n",
      "\u001b[34m#metrics {\"StartTime\": 1646242383.2318268, \"EndTime\": 1646242383.2318413, \"Dimensions\": {\"Algorithm\": \"Linear Learner\", \"Host\": \"algo-1\", \"Operation\": \"training\", \"epoch\": 2, \"model\": 5}, \"Metrics\": {\"train_absolute_loss_objective\": {\"sum\": 0.20831358432769775, \"count\": 1, \"min\": 0.20831358432769775, \"max\": 0.20831358432769775}}}\u001b[0m\n",
      "\u001b[34m#metrics {\"StartTime\": 1646242383.2318978, \"EndTime\": 1646242383.2319136, \"Dimensions\": {\"Algorithm\": \"Linear Learner\", \"Host\": \"algo-1\", \"Operation\": \"training\", \"epoch\": 2, \"model\": 6}, \"Metrics\": {\"train_absolute_loss_objective\": {\"sum\": 0.24338613748550414, \"count\": 1, \"min\": 0.24338613748550414, \"max\": 0.24338613748550414}}}\u001b[0m\n",
      "\u001b[34m#metrics {\"StartTime\": 1646242383.231967, \"EndTime\": 1646242383.2319827, \"Dimensions\": {\"Algorithm\": \"Linear Learner\", \"Host\": \"algo-1\", \"Operation\": \"training\", \"epoch\": 2, \"model\": 7}, \"Metrics\": {\"train_absolute_loss_objective\": {\"sum\": 0.2164074444770813, \"count\": 1, \"min\": 0.2164074444770813, \"max\": 0.2164074444770813}}}\u001b[0m\n",
      "\u001b[34m#metrics {\"StartTime\": 1646242383.2320337, \"EndTime\": 1646242383.2320495, \"Dimensions\": {\"Algorithm\": \"Linear Learner\", \"Host\": \"algo-1\", \"Operation\": \"training\", \"epoch\": 2, \"model\": 8}, \"Metrics\": {\"train_absolute_loss_objective\": {\"sum\": 0.8928686428070068, \"count\": 1, \"min\": 0.8928686428070068, \"max\": 0.8928686428070068}}}\u001b[0m\n",
      "\u001b[34m#metrics {\"StartTime\": 1646242383.232096, \"EndTime\": 1646242383.2321107, \"Dimensions\": {\"Algorithm\": \"Linear Learner\", \"Host\": \"algo-1\", \"Operation\": \"training\", \"epoch\": 2, \"model\": 9}, \"Metrics\": {\"train_absolute_loss_objective\": {\"sum\": 0.8285224533081055, \"count\": 1, \"min\": 0.8285224533081055, \"max\": 0.8285224533081055}}}\u001b[0m\n",
      "\u001b[34m#metrics {\"StartTime\": 1646242383.2321692, \"EndTime\": 1646242383.232185, \"Dimensions\": {\"Algorithm\": \"Linear Learner\", \"Host\": \"algo-1\", \"Operation\": \"training\", \"epoch\": 2, \"model\": 10}, \"Metrics\": {\"train_absolute_loss_objective\": {\"sum\": 0.8349437999725342, \"count\": 1, \"min\": 0.8349437999725342, \"max\": 0.8349437999725342}}}\u001b[0m\n",
      "\u001b[34m#metrics {\"StartTime\": 1646242383.2322476, \"EndTime\": 1646242383.2322636, \"Dimensions\": {\"Algorithm\": \"Linear Learner\", \"Host\": \"algo-1\", \"Operation\": \"training\", \"epoch\": 2, \"model\": 11}, \"Metrics\": {\"train_absolute_loss_objective\": {\"sum\": 0.8208462429046631, \"count\": 1, \"min\": 0.8208462429046631, \"max\": 0.8208462429046631}}}\u001b[0m\n",
      "\u001b[34m#metrics {\"StartTime\": 1646242383.2323182, \"EndTime\": 1646242383.232333, \"Dimensions\": {\"Algorithm\": \"Linear Learner\", \"Host\": \"algo-1\", \"Operation\": \"training\", \"epoch\": 2, \"model\": 12}, \"Metrics\": {\"train_absolute_loss_objective\": {\"sum\": 0.20602542161941528, \"count\": 1, \"min\": 0.20602542161941528, \"max\": 0.20602542161941528}}}\u001b[0m\n",
      "\u001b[34m#metrics {\"StartTime\": 1646242383.2323928, \"EndTime\": 1646242383.2324102, \"Dimensions\": {\"Algorithm\": \"Linear Learner\", \"Host\": \"algo-1\", \"Operation\": \"training\", \"epoch\": 2, \"model\": 13}, \"Metrics\": {\"train_absolute_loss_objective\": {\"sum\": 0.22185259342193603, \"count\": 1, \"min\": 0.22185259342193603, \"max\": 0.22185259342193603}}}\u001b[0m\n",
      "\u001b[34m#metrics {\"StartTime\": 1646242383.2324636, \"EndTime\": 1646242383.2324786, \"Dimensions\": {\"Algorithm\": \"Linear Learner\", \"Host\": \"algo-1\", \"Operation\": \"training\", \"epoch\": 2, \"model\": 14}, \"Metrics\": {\"train_absolute_loss_objective\": {\"sum\": 0.2067611861228943, \"count\": 1, \"min\": 0.2067611861228943, \"max\": 0.2067611861228943}}}\u001b[0m\n",
      "\u001b[34m#metrics {\"StartTime\": 1646242383.2325342, \"EndTime\": 1646242383.232548, \"Dimensions\": {\"Algorithm\": \"Linear Learner\", \"Host\": \"algo-1\", \"Operation\": \"training\", \"epoch\": 2, \"model\": 15}, \"Metrics\": {\"train_absolute_loss_objective\": {\"sum\": 0.22070251226425172, \"count\": 1, \"min\": 0.22070251226425172, \"max\": 0.22070251226425172}}}\u001b[0m\n",
      "\u001b[34m#metrics {\"StartTime\": 1646242383.2326043, \"EndTime\": 1646242383.232619, \"Dimensions\": {\"Algorithm\": \"Linear Learner\", \"Host\": \"algo-1\", \"Operation\": \"training\", \"epoch\": 2, \"model\": 16}, \"Metrics\": {\"train_absolute_loss_objective\": {\"sum\": 0.8062006378173828, \"count\": 1, \"min\": 0.8062006378173828, \"max\": 0.8062006378173828}}}\u001b[0m\n",
      "\u001b[34m#metrics {\"StartTime\": 1646242383.2326715, \"EndTime\": 1646242383.2326887, \"Dimensions\": {\"Algorithm\": \"Linear Learner\", \"Host\": \"algo-1\", \"Operation\": \"training\", \"epoch\": 2, \"model\": 17}, \"Metrics\": {\"train_absolute_loss_objective\": {\"sum\": 0.8543910026550293, \"count\": 1, \"min\": 0.8543910026550293, \"max\": 0.8543910026550293}}}\u001b[0m\n",
      "\u001b[34m#metrics {\"StartTime\": 1646242383.2327387, \"EndTime\": 1646242383.232754, \"Dimensions\": {\"Algorithm\": \"Linear Learner\", \"Host\": \"algo-1\", \"Operation\": \"training\", \"epoch\": 2, \"model\": 18}, \"Metrics\": {\"train_absolute_loss_objective\": {\"sum\": 0.8316858673095703, \"count\": 1, \"min\": 0.8316858673095703, \"max\": 0.8316858673095703}}}\u001b[0m\n",
      "\u001b[34m#metrics {\"StartTime\": 1646242383.2328155, \"EndTime\": 1646242383.2328322, \"Dimensions\": {\"Algorithm\": \"Linear Learner\", \"Host\": \"algo-1\", \"Operation\": \"training\", \"epoch\": 2, \"model\": 19}, \"Metrics\": {\"train_absolute_loss_objective\": {\"sum\": 0.8290580654144287, \"count\": 1, \"min\": 0.8290580654144287, \"max\": 0.8290580654144287}}}\u001b[0m\n",
      "\u001b[34m#metrics {\"StartTime\": 1646242383.2328832, \"EndTime\": 1646242383.2328994, \"Dimensions\": {\"Algorithm\": \"Linear Learner\", \"Host\": \"algo-1\", \"Operation\": \"training\", \"epoch\": 2, \"model\": 20}, \"Metrics\": {\"train_absolute_loss_objective\": {\"sum\": 0.34286614894866946, \"count\": 1, \"min\": 0.34286614894866946, \"max\": 0.34286614894866946}}}\u001b[0m\n",
      "\u001b[34m#metrics {\"StartTime\": 1646242383.2329519, \"EndTime\": 1646242383.2329655, \"Dimensions\": {\"Algorithm\": \"Linear Learner\", \"Host\": \"algo-1\", \"Operation\": \"training\", \"epoch\": 2, \"model\": 21}, \"Metrics\": {\"train_absolute_loss_objective\": {\"sum\": 0.34413156032562253, \"count\": 1, \"min\": 0.34413156032562253, \"max\": 0.34413156032562253}}}\u001b[0m\n",
      "\u001b[34m#metrics {\"StartTime\": 1646242383.2330165, \"EndTime\": 1646242383.2330313, \"Dimensions\": {\"Algorithm\": \"Linear Learner\", \"Host\": \"algo-1\", \"Operation\": \"training\", \"epoch\": 2, \"model\": 22}, \"Metrics\": {\"train_absolute_loss_objective\": {\"sum\": 0.40436954975128175, \"count\": 1, \"min\": 0.40436954975128175, \"max\": 0.40436954975128175}}}\u001b[0m\n",
      "\u001b[34m#metrics {\"StartTime\": 1646242383.2330942, \"EndTime\": 1646242383.2331123, \"Dimensions\": {\"Algorithm\": \"Linear Learner\", \"Host\": \"algo-1\", \"Operation\": \"training\", \"epoch\": 2, \"model\": 23}, \"Metrics\": {\"train_absolute_loss_objective\": {\"sum\": 0.34725035190582276, \"count\": 1, \"min\": 0.34725035190582276, \"max\": 0.34725035190582276}}}\u001b[0m\n",
      "\u001b[34m#metrics {\"StartTime\": 1646242383.2331746, \"EndTime\": 1646242383.233191, \"Dimensions\": {\"Algorithm\": \"Linear Learner\", \"Host\": \"algo-1\", \"Operation\": \"training\", \"epoch\": 2, \"model\": 24}, \"Metrics\": {\"train_absolute_loss_objective\": {\"sum\": 0.8854031658172608, \"count\": 1, \"min\": 0.8854031658172608, \"max\": 0.8854031658172608}}}\u001b[0m\n",
      "\u001b[34m#metrics {\"StartTime\": 1646242383.2332466, \"EndTime\": 1646242383.2332616, \"Dimensions\": {\"Algorithm\": \"Linear Learner\", \"Host\": \"algo-1\", \"Operation\": \"training\", \"epoch\": 2, \"model\": 25}, \"Metrics\": {\"train_absolute_loss_objective\": {\"sum\": 0.8798805618286133, \"count\": 1, \"min\": 0.8798805618286133, \"max\": 0.8798805618286133}}}\u001b[0m\n",
      "\u001b[34m#metrics {\"StartTime\": 1646242383.2333188, \"EndTime\": 1646242383.233333, \"Dimensions\": {\"Algorithm\": \"Linear Learner\", \"Host\": \"algo-1\", \"Operation\": \"training\", \"epoch\": 2, \"model\": 26}, \"Metrics\": {\"train_absolute_loss_objective\": {\"sum\": 0.8800213432312012, \"count\": 1, \"min\": 0.8800213432312012, \"max\": 0.8800213432312012}}}\u001b[0m\n",
      "\u001b[34m#metrics {\"StartTime\": 1646242383.2333899, \"EndTime\": 1646242383.2334032, \"Dimensions\": {\"Algorithm\": \"Linear Learner\", \"Host\": \"algo-1\", \"Operation\": \"training\", \"epoch\": 2, \"model\": 27}, \"Metrics\": {\"train_absolute_loss_objective\": {\"sum\": 0.8896613788604736, \"count\": 1, \"min\": 0.8896613788604736, \"max\": 0.8896613788604736}}}\u001b[0m\n",
      "\u001b[34m#metrics {\"StartTime\": 1646242383.2334623, \"EndTime\": 1646242383.2334814, \"Dimensions\": {\"Algorithm\": \"Linear Learner\", \"Host\": \"algo-1\", \"Operation\": \"training\", \"epoch\": 2, \"model\": 28}, \"Metrics\": {\"train_absolute_loss_objective\": {\"sum\": 1.0169386672973633, \"count\": 1, \"min\": 1.0169386672973633, \"max\": 1.0169386672973633}}}\u001b[0m\n",
      "\u001b[34m#metrics {\"StartTime\": 1646242383.2335315, \"EndTime\": 1646242383.2335472, \"Dimensions\": {\"Algorithm\": \"Linear Learner\", \"Host\": \"algo-1\", \"Operation\": \"training\", \"epoch\": 2, \"model\": 29}, \"Metrics\": {\"train_absolute_loss_objective\": {\"sum\": 1.019397211074829, \"count\": 1, \"min\": 1.019397211074829, \"max\": 1.019397211074829}}}\u001b[0m\n",
      "\u001b[34m#metrics {\"StartTime\": 1646242383.2335966, \"EndTime\": 1646242383.2336135, \"Dimensions\": {\"Algorithm\": \"Linear Learner\", \"Host\": \"algo-1\", \"Operation\": \"training\", \"epoch\": 2, \"model\": 30}, \"Metrics\": {\"train_absolute_loss_objective\": {\"sum\": 1.022465419769287, \"count\": 1, \"min\": 1.022465419769287, \"max\": 1.022465419769287}}}\u001b[0m\n",
      "\u001b[34m#metrics {\"StartTime\": 1646242383.2336626, \"EndTime\": 1646242383.2336793, \"Dimensions\": {\"Algorithm\": \"Linear Learner\", \"Host\": \"algo-1\", \"Operation\": \"training\", \"epoch\": 2, \"model\": 31}, \"Metrics\": {\"train_absolute_loss_objective\": {\"sum\": 0.9813938903808593, \"count\": 1, \"min\": 0.9813938903808593, \"max\": 0.9813938903808593}}}\u001b[0m\n",
      "\u001b[34m[03/02/2022 17:33:03 INFO 139717753841472] #quality_metric: host=algo-1, epoch=2, train absolute_loss_objective <loss>=0.8399850463867188\u001b[0m\n",
      "\u001b[34m[03/02/2022 17:33:03 INFO 139717753841472] #early_stopping_criteria_metric: host=algo-1, epoch=2, criteria=absolute_loss_objective, value=0.20602542161941528\u001b[0m\n",
      "\u001b[34m[03/02/2022 17:33:03 INFO 139717753841472] Epoch 2: Loss improved. Updating best model\u001b[0m\n",
      "\u001b[34m[03/02/2022 17:33:03 INFO 139717753841472] Saving model for epoch: 2\u001b[0m\n",
      "\u001b[34m[03/02/2022 17:33:03 INFO 139717753841472] Saved checkpoint to \"/tmp/tmpbszaaiv3/mx-mod-0000.params\"\u001b[0m\n",
      "\u001b[34m[03/02/2022 17:33:03 INFO 139717753841472] #progress_metric: host=algo-1, completed 60.0 % of epochs\u001b[0m\n",
      "\u001b[34m#metrics {\"StartTime\": 1646242383.125541, \"EndTime\": 1646242383.2415135, \"Dimensions\": {\"Algorithm\": \"Linear Learner\", \"Host\": \"algo-1\", \"Operation\": \"training\", \"epoch\": 2, \"Meta\": \"training_data_iter\"}, \"Metrics\": {\"Total Records Seen\": {\"sum\": 109.0, \"count\": 1, \"min\": 109, \"max\": 109}, \"Total Batches Seen\": {\"sum\": 25.0, \"count\": 1, \"min\": 25, \"max\": 25}, \"Max Records Seen Between Resets\": {\"sum\": 26.0, \"count\": 1, \"min\": 26, \"max\": 26}, \"Max Batches Seen Between Resets\": {\"sum\": 6.0, \"count\": 1, \"min\": 6, \"max\": 6}, \"Reset Count\": {\"sum\": 5.0, \"count\": 1, \"min\": 5, \"max\": 5}, \"Number of Records Since Last Reset\": {\"sum\": 26.0, \"count\": 1, \"min\": 26, \"max\": 26}, \"Number of Batches Since Last Reset\": {\"sum\": 6.0, \"count\": 1, \"min\": 6, \"max\": 6}}}\u001b[0m\n",
      "\u001b[34m[03/02/2022 17:33:03 INFO 139717753841472] #throughput_metric: host=algo-1, train throughput=223.92772014554535 records/second\u001b[0m\n",
      "\u001b[34m[2022-03-02 17:33:03.353] [tensorio] [info] epoch_stats={\"data_pipeline\": \"/opt/ml/input/data/train\", \"epoch\": 10, \"duration\": 111, \"num_examples\": 6, \"num_bytes\": 1248}\u001b[0m\n",
      "\u001b[34m#metrics {\"StartTime\": 1646242383.3534691, \"EndTime\": 1646242383.3535852, \"Dimensions\": {\"Algorithm\": \"Linear Learner\", \"Host\": \"algo-1\", \"Operation\": \"training\", \"epoch\": 3, \"model\": 0}, \"Metrics\": {\"train_absolute_loss_objective\": {\"sum\": 0.8191282749176025, \"count\": 1, \"min\": 0.8191282749176025, \"max\": 0.8191282749176025}}}\u001b[0m\n",
      "\u001b[34m#metrics {\"StartTime\": 1646242383.3537047, \"EndTime\": 1646242383.3537219, \"Dimensions\": {\"Algorithm\": \"Linear Learner\", \"Host\": \"algo-1\", \"Operation\": \"training\", \"epoch\": 3, \"model\": 1}, \"Metrics\": {\"train_absolute_loss_objective\": {\"sum\": 0.8376683235168457, \"count\": 1, \"min\": 0.8376683235168457, \"max\": 0.8376683235168457}}}\u001b[0m\n",
      "\u001b[34m#metrics {\"StartTime\": 1646242383.3537633, \"EndTime\": 1646242383.3538017, \"Dimensions\": {\"Algorithm\": \"Linear Learner\", \"Host\": \"algo-1\", \"Operation\": \"training\", \"epoch\": 3, \"model\": 2}, \"Metrics\": {\"train_absolute_loss_objective\": {\"sum\": 0.8214098739624024, \"count\": 1, \"min\": 0.8214098739624024, \"max\": 0.8214098739624024}}}\u001b[0m\n",
      "\u001b[34m#metrics {\"StartTime\": 1646242383.353844, \"EndTime\": 1646242383.353855, \"Dimensions\": {\"Algorithm\": \"Linear Learner\", \"Host\": \"algo-1\", \"Operation\": \"training\", \"epoch\": 3, \"model\": 3}, \"Metrics\": {\"train_absolute_loss_objective\": {\"sum\": 0.8367058086395264, \"count\": 1, \"min\": 0.8367058086395264, \"max\": 0.8367058086395264}}}\u001b[0m\n",
      "\u001b[34m#metrics {\"StartTime\": 1646242383.3539062, \"EndTime\": 1646242383.3539174, \"Dimensions\": {\"Algorithm\": \"Linear Learner\", \"Host\": \"algo-1\", \"Operation\": \"training\", \"epoch\": 3, \"model\": 4}, \"Metrics\": {\"train_absolute_loss_objective\": {\"sum\": 0.3054322600364685, \"count\": 1, \"min\": 0.3054322600364685, \"max\": 0.3054322600364685}}}\u001b[0m\n",
      "\u001b[34m#metrics {\"StartTime\": 1646242383.3539536, \"EndTime\": 1646242383.3539627, \"Dimensions\": {\"Algorithm\": \"Linear Learner\", \"Host\": \"algo-1\", \"Operation\": \"training\", \"epoch\": 3, \"model\": 5}, \"Metrics\": {\"train_absolute_loss_objective\": {\"sum\": 0.30570745944976807, \"count\": 1, \"min\": 0.30570745944976807, \"max\": 0.30570745944976807}}}\u001b[0m\n",
      "\u001b[34m#metrics {\"StartTime\": 1646242383.3539963, \"EndTime\": 1646242383.3540056, \"Dimensions\": {\"Algorithm\": \"Linear Learner\", \"Host\": \"algo-1\", \"Operation\": \"training\", \"epoch\": 3, \"model\": 6}, \"Metrics\": {\"train_absolute_loss_objective\": {\"sum\": 0.36466068744659424, \"count\": 1, \"min\": 0.36466068744659424, \"max\": 0.36466068744659424}}}\u001b[0m\n",
      "\u001b[34m#metrics {\"StartTime\": 1646242383.3540375, \"EndTime\": 1646242383.3540466, \"Dimensions\": {\"Algorithm\": \"Linear Learner\", \"Host\": \"algo-1\", \"Operation\": \"training\", \"epoch\": 3, \"model\": 7}, \"Metrics\": {\"train_absolute_loss_objective\": {\"sum\": 0.37508020401000974, \"count\": 1, \"min\": 0.37508020401000974, \"max\": 0.37508020401000974}}}\u001b[0m\n",
      "\u001b[34m#metrics {\"StartTime\": 1646242383.3540783, \"EndTime\": 1646242383.3540869, \"Dimensions\": {\"Algorithm\": \"Linear Learner\", \"Host\": \"algo-1\", \"Operation\": \"training\", \"epoch\": 3, \"model\": 8}, \"Metrics\": {\"train_absolute_loss_objective\": {\"sum\": 0.8720136260986329, \"count\": 1, \"min\": 0.8720136260986329, \"max\": 0.8720136260986329}}}\u001b[0m\n",
      "\u001b[34m#metrics {\"StartTime\": 1646242383.3541186, \"EndTime\": 1646242383.3541276, \"Dimensions\": {\"Algorithm\": \"Linear Learner\", \"Host\": \"algo-1\", \"Operation\": \"training\", \"epoch\": 3, \"model\": 9}, \"Metrics\": {\"train_absolute_loss_objective\": {\"sum\": 0.8074581623077393, \"count\": 1, \"min\": 0.8074581623077393, \"max\": 0.8074581623077393}}}\u001b[0m\n",
      "\u001b[34m#metrics {\"StartTime\": 1646242383.3541672, \"EndTime\": 1646242383.3541775, \"Dimensions\": {\"Algorithm\": \"Linear Learner\", \"Host\": \"algo-1\", \"Operation\": \"training\", \"epoch\": 3, \"model\": 10}, \"Metrics\": {\"train_absolute_loss_objective\": {\"sum\": 0.8140900325775147, \"count\": 1, \"min\": 0.8140900325775147, \"max\": 0.8140900325775147}}}\u001b[0m\n",
      "\u001b[34m#metrics {\"StartTime\": 1646242383.354219, \"EndTime\": 1646242383.3542287, \"Dimensions\": {\"Algorithm\": \"Linear Learner\", \"Host\": \"algo-1\", \"Operation\": \"training\", \"epoch\": 3, \"model\": 11}, \"Metrics\": {\"train_absolute_loss_objective\": {\"sum\": 0.7997821044921875, \"count\": 1, \"min\": 0.7997821044921875, \"max\": 0.7997821044921875}}}\u001b[0m\n",
      "\u001b[34m#metrics {\"StartTime\": 1646242383.3542655, \"EndTime\": 1646242383.3542745, \"Dimensions\": {\"Algorithm\": \"Linear Learner\", \"Host\": \"algo-1\", \"Operation\": \"training\", \"epoch\": 3, \"model\": 12}, \"Metrics\": {\"train_absolute_loss_objective\": {\"sum\": 0.3038103365898132, \"count\": 1, \"min\": 0.3038103365898132, \"max\": 0.3038103365898132}}}\u001b[0m\n",
      "\u001b[34m#metrics {\"StartTime\": 1646242383.354314, \"EndTime\": 1646242383.3543243, \"Dimensions\": {\"Algorithm\": \"Linear Learner\", \"Host\": \"algo-1\", \"Operation\": \"training\", \"epoch\": 3, \"model\": 13}, \"Metrics\": {\"train_absolute_loss_objective\": {\"sum\": 0.38122437477111815, \"count\": 1, \"min\": 0.38122437477111815, \"max\": 0.38122437477111815}}}\u001b[0m\n",
      "\u001b[34m#metrics {\"StartTime\": 1646242383.3543646, \"EndTime\": 1646242383.3543744, \"Dimensions\": {\"Algorithm\": \"Linear Learner\", \"Host\": \"algo-1\", \"Operation\": \"training\", \"epoch\": 3, \"model\": 14}, \"Metrics\": {\"train_absolute_loss_objective\": {\"sum\": 0.30395935773849486, \"count\": 1, \"min\": 0.30395935773849486, \"max\": 0.30395935773849486}}}\u001b[0m\n",
      "\u001b[34m#metrics {\"StartTime\": 1646242383.3544083, \"EndTime\": 1646242383.3544168, \"Dimensions\": {\"Algorithm\": \"Linear Learner\", \"Host\": \"algo-1\", \"Operation\": \"training\", \"epoch\": 3, \"model\": 15}, \"Metrics\": {\"train_absolute_loss_objective\": {\"sum\": 0.33791632652282716, \"count\": 1, \"min\": 0.33791632652282716, \"max\": 0.33791632652282716}}}\u001b[0m\n",
      "\u001b[34m#metrics {\"StartTime\": 1646242383.3544488, \"EndTime\": 1646242383.3544574, \"Dimensions\": {\"Algorithm\": \"Linear Learner\", \"Host\": \"algo-1\", \"Operation\": \"training\", \"epoch\": 3, \"model\": 16}, \"Metrics\": {\"train_absolute_loss_objective\": {\"sum\": 0.7857619190216064, \"count\": 1, \"min\": 0.7857619190216064, \"max\": 0.7857619190216064}}}\u001b[0m\n",
      "\u001b[34m#metrics {\"StartTime\": 1646242383.3545144, \"EndTime\": 1646242383.3545263, \"Dimensions\": {\"Algorithm\": \"Linear Learner\", \"Host\": \"algo-1\", \"Operation\": \"training\", \"epoch\": 3, \"model\": 17}, \"Metrics\": {\"train_absolute_loss_objective\": {\"sum\": 0.8336038398742676, \"count\": 1, \"min\": 0.8336038398742676, \"max\": 0.8336038398742676}}}\u001b[0m\n",
      "\u001b[34m#metrics {\"StartTime\": 1646242383.3545609, \"EndTime\": 1646242383.35457, \"Dimensions\": {\"Algorithm\": \"Linear Learner\", \"Host\": \"algo-1\", \"Operation\": \"training\", \"epoch\": 3, \"model\": 18}, \"Metrics\": {\"train_absolute_loss_objective\": {\"sum\": 0.8111689758300781, \"count\": 1, \"min\": 0.8111689758300781, \"max\": 0.8111689758300781}}}\u001b[0m\n",
      "\u001b[34m#metrics {\"StartTime\": 1646242383.3546016, \"EndTime\": 1646242383.3546107, \"Dimensions\": {\"Algorithm\": \"Linear Learner\", \"Host\": \"algo-1\", \"Operation\": \"training\", \"epoch\": 3, \"model\": 19}, \"Metrics\": {\"train_absolute_loss_objective\": {\"sum\": 0.808342227935791, \"count\": 1, \"min\": 0.808342227935791, \"max\": 0.808342227935791}}}\u001b[0m\n",
      "\u001b[34m#metrics {\"StartTime\": 1646242383.3546422, \"EndTime\": 1646242383.354651, \"Dimensions\": {\"Algorithm\": \"Linear Learner\", \"Host\": \"algo-1\", \"Operation\": \"training\", \"epoch\": 3, \"model\": 20}, \"Metrics\": {\"train_absolute_loss_objective\": {\"sum\": 0.38194679737091064, \"count\": 1, \"min\": 0.38194679737091064, \"max\": 0.38194679737091064}}}\u001b[0m\n",
      "\u001b[34m#metrics {\"StartTime\": 1646242383.3546844, \"EndTime\": 1646242383.3546937, \"Dimensions\": {\"Algorithm\": \"Linear Learner\", \"Host\": \"algo-1\", \"Operation\": \"training\", \"epoch\": 3, \"model\": 21}, \"Metrics\": {\"train_absolute_loss_objective\": {\"sum\": 0.38293229579925536, \"count\": 1, \"min\": 0.38293229579925536, \"max\": 0.38293229579925536}}}\u001b[0m\n",
      "\u001b[34m#metrics {\"StartTime\": 1646242383.3547366, \"EndTime\": 1646242383.354746, \"Dimensions\": {\"Algorithm\": \"Linear Learner\", \"Host\": \"algo-1\", \"Operation\": \"training\", \"epoch\": 3, \"model\": 22}, \"Metrics\": {\"train_absolute_loss_objective\": {\"sum\": 0.3675335383415222, \"count\": 1, \"min\": 0.3675335383415222, \"max\": 0.3675335383415222}}}\u001b[0m\n",
      "\u001b[34m#metrics {\"StartTime\": 1646242383.354783, \"EndTime\": 1646242383.354797, \"Dimensions\": {\"Algorithm\": \"Linear Learner\", \"Host\": \"algo-1\", \"Operation\": \"training\", \"epoch\": 3, \"model\": 23}, \"Metrics\": {\"train_absolute_loss_objective\": {\"sum\": 0.3756399655342102, \"count\": 1, \"min\": 0.3756399655342102, \"max\": 0.3756399655342102}}}\u001b[0m\n",
      "\u001b[34m#metrics {\"StartTime\": 1646242383.3548439, \"EndTime\": 1646242383.3548594, \"Dimensions\": {\"Algorithm\": \"Linear Learner\", \"Host\": \"algo-1\", \"Operation\": \"training\", \"epoch\": 3, \"model\": 24}, \"Metrics\": {\"train_absolute_loss_objective\": {\"sum\": 0.8941983318328858, \"count\": 1, \"min\": 0.8941983318328858, \"max\": 0.8941983318328858}}}\u001b[0m\n",
      "\u001b[34m#metrics {\"StartTime\": 1646242383.35491, \"EndTime\": 1646242383.3549254, \"Dimensions\": {\"Algorithm\": \"Linear Learner\", \"Host\": \"algo-1\", \"Operation\": \"training\", \"epoch\": 3, \"model\": 25}, \"Metrics\": {\"train_absolute_loss_objective\": {\"sum\": 0.8759813690185547, \"count\": 1, \"min\": 0.8759813690185547, \"max\": 0.8759813690185547}}}\u001b[0m\n",
      "\u001b[34m#metrics {\"StartTime\": 1646242383.354971, \"EndTime\": 1646242383.354981, \"Dimensions\": {\"Algorithm\": \"Linear Learner\", \"Host\": \"algo-1\", \"Operation\": \"training\", \"epoch\": 3, \"model\": 26}, \"Metrics\": {\"train_absolute_loss_objective\": {\"sum\": 0.8846379947662354, \"count\": 1, \"min\": 0.8846379947662354, \"max\": 0.8846379947662354}}}\u001b[0m\n",
      "\u001b[34m#metrics {\"StartTime\": 1646242383.3550184, \"EndTime\": 1646242383.3550336, \"Dimensions\": {\"Algorithm\": \"Linear Learner\", \"Host\": \"algo-1\", \"Operation\": \"training\", \"epoch\": 3, \"model\": 27}, \"Metrics\": {\"train_absolute_loss_objective\": {\"sum\": 0.8871202945709229, \"count\": 1, \"min\": 0.8871202945709229, \"max\": 0.8871202945709229}}}\u001b[0m\n",
      "\u001b[34m#metrics {\"StartTime\": 1646242383.3550828, \"EndTime\": 1646242383.3550975, \"Dimensions\": {\"Algorithm\": \"Linear Learner\", \"Host\": \"algo-1\", \"Operation\": \"training\", \"epoch\": 3, \"model\": 28}, \"Metrics\": {\"train_absolute_loss_objective\": {\"sum\": 0.9066216850280762, \"count\": 1, \"min\": 0.9066216850280762, \"max\": 0.9066216850280762}}}\u001b[0m\n",
      "\u001b[34m#metrics {\"StartTime\": 1646242383.3551579, \"EndTime\": 1646242383.3551753, \"Dimensions\": {\"Algorithm\": \"Linear Learner\", \"Host\": \"algo-1\", \"Operation\": \"training\", \"epoch\": 3, \"model\": 29}, \"Metrics\": {\"train_absolute_loss_objective\": {\"sum\": 0.9093164253234863, \"count\": 1, \"min\": 0.9093164253234863, \"max\": 0.9093164253234863}}}\u001b[0m\n",
      "\u001b[34m#metrics {\"StartTime\": 1646242383.355225, \"EndTime\": 1646242383.3552403, \"Dimensions\": {\"Algorithm\": \"Linear Learner\", \"Host\": \"algo-1\", \"Operation\": \"training\", \"epoch\": 3, \"model\": 30}, \"Metrics\": {\"train_absolute_loss_objective\": {\"sum\": 0.9258640670776367, \"count\": 1, \"min\": 0.9258640670776367, \"max\": 0.9258640670776367}}}\u001b[0m\n",
      "\u001b[34m#metrics {\"StartTime\": 1646242383.3552916, \"EndTime\": 1646242383.3553064, \"Dimensions\": {\"Algorithm\": \"Linear Learner\", \"Host\": \"algo-1\", \"Operation\": \"training\", \"epoch\": 3, \"model\": 31}, \"Metrics\": {\"train_absolute_loss_objective\": {\"sum\": 0.9127506256103516, \"count\": 1, \"min\": 0.9127506256103516, \"max\": 0.9127506256103516}}}\u001b[0m\n",
      "\u001b[34m[03/02/2022 17:33:03 INFO 139717753841472] #quality_metric: host=algo-1, epoch=3, train absolute_loss_objective <loss>=0.8191282749176025\u001b[0m\n",
      "\u001b[34m[03/02/2022 17:33:03 INFO 139717753841472] #early_stopping_criteria_metric: host=algo-1, epoch=3, criteria=absolute_loss_objective, value=0.3038103365898132\u001b[0m\n",
      "\u001b[34m[03/02/2022 17:33:03 INFO 139717753841472] Saving model for epoch: 3\u001b[0m\n",
      "\u001b[34m[03/02/2022 17:33:03 INFO 139717753841472] Saved checkpoint to \"/tmp/tmp7x24l3nc/mx-mod-0000.params\"\u001b[0m\n",
      "\u001b[34m[03/02/2022 17:33:03 INFO 139717753841472] #progress_metric: host=algo-1, completed 80.0 % of epochs\u001b[0m\n",
      "\u001b[34m#metrics {\"StartTime\": 1646242383.2417803, \"EndTime\": 1646242383.3632863, \"Dimensions\": {\"Algorithm\": \"Linear Learner\", \"Host\": \"algo-1\", \"Operation\": \"training\", \"epoch\": 3, \"Meta\": \"training_data_iter\"}, \"Metrics\": {\"Total Records Seen\": {\"sum\": 135.0, \"count\": 1, \"min\": 135, \"max\": 135}, \"Total Batches Seen\": {\"sum\": 31.0, \"count\": 1, \"min\": 31, \"max\": 31}, \"Max Records Seen Between Resets\": {\"sum\": 26.0, \"count\": 1, \"min\": 26, \"max\": 26}, \"Max Batches Seen Between Resets\": {\"sum\": 6.0, \"count\": 1, \"min\": 6, \"max\": 6}, \"Reset Count\": {\"sum\": 6.0, \"count\": 1, \"min\": 6, \"max\": 6}, \"Number of Records Since Last Reset\": {\"sum\": 26.0, \"count\": 1, \"min\": 26, \"max\": 26}, \"Number of Batches Since Last Reset\": {\"sum\": 6.0, \"count\": 1, \"min\": 6, \"max\": 6}}}\u001b[0m\n",
      "\u001b[34m[03/02/2022 17:33:03 INFO 139717753841472] #throughput_metric: host=algo-1, train throughput=213.7275232342554 records/second\u001b[0m\n",
      "\u001b[34m[2022-03-02 17:33:03.493] [tensorio] [info] epoch_stats={\"data_pipeline\": \"/opt/ml/input/data/train\", \"epoch\": 12, \"duration\": 129, \"num_examples\": 6, \"num_bytes\": 1248}\u001b[0m\n",
      "\u001b[34m#metrics {\"StartTime\": 1646242383.4935434, \"EndTime\": 1646242383.4936304, \"Dimensions\": {\"Algorithm\": \"Linear Learner\", \"Host\": \"algo-1\", \"Operation\": \"training\", \"epoch\": 4, \"model\": 0}, \"Metrics\": {\"train_absolute_loss_objective\": {\"sum\": 0.798541145324707, \"count\": 1, \"min\": 0.798541145324707, \"max\": 0.798541145324707}}}\u001b[0m\n",
      "\u001b[34m#metrics {\"StartTime\": 1646242383.4937272, \"EndTime\": 1646242383.4937453, \"Dimensions\": {\"Algorithm\": \"Linear Learner\", \"Host\": \"algo-1\", \"Operation\": \"training\", \"epoch\": 4, \"model\": 1}, \"Metrics\": {\"train_absolute_loss_objective\": {\"sum\": 0.8167867660522461, \"count\": 1, \"min\": 0.8167867660522461, \"max\": 0.8167867660522461}}}\u001b[0m\n",
      "\u001b[34m#metrics {\"StartTime\": 1646242383.4937959, \"EndTime\": 1646242383.4938104, \"Dimensions\": {\"Algorithm\": \"Linear Learner\", \"Host\": \"algo-1\", \"Operation\": \"training\", \"epoch\": 4, \"model\": 2}, \"Metrics\": {\"train_absolute_loss_objective\": {\"sum\": 0.8008227348327637, \"count\": 1, \"min\": 0.8008227348327637, \"max\": 0.8008227348327637}}}\u001b[0m\n",
      "\u001b[34m#metrics {\"StartTime\": 1646242383.493856, \"EndTime\": 1646242383.4938693, \"Dimensions\": {\"Algorithm\": \"Linear Learner\", \"Host\": \"algo-1\", \"Operation\": \"training\", \"epoch\": 4, \"model\": 3}, \"Metrics\": {\"train_absolute_loss_objective\": {\"sum\": 0.8158242321014404, \"count\": 1, \"min\": 0.8158242321014404, \"max\": 0.8158242321014404}}}\u001b[0m\n",
      "\u001b[34m#metrics {\"StartTime\": 1646242383.4939113, \"EndTime\": 1646242383.4939234, \"Dimensions\": {\"Algorithm\": \"Linear Learner\", \"Host\": \"algo-1\", \"Operation\": \"training\", \"epoch\": 4, \"model\": 4}, \"Metrics\": {\"train_absolute_loss_objective\": {\"sum\": 0.19810744047164916, \"count\": 1, \"min\": 0.19810744047164916, \"max\": 0.19810744047164916}}}\u001b[0m\n",
      "\u001b[34m#metrics {\"StartTime\": 1646242383.4939733, \"EndTime\": 1646242383.4939892, \"Dimensions\": {\"Algorithm\": \"Linear Learner\", \"Host\": \"algo-1\", \"Operation\": \"training\", \"epoch\": 4, \"model\": 5}, \"Metrics\": {\"train_absolute_loss_objective\": {\"sum\": 0.1953550696372986, \"count\": 1, \"min\": 0.1953550696372986, \"max\": 0.1953550696372986}}}\u001b[0m\n",
      "\u001b[34m#metrics {\"StartTime\": 1646242383.4940379, \"EndTime\": 1646242383.4940526, \"Dimensions\": {\"Algorithm\": \"Linear Learner\", \"Host\": \"algo-1\", \"Operation\": \"training\", \"epoch\": 4, \"model\": 6}, \"Metrics\": {\"train_absolute_loss_objective\": {\"sum\": 0.23924426555633546, \"count\": 1, \"min\": 0.23924426555633546, \"max\": 0.23924426555633546}}}\u001b[0m\n",
      "\u001b[34m#metrics {\"StartTime\": 1646242383.494103, \"EndTime\": 1646242383.4941185, \"Dimensions\": {\"Algorithm\": \"Linear Learner\", \"Host\": \"algo-1\", \"Operation\": \"training\", \"epoch\": 4, \"model\": 7}, \"Metrics\": {\"train_absolute_loss_objective\": {\"sum\": 0.2889958167076111, \"count\": 1, \"min\": 0.2889958167076111, \"max\": 0.2889958167076111}}}\u001b[0m\n",
      "\u001b[34m#metrics {\"StartTime\": 1646242383.494164, \"EndTime\": 1646242383.4941797, \"Dimensions\": {\"Algorithm\": \"Linear Learner\", \"Host\": \"algo-1\", \"Operation\": \"training\", \"epoch\": 4, \"model\": 8}, \"Metrics\": {\"train_absolute_loss_objective\": {\"sum\": 0.8514299964904786, \"count\": 1, \"min\": 0.8514299964904786, \"max\": 0.8514299964904786}}}\u001b[0m\n",
      "\u001b[34m#metrics {\"StartTime\": 1646242383.4942293, \"EndTime\": 1646242383.4942439, \"Dimensions\": {\"Algorithm\": \"Linear Learner\", \"Host\": \"algo-1\", \"Operation\": \"training\", \"epoch\": 4, \"model\": 9}, \"Metrics\": {\"train_absolute_loss_objective\": {\"sum\": 0.7865816116333008, \"count\": 1, \"min\": 0.7865816116333008, \"max\": 0.7865816116333008}}}\u001b[0m\n",
      "\u001b[34m#metrics {\"StartTime\": 1646242383.4942894, \"EndTime\": 1646242383.4943037, \"Dimensions\": {\"Algorithm\": \"Linear Learner\", \"Host\": \"algo-1\", \"Operation\": \"training\", \"epoch\": 4, \"model\": 10}, \"Metrics\": {\"train_absolute_loss_objective\": {\"sum\": 0.7935076427459716, \"count\": 1, \"min\": 0.7935076427459716, \"max\": 0.7935076427459716}}}\u001b[0m\n",
      "\u001b[34m#metrics {\"StartTime\": 1646242383.4943502, \"EndTime\": 1646242383.494364, \"Dimensions\": {\"Algorithm\": \"Linear Learner\", \"Host\": \"algo-1\", \"Operation\": \"training\", \"epoch\": 4, \"model\": 11}, \"Metrics\": {\"train_absolute_loss_objective\": {\"sum\": 0.7789057064056396, \"count\": 1, \"min\": 0.7789057064056396, \"max\": 0.7789057064056396}}}\u001b[0m\n",
      "\u001b[34m#metrics {\"StartTime\": 1646242383.4944136, \"EndTime\": 1646242383.4944293, \"Dimensions\": {\"Algorithm\": \"Linear Learner\", \"Host\": \"algo-1\", \"Operation\": \"training\", \"epoch\": 4, \"model\": 12}, \"Metrics\": {\"train_absolute_loss_objective\": {\"sum\": 0.19030506849288942, \"count\": 1, \"min\": 0.19030506849288942, \"max\": 0.19030506849288942}}}\u001b[0m\n",
      "\u001b[34m#metrics {\"StartTime\": 1646242383.4945116, \"EndTime\": 1646242383.4945297, \"Dimensions\": {\"Algorithm\": \"Linear Learner\", \"Host\": \"algo-1\", \"Operation\": \"training\", \"epoch\": 4, \"model\": 13}, \"Metrics\": {\"train_absolute_loss_objective\": {\"sum\": 0.3058708381652832, \"count\": 1, \"min\": 0.3058708381652832, \"max\": 0.3058708381652832}}}\u001b[0m\n",
      "\u001b[34m#metrics {\"StartTime\": 1646242383.4945838, \"EndTime\": 1646242383.4945993, \"Dimensions\": {\"Algorithm\": \"Linear Learner\", \"Host\": \"algo-1\", \"Operation\": \"training\", \"epoch\": 4, \"model\": 14}, \"Metrics\": {\"train_absolute_loss_objective\": {\"sum\": 0.19078027725219726, \"count\": 1, \"min\": 0.19078027725219726, \"max\": 0.19078027725219726}}}\u001b[0m\n",
      "\u001b[34m#metrics {\"StartTime\": 1646242383.4946492, \"EndTime\": 1646242383.4946651, \"Dimensions\": {\"Algorithm\": \"Linear Learner\", \"Host\": \"algo-1\", \"Operation\": \"training\", \"epoch\": 4, \"model\": 15}, \"Metrics\": {\"train_absolute_loss_objective\": {\"sum\": 0.19928146362304688, \"count\": 1, \"min\": 0.19928146362304688, \"max\": 0.19928146362304688}}}\u001b[0m\n",
      "\u001b[34m#metrics {\"StartTime\": 1646242383.4947135, \"EndTime\": 1646242383.494729, \"Dimensions\": {\"Algorithm\": \"Linear Learner\", \"Host\": \"algo-1\", \"Operation\": \"training\", \"epoch\": 4, \"model\": 16}, \"Metrics\": {\"train_absolute_loss_objective\": {\"sum\": 0.7657988452911377, \"count\": 1, \"min\": 0.7657988452911377, \"max\": 0.7657988452911377}}}\u001b[0m\n",
      "\u001b[34m#metrics {\"StartTime\": 1646242383.4947782, \"EndTime\": 1646242383.4947948, \"Dimensions\": {\"Algorithm\": \"Linear Learner\", \"Host\": \"algo-1\", \"Operation\": \"training\", \"epoch\": 4, \"model\": 17}, \"Metrics\": {\"train_absolute_loss_objective\": {\"sum\": 0.8131977081298828, \"count\": 1, \"min\": 0.8131977081298828, \"max\": 0.8131977081298828}}}\u001b[0m\n",
      "\u001b[34m#metrics {\"StartTime\": 1646242383.4948442, \"EndTime\": 1646242383.4948587, \"Dimensions\": {\"Algorithm\": \"Linear Learner\", \"Host\": \"algo-1\", \"Operation\": \"training\", \"epoch\": 4, \"model\": 18}, \"Metrics\": {\"train_absolute_loss_objective\": {\"sum\": 0.7911183643341064, \"count\": 1, \"min\": 0.7911183643341064, \"max\": 0.7911183643341064}}}\u001b[0m\n",
      "\u001b[34m#metrics {\"StartTime\": 1646242383.4949045, \"EndTime\": 1646242383.4949205, \"Dimensions\": {\"Algorithm\": \"Linear Learner\", \"Host\": \"algo-1\", \"Operation\": \"training\", \"epoch\": 4, \"model\": 19}, \"Metrics\": {\"train_absolute_loss_objective\": {\"sum\": 0.7880165290832519, \"count\": 1, \"min\": 0.7880165290832519, \"max\": 0.7880165290832519}}}\u001b[0m\n",
      "\u001b[34m#metrics {\"StartTime\": 1646242383.4949687, \"EndTime\": 1646242383.4949834, \"Dimensions\": {\"Algorithm\": \"Linear Learner\", \"Host\": \"algo-1\", \"Operation\": \"training\", \"epoch\": 4, \"model\": 20}, \"Metrics\": {\"train_absolute_loss_objective\": {\"sum\": 0.41703773975372316, \"count\": 1, \"min\": 0.41703773975372316, \"max\": 0.41703773975372316}}}\u001b[0m\n",
      "\u001b[34m#metrics {\"StartTime\": 1646242383.4950333, \"EndTime\": 1646242383.4950488, \"Dimensions\": {\"Algorithm\": \"Linear Learner\", \"Host\": \"algo-1\", \"Operation\": \"training\", \"epoch\": 4, \"model\": 21}, \"Metrics\": {\"train_absolute_loss_objective\": {\"sum\": 0.43365767002105715, \"count\": 1, \"min\": 0.43365767002105715, \"max\": 0.43365767002105715}}}\u001b[0m\n",
      "\u001b[34m#metrics {\"StartTime\": 1646242383.4950995, \"EndTime\": 1646242383.4951155, \"Dimensions\": {\"Algorithm\": \"Linear Learner\", \"Host\": \"algo-1\", \"Operation\": \"training\", \"epoch\": 4, \"model\": 22}, \"Metrics\": {\"train_absolute_loss_objective\": {\"sum\": 0.30643200874328613, \"count\": 1, \"min\": 0.30643200874328613, \"max\": 0.30643200874328613}}}\u001b[0m\n",
      "\u001b[34m#metrics {\"StartTime\": 1646242383.4951642, \"EndTime\": 1646242383.495179, \"Dimensions\": {\"Algorithm\": \"Linear Learner\", \"Host\": \"algo-1\", \"Operation\": \"training\", \"epoch\": 4, \"model\": 23}, \"Metrics\": {\"train_absolute_loss_objective\": {\"sum\": 0.4207289171218872, \"count\": 1, \"min\": 0.4207289171218872, \"max\": 0.4207289171218872}}}\u001b[0m\n",
      "\u001b[34m#metrics {\"StartTime\": 1646242383.495228, \"EndTime\": 1646242383.495243, \"Dimensions\": {\"Algorithm\": \"Linear Learner\", \"Host\": \"algo-1\", \"Operation\": \"training\", \"epoch\": 4, \"model\": 24}, \"Metrics\": {\"train_absolute_loss_objective\": {\"sum\": 0.8974534511566162, \"count\": 1, \"min\": 0.8974534511566162, \"max\": 0.8974534511566162}}}\u001b[0m\n",
      "\u001b[34m#metrics {\"StartTime\": 1646242383.4952922, \"EndTime\": 1646242383.495308, \"Dimensions\": {\"Algorithm\": \"Linear Learner\", \"Host\": \"algo-1\", \"Operation\": \"training\", \"epoch\": 4, \"model\": 25}, \"Metrics\": {\"train_absolute_loss_objective\": {\"sum\": 0.8794008445739746, \"count\": 1, \"min\": 0.8794008445739746, \"max\": 0.8794008445739746}}}\u001b[0m\n",
      "\u001b[34m#metrics {\"StartTime\": 1646242383.4953578, \"EndTime\": 1646242383.4953725, \"Dimensions\": {\"Algorithm\": \"Linear Learner\", \"Host\": \"algo-1\", \"Operation\": \"training\", \"epoch\": 4, \"model\": 26}, \"Metrics\": {\"train_absolute_loss_objective\": {\"sum\": 0.8895979881286621, \"count\": 1, \"min\": 0.8895979881286621, \"max\": 0.8895979881286621}}}\u001b[0m\n",
      "\u001b[34m#metrics {\"StartTime\": 1646242383.4954238, \"EndTime\": 1646242383.4954395, \"Dimensions\": {\"Algorithm\": \"Linear Learner\", \"Host\": \"algo-1\", \"Operation\": \"training\", \"epoch\": 4, \"model\": 27}, \"Metrics\": {\"train_absolute_loss_objective\": {\"sum\": 0.882908763885498, \"count\": 1, \"min\": 0.882908763885498, \"max\": 0.882908763885498}}}\u001b[0m\n",
      "\u001b[34m#metrics {\"StartTime\": 1646242383.4954882, \"EndTime\": 1646242383.4955032, \"Dimensions\": {\"Algorithm\": \"Linear Learner\", \"Host\": \"algo-1\", \"Operation\": \"training\", \"epoch\": 4, \"model\": 28}, \"Metrics\": {\"train_absolute_loss_objective\": {\"sum\": 1.0274510383605957, \"count\": 1, \"min\": 1.0274510383605957, \"max\": 1.0274510383605957}}}\u001b[0m\n",
      "\u001b[34m#metrics {\"StartTime\": 1646242383.4955528, \"EndTime\": 1646242383.4955683, \"Dimensions\": {\"Algorithm\": \"Linear Learner\", \"Host\": \"algo-1\", \"Operation\": \"training\", \"epoch\": 4, \"model\": 29}, \"Metrics\": {\"train_absolute_loss_objective\": {\"sum\": 1.0305908298492432, \"count\": 1, \"min\": 1.0305908298492432, \"max\": 1.0305908298492432}}}\u001b[0m\n",
      "\u001b[34m#metrics {\"StartTime\": 1646242383.4956188, \"EndTime\": 1646242383.495634, \"Dimensions\": {\"Algorithm\": \"Linear Learner\", \"Host\": \"algo-1\", \"Operation\": \"training\", \"epoch\": 4, \"model\": 30}, \"Metrics\": {\"train_absolute_loss_objective\": {\"sum\": 0.911398572921753, \"count\": 1, \"min\": 0.911398572921753, \"max\": 0.911398572921753}}}\u001b[0m\n",
      "\u001b[34m#metrics {\"StartTime\": 1646242383.495684, \"EndTime\": 1646242383.4956985, \"Dimensions\": {\"Algorithm\": \"Linear Learner\", \"Host\": \"algo-1\", \"Operation\": \"training\", \"epoch\": 4, \"model\": 31}, \"Metrics\": {\"train_absolute_loss_objective\": {\"sum\": 0.9236359786987305, \"count\": 1, \"min\": 0.9236359786987305, \"max\": 0.9236359786987305}}}\u001b[0m\n",
      "\u001b[34m[03/02/2022 17:33:03 INFO 139717753841472] #quality_metric: host=algo-1, epoch=4, train absolute_loss_objective <loss>=0.798541145324707\u001b[0m\n",
      "\u001b[34m[03/02/2022 17:33:03 INFO 139717753841472] #early_stopping_criteria_metric: host=algo-1, epoch=4, criteria=absolute_loss_objective, value=0.19030506849288942\u001b[0m\n",
      "\u001b[34m[03/02/2022 17:33:03 INFO 139717753841472] Epoch 4: Loss improved. Updating best model\u001b[0m\n",
      "\u001b[34m[03/02/2022 17:33:03 INFO 139717753841472] Saving model for epoch: 4\u001b[0m\n",
      "\u001b[34m[03/02/2022 17:33:03 INFO 139717753841472] Saved checkpoint to \"/tmp/tmpd563681d/mx-mod-0000.params\"\u001b[0m\n",
      "\u001b[34m[03/02/2022 17:33:03 INFO 139717753841472] #progress_metric: host=algo-1, completed 100.0 % of epochs\u001b[0m\n",
      "\u001b[34m#metrics {\"StartTime\": 1646242383.363597, \"EndTime\": 1646242383.504728, \"Dimensions\": {\"Algorithm\": \"Linear Learner\", \"Host\": \"algo-1\", \"Operation\": \"training\", \"epoch\": 4, \"Meta\": \"training_data_iter\"}, \"Metrics\": {\"Total Records Seen\": {\"sum\": 161.0, \"count\": 1, \"min\": 161, \"max\": 161}, \"Total Batches Seen\": {\"sum\": 37.0, \"count\": 1, \"min\": 37, \"max\": 37}, \"Max Records Seen Between Resets\": {\"sum\": 26.0, \"count\": 1, \"min\": 26, \"max\": 26}, \"Max Batches Seen Between Resets\": {\"sum\": 6.0, \"count\": 1, \"min\": 6, \"max\": 6}, \"Reset Count\": {\"sum\": 7.0, \"count\": 1, \"min\": 7, \"max\": 7}, \"Number of Records Since Last Reset\": {\"sum\": 26.0, \"count\": 1, \"min\": 26, \"max\": 26}, \"Number of Batches Since Last Reset\": {\"sum\": 6.0, \"count\": 1, \"min\": 6, \"max\": 6}}}\u001b[0m\n",
      "\u001b[34m[03/02/2022 17:33:03 INFO 139717753841472] #throughput_metric: host=algo-1, train throughput=184.0109881580324 records/second\u001b[0m\n",
      "\u001b[34m[03/02/2022 17:33:03 WARNING 139717753841472] wait_for_all_workers will not sync workers since the kv store is not running distributed\u001b[0m\n",
      "\u001b[34m[03/02/2022 17:33:03 WARNING 139717753841472] wait_for_all_workers will not sync workers since the kv store is not running distributed\u001b[0m\n",
      "\u001b[34m[2022-03-02 17:33:03.505] [tensorio] [info] epoch_stats={\"data_pipeline\": \"/opt/ml/input/data/train\", \"epoch\": 14, \"duration\": 0, \"num_examples\": 1, \"num_bytes\": 240}\u001b[0m\n",
      "\u001b[34m[2022-03-02 17:33:03.523] [tensorio] [info] epoch_stats={\"data_pipeline\": \"/opt/ml/input/data/train\", \"epoch\": 16, \"duration\": 15, \"num_examples\": 6, \"num_bytes\": 1248}\u001b[0m\n",
      "\u001b[34m[03/02/2022 17:33:03 INFO 139717753841472] #train_score (algo-1) : ('absolute_loss_objective', 6079.222205528846)\u001b[0m\n",
      "\u001b[34m[03/02/2022 17:33:03 INFO 139717753841472] #train_score (algo-1) : ('mse', 54604085.538461536)\u001b[0m\n",
      "\u001b[34m[03/02/2022 17:33:03 INFO 139717753841472] #train_score (algo-1) : ('absolute_loss', 6079.222205528846)\u001b[0m\n",
      "\u001b[34m[03/02/2022 17:33:03 INFO 139717753841472] #train_score (algo-1) : ('rmse', 7389.457729662004)\u001b[0m\n",
      "\u001b[34m[03/02/2022 17:33:03 INFO 139717753841472] #train_score (algo-1) : ('r2', 0.9403232476532972)\u001b[0m\n",
      "\u001b[34m[03/02/2022 17:33:03 INFO 139717753841472] #train_score (algo-1) : ('mae', 6079.222205528846)\u001b[0m\n",
      "\u001b[34m[03/02/2022 17:33:03 INFO 139717753841472] #quality_metric: host=algo-1, train absolute_loss_objective <loss>=6079.222205528846\u001b[0m\n",
      "\u001b[34m[03/02/2022 17:33:03 INFO 139717753841472] #quality_metric: host=algo-1, train mse <loss>=54604085.538461536\u001b[0m\n",
      "\u001b[34m[03/02/2022 17:33:03 INFO 139717753841472] #quality_metric: host=algo-1, train absolute_loss <loss>=6079.222205528846\u001b[0m\n",
      "\u001b[34m[03/02/2022 17:33:03 INFO 139717753841472] #quality_metric: host=algo-1, train rmse <loss>=7389.457729662004\u001b[0m\n",
      "\u001b[34m[03/02/2022 17:33:03 INFO 139717753841472] #quality_metric: host=algo-1, train r2 <loss>=0.9403232476532972\u001b[0m\n",
      "\u001b[34m[03/02/2022 17:33:03 INFO 139717753841472] #quality_metric: host=algo-1, train mae <loss>=6079.222205528846\u001b[0m\n",
      "\u001b[34m[03/02/2022 17:33:03 INFO 139717753841472] Best model found for hyperparameters: {\"optimizer\": \"adam\", \"learning_rate\": 0.1, \"wd\": 0.01, \"l1\": 0.0, \"lr_scheduler_step\": 10, \"lr_scheduler_factor\": 0.99, \"lr_scheduler_minimum_lr\": 1e-05}\u001b[0m\n",
      "\u001b[34m[03/02/2022 17:33:03 INFO 139717753841472] Saved checkpoint to \"/tmp/tmpl90zcuhl/mx-mod-0000.params\"\u001b[0m\n",
      "\u001b[34m[03/02/2022 17:33:03 INFO 139717753841472] Test data is not provided.\u001b[0m\n",
      "\u001b[34m#metrics {\"StartTime\": 1646242382.6205807, \"EndTime\": 1646242383.5355022, \"Dimensions\": {\"Algorithm\": \"Linear Learner\", \"Host\": \"algo-1\", \"Operation\": \"training\"}, \"Metrics\": {\"initialize.time\": {\"sum\": 236.03129386901855, \"count\": 1, \"min\": 236.03129386901855, \"max\": 236.03129386901855}, \"epochs\": {\"sum\": 5.0, \"count\": 1, \"min\": 5, \"max\": 5}, \"check_early_stopping.time\": {\"sum\": 4.652976989746094, \"count\": 5, \"min\": 0.20384788513183594, \"max\": 1.2309551239013672}, \"update.time\": {\"sum\": 628.8435459136963, \"count\": 5, \"min\": 111.1459732055664, \"max\": 147.01485633850098}, \"finalize.time\": {\"sum\": 23.63753318786621, \"count\": 1, \"min\": 23.63753318786621, \"max\": 23.63753318786621}, \"setuptime\": {\"sum\": 26.885986328125, \"count\": 1, \"min\": 26.885986328125, \"max\": 26.885986328125}, \"totaltime\": {\"sum\": 1303.4746646881104, \"count\": 1, \"min\": 1303.4746646881104, \"max\": 1303.4746646881104}}}\u001b[0m\n",
      "\n",
      "2022-03-02 17:33:25 Completed - Training job completed\n",
      "Training seconds: 47\n",
      "Billable seconds: 47\n"
     ]
    }
   ],
   "source": [
    "# this time we will take advantage of spot instances to reduce our billable seconds\n",
    "# we also set `max_run` as a way to set a timeout in seconds for the training run time\n",
    "# and `max_wait` as a time in seconds to wait for a spot instance to become available\n",
    "# before falling back to our on-demand instance\n",
    "# this means that the run could take longer in total as we wait for spot instances to\n",
    "# become available but should save us money if spot instances are available within our\n",
    "# limits\n",
    "linear_efficient = sagemaker.estimator.Estimator(container,\n",
    "                                                 role, \n",
    "                                                 instance_count = 1, \n",
    "                                                 instance_type = 'ml.c4.xlarge',\n",
    "                                                 output_path = output_location,\n",
    "                                                 sagemaker_session = sagemaker_session,\n",
    "                                                 use_spot_instances = True,\n",
    "                                                 max_run = 300,\n",
    "                                                 max_wait = 600)\n",
    "# now we run as before...\n",
    "\n",
    "linear.set_hyperparameters(feature_dim = 1,\n",
    "                           predictor_type = 'regressor',\n",
    "                           mini_batch_size = 5,\n",
    "                           epochs = 5,\n",
    "                           num_models = 32,\n",
    "                           loss = 'absolute_loss')\n",
    "\n",
    "linear.fit({'train': s3_train_data})"
   ]
  },
  {
   "cell_type": "markdown",
   "metadata": {},
   "source": [
    "Hmm, in the first run that I did there were no savings. Training took 47s and billed was also 47s. This might have been due to spot instances not being available, but I don't think I waited for 10m :thinking_face:"
   ]
  },
  {
   "cell_type": "markdown",
   "metadata": {},
   "source": [
    "# TASK #8: DEPLOY AND TEST THE TRAINED LINEAR LEARNER MODEL "
   ]
  },
  {
   "cell_type": "code",
   "execution_count": 49,
   "metadata": {},
   "outputs": [
    {
     "name": "stdout",
     "output_type": "stream",
     "text": [
      "---------------!"
     ]
    }
   ],
   "source": [
    "# Deploying the model to perform inference \n",
    "\n",
    "linear_regressor = linear.deploy(initial_instance_count = 1,\n",
    "                                          instance_type = 'ml.m4.xlarge')"
   ]
  },
  {
   "cell_type": "code",
   "execution_count": 52,
   "metadata": {},
   "outputs": [],
   "source": [
    "from sagemaker.predictor import csv_serializer, json_deserializer\n",
    "\n",
    "# Content type overrides the data that will be passed to the deployed model, since the deployed model expects data in text/csv format.\n",
    "\n",
    "# Serializer accepts a single argument, the input data, and returns a sequence of bytes in the specified content type\n",
    "\n",
    "# Deserializer accepts two arguments, the result data and the response content type, and return a sequence of bytes in the specified content type.\n",
    "\n",
    "# Reference: https://sagemaker.readthedocs.io/en/stable/predictors.html\n",
    "\n",
    "# linear_regressor.content_type = 'text/csv'\n",
    "linear_regressor.serializer = csv_serializer\n",
    "linear_regressor.deserializer = json_deserializer"
   ]
  },
  {
   "cell_type": "code",
   "execution_count": 53,
   "metadata": {},
   "outputs": [
    {
     "name": "stderr",
     "output_type": "stream",
     "text": [
      "The csv_serializer has been renamed in sagemaker>=2.\n",
      "See: https://sagemaker.readthedocs.io/en/stable/v2.html for details.\n",
      "The json_deserializer has been renamed in sagemaker>=2.\n",
      "See: https://sagemaker.readthedocs.io/en/stable/v2.html for details.\n"
     ]
    }
   ],
   "source": [
    "# making prediction on the test data\n",
    "\n",
    "result = linear_regressor.predict(X_test)"
   ]
  },
  {
   "cell_type": "code",
   "execution_count": 54,
   "metadata": {},
   "outputs": [
    {
     "data": {
      "text/plain": [
       "{'predictions': [{'score': 110375.671875},\n",
       "  {'score': 95310.7265625},\n",
       "  {'score': 144271.78125},\n",
       "  {'score': 49174.34375},\n",
       "  {'score': 47291.2265625},\n",
       "  {'score': 67063.9609375},\n",
       "  {'score': 155570.5}]}"
      ]
     },
     "execution_count": 54,
     "metadata": {},
     "output_type": "execute_result"
    }
   ],
   "source": [
    "result # results are in Json format"
   ]
  },
  {
   "cell_type": "code",
   "execution_count": 55,
   "metadata": {},
   "outputs": [],
   "source": [
    "# Since the result is in json format, we access the scores by iterating through the scores in the predictions\n",
    "\n",
    "predictions = np.array([r['score'] for r in result['predictions']])"
   ]
  },
  {
   "cell_type": "code",
   "execution_count": 56,
   "metadata": {},
   "outputs": [
    {
     "data": {
      "text/plain": [
       "array([110375.671875 ,  95310.7265625, 144271.78125  ,  49174.34375  ,\n",
       "        47291.2265625,  67063.9609375, 155570.5      ])"
      ]
     },
     "execution_count": 56,
     "metadata": {},
     "output_type": "execute_result"
    }
   ],
   "source": [
    "predictions"
   ]
  },
  {
   "cell_type": "code",
   "execution_count": 57,
   "metadata": {
    "scrolled": true
   },
   "outputs": [
    {
     "data": {
      "text/plain": [
       "(7,)"
      ]
     },
     "execution_count": 57,
     "metadata": {},
     "output_type": "execute_result"
    }
   ],
   "source": [
    "predictions.shape"
   ]
  },
  {
   "cell_type": "code",
   "execution_count": 58,
   "metadata": {},
   "outputs": [
    {
     "data": {
      "text/plain": [
       "Text(0.5, 1.0, 'Salary vs. Years of Experience')"
      ]
     },
     "execution_count": 58,
     "metadata": {},
     "output_type": "execute_result"
    },
    {
     "data": {
      "image/png": "[encoded data removed]",
      "text/plain": [
       "<Figure size 432x288 with 1 Axes>"
      ]
     },
     "metadata": {
      "needs_background": "light"
     },
     "output_type": "display_data"
    }
   ],
   "source": [
    "# VISUALIZE TEST SET RESULTS\n",
    "plt.scatter(X_test, y_test, color = 'gray')\n",
    "plt.plot(X_test, predictions, color = 'red')\n",
    "plt.xlabel('Years of Experience (Testing Dataset)')\n",
    "plt.ylabel('salary')\n",
    "plt.title('Salary vs. Years of Experience')"
   ]
  },
  {
   "cell_type": "code",
   "execution_count": 59,
   "metadata": {},
   "outputs": [],
   "source": [
    "# Delete the end-point\n",
    "\n",
    "linear_regressor.delete_endpoint()"
   ]
  },
  {
   "cell_type": "markdown",
   "metadata": {},
   "source": [
    "# EXCELLENT JOB! NOW YOU'RE FAMILIAR WITH SAGEMAKER LINEAR LEARNER, YOU SHOULD BE PROUD OF YOUR NEWLY ACQUIRED SKILLS"
   ]
  }
 ],
 "metadata": {
  "colab": {
   "collapsed_sections": [],
   "name": "Graduate_Admission_Prediction.ipynb",
   "provenance": [],
   "toc_visible": true
  },
  "instance_type": "ml.t3.medium",
  "kernelspec": {
   "display_name": "Python 3 (Data Science)",
   "language": "python",
   "name": "python3__SAGEMAKER_INTERNAL__arn:aws:sagemaker:us-east-1:081325390199:image/datascience-1.0"
  },
  "language_info": {
   "codemirror_mode": {
    "name": "ipython",
    "version": 3
   },
   "file_extension": ".py",
   "mimetype": "text/x-python",
   "name": "python",
   "nbconvert_exporter": "python",
   "pygments_lexer": "ipython3",
   "version": "3.7.10"
  }
 },
 "nbformat": 4,
 "nbformat_minor": 4
}
